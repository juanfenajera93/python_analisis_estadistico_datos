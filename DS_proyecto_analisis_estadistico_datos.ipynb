{
 "cells": [
  {
   "cell_type": "markdown",
   "metadata": {},
   "source": [
    "# Estudio y análisis de telecomunicaciones Megaline\n",
    "\n",
    "En este proyecto se analizará información sobre la empresa de telecomunicaciones Megaline, y sus dos tarifas de prepago que ofrece a sus clientes: Surf y Ultimate. \n",
    "\n",
    "El departamento comercial quiere saber cuál de los planes genera más ingresos para ajustar el presupuesto de publicidad.\n",
    "\n",
    "Se realizará un análisis preliminar de las tarifas basado en una selección de clientes relativamente pequeña (500 clientes). Se tendrá información de quiénes son los clientes, de donde son, qué tarifas usan, la cantidad de llamadas que hicieron, los mensajes de texto que enviaron, y el consumo de datos por navegar en la web en 2018. La idea es entender el comportamiento de los clientes y determinar qué tarifa de prepago genera más ingresos. "
   ]
  },
  {
   "cell_type": "markdown",
   "metadata": {
    "toc": true
   },
   "source": [
    "<h1>Tabla de Contenidos<span class=\"tocSkip\"></span></h1>\n",
    "<div class=\"toc\"><ul class=\"toc-item\"><li><span><a href=\"#Información-general-del-estudio\" data-toc-modified-id=\"Información-general-del-estudio-1\"><span class=\"toc-item-num\">1&nbsp;&nbsp;</span>Información general del estudio</a></span></li><li><span><a href=\"#Inicialización\" data-toc-modified-id=\"Inicialización-2\"><span class=\"toc-item-num\">2&nbsp;&nbsp;</span>Inicialización</a></span><ul class=\"toc-item\"><li><span><a href=\"#Librerías\" data-toc-modified-id=\"Librerías-2.1\"><span class=\"toc-item-num\">2.1&nbsp;&nbsp;</span>Librerías</a></span></li><li><span><a href=\"#Cargar-los-datos\" data-toc-modified-id=\"Cargar-los-datos-2.2\"><span class=\"toc-item-num\">2.2&nbsp;&nbsp;</span>Cargar los datos</a></span></li><li><span><a href=\"#Estudio-de-información-general\" data-toc-modified-id=\"Estudio-de-información-general-2.3\"><span class=\"toc-item-num\">2.3&nbsp;&nbsp;</span>Estudio de información general</a></span></li><li><span><a href=\"#Preparar-los-datos\" data-toc-modified-id=\"Preparar-los-datos-2.4\"><span class=\"toc-item-num\">2.4&nbsp;&nbsp;</span>Preparar los datos</a></span><ul class=\"toc-item\"><li><span><a href=\"#Revisión-calls\" data-toc-modified-id=\"Revisión-calls-2.4.1\"><span class=\"toc-item-num\">2.4.1&nbsp;&nbsp;</span>Revisión <code>calls</code></a></span></li><li><span><a href=\"#Revisión-internet\" data-toc-modified-id=\"Revisión-internet-2.4.2\"><span class=\"toc-item-num\">2.4.2&nbsp;&nbsp;</span>Revisión <code>internet</code></a></span></li><li><span><a href=\"#Revisión-messages\" data-toc-modified-id=\"Revisión-messages-2.4.3\"><span class=\"toc-item-num\">2.4.3&nbsp;&nbsp;</span>Revisión <code>messages</code></a></span></li><li><span><a href=\"#Revisión-users\" data-toc-modified-id=\"Revisión-users-2.4.4\"><span class=\"toc-item-num\">2.4.4&nbsp;&nbsp;</span>Revisión <code>users</code></a></span></li><li><span><a href=\"#Revisión-plans\" data-toc-modified-id=\"Revisión-plans-2.4.5\"><span class=\"toc-item-num\">2.4.5&nbsp;&nbsp;</span>Revisión <code>plans</code></a></span></li><li><span><a href=\"#Análisis-por-usuario\" data-toc-modified-id=\"Análisis-por-usuario-2.4.6\"><span class=\"toc-item-num\">2.4.6&nbsp;&nbsp;</span>Análisis por usuario</a></span><ul class=\"toc-item\"><li><span><a href=\"#Número-de-llamadas-realizadas-y-minutos-utilizados-al-mes\" data-toc-modified-id=\"Número-de-llamadas-realizadas-y-minutos-utilizados-al-mes-2.4.6.1\"><span class=\"toc-item-num\">2.4.6.1&nbsp;&nbsp;</span>Número de llamadas realizadas y minutos utilizados al mes</a></span></li><li><span><a href=\"#Cantidad-de-SMS-enviados-por-mes\" data-toc-modified-id=\"Cantidad-de-SMS-enviados-por-mes-2.4.6.2\"><span class=\"toc-item-num\">2.4.6.2&nbsp;&nbsp;</span>Cantidad de SMS enviados por mes</a></span></li><li><span><a href=\"#Volumen-de-datos-por-mes\" data-toc-modified-id=\"Volumen-de-datos-por-mes-2.4.6.3\"><span class=\"toc-item-num\">2.4.6.3&nbsp;&nbsp;</span>Volumen de datos por mes</a></span></li><li><span><a href=\"#Ingresos-mensuales-por-usuario\" data-toc-modified-id=\"Ingresos-mensuales-por-usuario-2.4.6.4\"><span class=\"toc-item-num\">2.4.6.4&nbsp;&nbsp;</span>Ingresos mensuales por usuario</a></span></li></ul></li></ul></li></ul></li><li><span><a href=\"#Analizar-los-datos\" data-toc-modified-id=\"Analizar-los-datos-3\"><span class=\"toc-item-num\">3&nbsp;&nbsp;</span>Analizar los datos</a></span><ul class=\"toc-item\"><li><span><a href=\"#Comportamiento-de-los-clientes-(gráfico-de-dispersión)\" data-toc-modified-id=\"Comportamiento-de-los-clientes-(gráfico-de-dispersión)-3.1\"><span class=\"toc-item-num\">3.1&nbsp;&nbsp;</span>Comportamiento de los clientes (gráfico de dispersión)</a></span></li><li><span><a href=\"#Comportamiento-de-los-clientes-(histogramas)\" data-toc-modified-id=\"Comportamiento-de-los-clientes-(histogramas)-3.2\"><span class=\"toc-item-num\">3.2&nbsp;&nbsp;</span>Comportamiento de los clientes (histogramas)</a></span></li></ul></li><li><span><a href=\"#Prueba-de-hipótesis\" data-toc-modified-id=\"Prueba-de-hipótesis-4\"><span class=\"toc-item-num\">4&nbsp;&nbsp;</span>Prueba de hipótesis</a></span><ul class=\"toc-item\"><li><span><a href=\"#Ingreso-promedio-de-los-usuarios-de-las-tarifas-Ultimate-y-Surf-difiere.\" data-toc-modified-id=\"Ingreso-promedio-de-los-usuarios-de-las-tarifas-Ultimate-y-Surf-difiere.-4.1\"><span class=\"toc-item-num\">4.1&nbsp;&nbsp;</span>Ingreso promedio de los usuarios de las tarifas Ultimate y Surf difiere.</a></span></li><li><span><a href=\"#Ingreso-promedio-de-los-usuarios-en-el-área-de-estados-Nueva-York-Nueva-Jersey-es-diferente-al-de-los-usuarios-de-otras-regiones.\" data-toc-modified-id=\"Ingreso-promedio-de-los-usuarios-en-el-área-de-estados-Nueva-York-Nueva-Jersey-es-diferente-al-de-los-usuarios-de-otras-regiones.-4.2\"><span class=\"toc-item-num\">4.2&nbsp;&nbsp;</span>Ingreso promedio de los usuarios en el área de estados Nueva York-Nueva Jersey es diferente al de los usuarios de otras regiones.</a></span></li></ul></li><li><span><a href=\"#Conclusión-general\" data-toc-modified-id=\"Conclusión-general-5\"><span class=\"toc-item-num\">5&nbsp;&nbsp;</span>Conclusión general</a></span></li></ul></div>"
   ]
  },
  {
   "cell_type": "markdown",
   "metadata": {},
   "source": [
    "## Información general del estudio"
   ]
  },
  {
   "cell_type": "markdown",
   "metadata": {},
   "source": [
    "A continuación, se presenta información a tomar en cuenta acerca de los datos:\n",
    "\n",
    "**Llamadas:**\n",
    "- Todas las llamadas se redondean, aunque dure un segundo se contará como un minuto. \n",
    "\n",
    "**Tráfico web:**\n",
    "- Las sesiones individuales no se redondean. El total del mes se redondea hacia arriba, es decir si alguien usa 1025 megabytes un mes, se cobra 2 gigabytes.\n",
    "\n",
    "**Información planes:**\n",
    "\n",
    "**Surf:** \n",
    "1. Pago mensual: `$`20\n",
    "2. 500 minutos al mes, 50 SMS y 15 GB de datos\n",
    "3. Al excederse los límites del paquete: \n",
    "    - 1 minuto: 3 centavos\n",
    "    - 1 SMS: 3 centavos\n",
    "    - 1 GB de datos: `$`10\n",
    "    \n",
    "\n",
    "**Ultimate:** \n",
    "1. Pago mensual: `$`70\n",
    "2. 3000 minutos al mes, 1000 SMS y 30 GB de datos\n",
    "3. Al excederse los límites del paquete: \n",
    "    - 1 minuto: 1 centavos\n",
    "    - 1 SMS: 1 centavos\n",
    "    - 1 GB de datos: `$`7"
   ]
  },
  {
   "cell_type": "markdown",
   "metadata": {},
   "source": [
    "## Inicialización"
   ]
  },
  {
   "cell_type": "markdown",
   "metadata": {},
   "source": [
    "### Librerías"
   ]
  },
  {
   "cell_type": "markdown",
   "metadata": {},
   "source": [
    "Se inicia cargando todas las librerías de python que se utilizarán a lo largo del archivo. "
   ]
  },
  {
   "cell_type": "code",
   "execution_count": 1,
   "metadata": {},
   "outputs": [],
   "source": [
    "# cargar todas las librerías\n",
    "import pandas as pd\n",
    "import seaborn as sns\n",
    "import numpy as np\n",
    "import matplotlib.pyplot as plt\n",
    "from scipy import stats as st"
   ]
  },
  {
   "cell_type": "markdown",
   "metadata": {},
   "source": [
    "### Cargar los datos"
   ]
  },
  {
   "cell_type": "markdown",
   "metadata": {},
   "source": [
    "Se carga los datos de los diferentes archivos."
   ]
  },
  {
   "cell_type": "code",
   "execution_count": 2,
   "metadata": {},
   "outputs": [],
   "source": [
    "# Carga de los archivos en DataFrames\n",
    "calls = pd.read_csv(\"/datasets/megaline_calls.csv\")\n",
    "internet = pd.read_csv(\"/datasets/megaline_internet.csv\")\n",
    "messages = pd.read_csv(\"/datasets/megaline_messages.csv\")\n",
    "plans = pd.read_csv(\"/datasets/megaline_plans.csv\")\n",
    "users = pd.read_csv(\"/datasets/megaline_users.csv\")"
   ]
  },
  {
   "cell_type": "markdown",
   "metadata": {},
   "source": [
    "### Estudio de información general"
   ]
  },
  {
   "cell_type": "markdown",
   "metadata": {},
   "source": [
    "Comenzamos a revisar el contenido de los archivos"
   ]
  },
  {
   "cell_type": "code",
   "execution_count": 3,
   "metadata": {},
   "outputs": [
    {
     "name": "stdout",
     "output_type": "stream",
     "text": [
      "Megaline calls columns: Index(['id', 'user_id', 'call_date', 'duration'], dtype='object')\n",
      "Megaline calls rows and columns: (137735, 4)\n",
      "\n",
      "Megaline internet columns: Index(['id', 'user_id', 'session_date', 'mb_used'], dtype='object')\n",
      "Megaline internet rows and columns: (104825, 4)\n",
      "\n",
      "Megaline messages columns: Index(['id', 'user_id', 'message_date'], dtype='object')\n",
      "Megaline messages rows and columns: (76051, 3)\n",
      "\n",
      "Megaline plans columns: Index(['messages_included', 'mb_per_month_included', 'minutes_included',\n",
      "       'usd_monthly_pay', 'usd_per_gb', 'usd_per_message', 'usd_per_minute',\n",
      "       'plan_name'],\n",
      "      dtype='object')\n",
      "Megaline plans rows and columns: (2, 8)\n",
      "\n",
      "Megaline users columns: Index(['user_id', 'first_name', 'last_name', 'age', 'city', 'reg_date', 'plan',\n",
      "       'churn_date'],\n",
      "      dtype='object')\n",
      "Megaline users rows and columns: (500, 8)\n",
      "\n"
     ]
    }
   ],
   "source": [
    "# imprimir nombres columnas y número filas x columnas x archivo\n",
    "my_list = [\"calls\", \"internet\", \"messages\", \"plans\", \"users\"]\n",
    "megaline_list = [calls, internet, messages, plans, users]\n",
    "\n",
    "for items, variable in zip(my_list, megaline_list): \n",
    "    print(\"Megaline\", items, \"columns:\", variable.columns)\n",
    "    print(\"Megaline\", items, \"rows and columns:\", variable.shape)\n",
    "    print(\"\")"
   ]
  },
  {
   "cell_type": "markdown",
   "metadata": {},
   "source": [
    "En total tenemos 5 archivos, con distintas cantidades de columnas como también de filas. Exploremos más a detalle la información inicial que nos proveen:"
   ]
  },
  {
   "cell_type": "markdown",
   "metadata": {},
   "source": [
    "**Tabla `users` (datos sobre los usuarios)**\n",
    "- `user_id` — identificador único del usuario\n",
    "- `first_name` — nombre del usuario\n",
    "- `last_name` — apellido del usuario\n",
    "- `age` — edad del usuario (en años)\n",
    "- `reg_date` — fecha de suscripción (dd, mm, aa)\n",
    "- `churn_date` — la fecha en que el usuario dejó de usar el servicio (si el valor es ausente, la tarifa se estaba usando cuando se recuperaron estos datos)\n",
    "- `city` — ciudad de residencia del usuario\n",
    "- `plan` — nombre de la tarifa\n",
    "\n",
    "**Tabla `calls` (datos sobre las llamadas)**\n",
    "- `id` — identificador único del usuario\n",
    "- `call_date` — fecha de la llamada\n",
    "- `duration` — duración de la llamada (en minutos)\n",
    "- `user_id` — el identificador del usuario que realiza la llamada\n",
    "\n",
    "**Tabla `messages` (datos sobre los SMS)**\n",
    "- `id` — identificador único del SMS\n",
    "- `message_date` — fecha del SMS\n",
    "- `user_id` — el identificador del usuario que manda el SMS\n",
    "\n",
    "**Tabla `internet` (datos sobre las sesiones web)**\n",
    "- `id` — identificador único de la sesión\n",
    "- `mb_used` — el volumen de datos gastados durante la sesión (en megabytes)\n",
    "- `session_date` — fecha de la sesión web\n",
    "- `user_id` — identificador del usuario\n",
    "\n",
    "**Tabla `plans` (datos sobre las tarifas)**\n",
    "- `plan_name` — nombre de la tarifa\n",
    "- `usd_monthly_fee` — pago mensual en dólares estadounidenses\n",
    "- `minutes_included` — minutos incluidos al mes\n",
    "- `messages_included` — SMS incluidos al mes\n",
    "- `mb_per_month_included` — datos incluidos al mes (en megabytes)\n",
    "- `usd_per_minute` — precio por minuto tras exceder los límites del paquete (por ejemplo, si el paquete incluye 100 minutos el operador cobrará el minuto 101)\n",
    "- `usd_per_message` — precio por SMS tras exceder los límites del paquete\n",
    "- `usd_per_gb` — precio por gigabyte de los datos extra tras exceder los límites del paquete (1 GB = 1024 megabytes)"
   ]
  },
  {
   "cell_type": "markdown",
   "metadata": {},
   "source": [
    "Visualicemos las primeras 5 filas de cada archivo para verificar qué datos tenemos."
   ]
  },
  {
   "cell_type": "code",
   "execution_count": 4,
   "metadata": {
    "scrolled": false
   },
   "outputs": [
    {
     "name": "stdout",
     "output_type": "stream",
     "text": [
      "Megaline calls info:\n"
     ]
    },
    {
     "data": {
      "text/html": [
       "<div>\n",
       "<style scoped>\n",
       "    .dataframe tbody tr th:only-of-type {\n",
       "        vertical-align: middle;\n",
       "    }\n",
       "\n",
       "    .dataframe tbody tr th {\n",
       "        vertical-align: top;\n",
       "    }\n",
       "\n",
       "    .dataframe thead th {\n",
       "        text-align: right;\n",
       "    }\n",
       "</style>\n",
       "<table border=\"1\" class=\"dataframe\">\n",
       "  <thead>\n",
       "    <tr style=\"text-align: right;\">\n",
       "      <th></th>\n",
       "      <th>id</th>\n",
       "      <th>user_id</th>\n",
       "      <th>call_date</th>\n",
       "      <th>duration</th>\n",
       "    </tr>\n",
       "  </thead>\n",
       "  <tbody>\n",
       "    <tr>\n",
       "      <th>0</th>\n",
       "      <td>1000_93</td>\n",
       "      <td>1000</td>\n",
       "      <td>2018-12-27</td>\n",
       "      <td>8.52</td>\n",
       "    </tr>\n",
       "    <tr>\n",
       "      <th>1</th>\n",
       "      <td>1000_145</td>\n",
       "      <td>1000</td>\n",
       "      <td>2018-12-27</td>\n",
       "      <td>13.66</td>\n",
       "    </tr>\n",
       "    <tr>\n",
       "      <th>2</th>\n",
       "      <td>1000_247</td>\n",
       "      <td>1000</td>\n",
       "      <td>2018-12-27</td>\n",
       "      <td>14.48</td>\n",
       "    </tr>\n",
       "    <tr>\n",
       "      <th>3</th>\n",
       "      <td>1000_309</td>\n",
       "      <td>1000</td>\n",
       "      <td>2018-12-28</td>\n",
       "      <td>5.76</td>\n",
       "    </tr>\n",
       "    <tr>\n",
       "      <th>4</th>\n",
       "      <td>1000_380</td>\n",
       "      <td>1000</td>\n",
       "      <td>2018-12-30</td>\n",
       "      <td>4.22</td>\n",
       "    </tr>\n",
       "  </tbody>\n",
       "</table>\n",
       "</div>"
      ],
      "text/plain": [
       "         id  user_id   call_date  duration\n",
       "0   1000_93     1000  2018-12-27      8.52\n",
       "1  1000_145     1000  2018-12-27     13.66\n",
       "2  1000_247     1000  2018-12-27     14.48\n",
       "3  1000_309     1000  2018-12-28      5.76\n",
       "4  1000_380     1000  2018-12-30      4.22"
      ]
     },
     "metadata": {},
     "output_type": "display_data"
    },
    {
     "name": "stdout",
     "output_type": "stream",
     "text": [
      "\n",
      "<class 'pandas.core.frame.DataFrame'>\n",
      "RangeIndex: 137735 entries, 0 to 137734\n",
      "Data columns (total 4 columns):\n",
      " #   Column     Non-Null Count   Dtype  \n",
      "---  ------     --------------   -----  \n",
      " 0   id         137735 non-null  object \n",
      " 1   user_id    137735 non-null  int64  \n",
      " 2   call_date  137735 non-null  object \n",
      " 3   duration   137735 non-null  float64\n",
      "dtypes: float64(1), int64(1), object(2)\n",
      "memory usage: 4.2+ MB\n",
      "None\n",
      "\n",
      "Megaline internet info:\n"
     ]
    },
    {
     "data": {
      "text/html": [
       "<div>\n",
       "<style scoped>\n",
       "    .dataframe tbody tr th:only-of-type {\n",
       "        vertical-align: middle;\n",
       "    }\n",
       "\n",
       "    .dataframe tbody tr th {\n",
       "        vertical-align: top;\n",
       "    }\n",
       "\n",
       "    .dataframe thead th {\n",
       "        text-align: right;\n",
       "    }\n",
       "</style>\n",
       "<table border=\"1\" class=\"dataframe\">\n",
       "  <thead>\n",
       "    <tr style=\"text-align: right;\">\n",
       "      <th></th>\n",
       "      <th>id</th>\n",
       "      <th>user_id</th>\n",
       "      <th>session_date</th>\n",
       "      <th>mb_used</th>\n",
       "    </tr>\n",
       "  </thead>\n",
       "  <tbody>\n",
       "    <tr>\n",
       "      <th>0</th>\n",
       "      <td>1000_13</td>\n",
       "      <td>1000</td>\n",
       "      <td>2018-12-29</td>\n",
       "      <td>89.86</td>\n",
       "    </tr>\n",
       "    <tr>\n",
       "      <th>1</th>\n",
       "      <td>1000_204</td>\n",
       "      <td>1000</td>\n",
       "      <td>2018-12-31</td>\n",
       "      <td>0.00</td>\n",
       "    </tr>\n",
       "    <tr>\n",
       "      <th>2</th>\n",
       "      <td>1000_379</td>\n",
       "      <td>1000</td>\n",
       "      <td>2018-12-28</td>\n",
       "      <td>660.40</td>\n",
       "    </tr>\n",
       "    <tr>\n",
       "      <th>3</th>\n",
       "      <td>1000_413</td>\n",
       "      <td>1000</td>\n",
       "      <td>2018-12-26</td>\n",
       "      <td>270.99</td>\n",
       "    </tr>\n",
       "    <tr>\n",
       "      <th>4</th>\n",
       "      <td>1000_442</td>\n",
       "      <td>1000</td>\n",
       "      <td>2018-12-27</td>\n",
       "      <td>880.22</td>\n",
       "    </tr>\n",
       "  </tbody>\n",
       "</table>\n",
       "</div>"
      ],
      "text/plain": [
       "         id  user_id session_date  mb_used\n",
       "0   1000_13     1000   2018-12-29    89.86\n",
       "1  1000_204     1000   2018-12-31     0.00\n",
       "2  1000_379     1000   2018-12-28   660.40\n",
       "3  1000_413     1000   2018-12-26   270.99\n",
       "4  1000_442     1000   2018-12-27   880.22"
      ]
     },
     "metadata": {},
     "output_type": "display_data"
    },
    {
     "name": "stdout",
     "output_type": "stream",
     "text": [
      "\n",
      "<class 'pandas.core.frame.DataFrame'>\n",
      "RangeIndex: 104825 entries, 0 to 104824\n",
      "Data columns (total 4 columns):\n",
      " #   Column        Non-Null Count   Dtype  \n",
      "---  ------        --------------   -----  \n",
      " 0   id            104825 non-null  object \n",
      " 1   user_id       104825 non-null  int64  \n",
      " 2   session_date  104825 non-null  object \n",
      " 3   mb_used       104825 non-null  float64\n",
      "dtypes: float64(1), int64(1), object(2)\n",
      "memory usage: 3.2+ MB\n",
      "None\n",
      "\n",
      "Megaline messages info:\n"
     ]
    },
    {
     "data": {
      "text/html": [
       "<div>\n",
       "<style scoped>\n",
       "    .dataframe tbody tr th:only-of-type {\n",
       "        vertical-align: middle;\n",
       "    }\n",
       "\n",
       "    .dataframe tbody tr th {\n",
       "        vertical-align: top;\n",
       "    }\n",
       "\n",
       "    .dataframe thead th {\n",
       "        text-align: right;\n",
       "    }\n",
       "</style>\n",
       "<table border=\"1\" class=\"dataframe\">\n",
       "  <thead>\n",
       "    <tr style=\"text-align: right;\">\n",
       "      <th></th>\n",
       "      <th>id</th>\n",
       "      <th>user_id</th>\n",
       "      <th>message_date</th>\n",
       "    </tr>\n",
       "  </thead>\n",
       "  <tbody>\n",
       "    <tr>\n",
       "      <th>0</th>\n",
       "      <td>1000_125</td>\n",
       "      <td>1000</td>\n",
       "      <td>2018-12-27</td>\n",
       "    </tr>\n",
       "    <tr>\n",
       "      <th>1</th>\n",
       "      <td>1000_160</td>\n",
       "      <td>1000</td>\n",
       "      <td>2018-12-31</td>\n",
       "    </tr>\n",
       "    <tr>\n",
       "      <th>2</th>\n",
       "      <td>1000_223</td>\n",
       "      <td>1000</td>\n",
       "      <td>2018-12-31</td>\n",
       "    </tr>\n",
       "    <tr>\n",
       "      <th>3</th>\n",
       "      <td>1000_251</td>\n",
       "      <td>1000</td>\n",
       "      <td>2018-12-27</td>\n",
       "    </tr>\n",
       "    <tr>\n",
       "      <th>4</th>\n",
       "      <td>1000_255</td>\n",
       "      <td>1000</td>\n",
       "      <td>2018-12-26</td>\n",
       "    </tr>\n",
       "  </tbody>\n",
       "</table>\n",
       "</div>"
      ],
      "text/plain": [
       "         id  user_id message_date\n",
       "0  1000_125     1000   2018-12-27\n",
       "1  1000_160     1000   2018-12-31\n",
       "2  1000_223     1000   2018-12-31\n",
       "3  1000_251     1000   2018-12-27\n",
       "4  1000_255     1000   2018-12-26"
      ]
     },
     "metadata": {},
     "output_type": "display_data"
    },
    {
     "name": "stdout",
     "output_type": "stream",
     "text": [
      "\n",
      "<class 'pandas.core.frame.DataFrame'>\n",
      "RangeIndex: 76051 entries, 0 to 76050\n",
      "Data columns (total 3 columns):\n",
      " #   Column        Non-Null Count  Dtype \n",
      "---  ------        --------------  ----- \n",
      " 0   id            76051 non-null  object\n",
      " 1   user_id       76051 non-null  int64 \n",
      " 2   message_date  76051 non-null  object\n",
      "dtypes: int64(1), object(2)\n",
      "memory usage: 1.7+ MB\n",
      "None\n",
      "\n",
      "Megaline plans info:\n"
     ]
    },
    {
     "data": {
      "text/html": [
       "<div>\n",
       "<style scoped>\n",
       "    .dataframe tbody tr th:only-of-type {\n",
       "        vertical-align: middle;\n",
       "    }\n",
       "\n",
       "    .dataframe tbody tr th {\n",
       "        vertical-align: top;\n",
       "    }\n",
       "\n",
       "    .dataframe thead th {\n",
       "        text-align: right;\n",
       "    }\n",
       "</style>\n",
       "<table border=\"1\" class=\"dataframe\">\n",
       "  <thead>\n",
       "    <tr style=\"text-align: right;\">\n",
       "      <th></th>\n",
       "      <th>messages_included</th>\n",
       "      <th>mb_per_month_included</th>\n",
       "      <th>minutes_included</th>\n",
       "      <th>usd_monthly_pay</th>\n",
       "      <th>usd_per_gb</th>\n",
       "      <th>usd_per_message</th>\n",
       "      <th>usd_per_minute</th>\n",
       "      <th>plan_name</th>\n",
       "    </tr>\n",
       "  </thead>\n",
       "  <tbody>\n",
       "    <tr>\n",
       "      <th>0</th>\n",
       "      <td>50</td>\n",
       "      <td>15360</td>\n",
       "      <td>500</td>\n",
       "      <td>20</td>\n",
       "      <td>10</td>\n",
       "      <td>0.03</td>\n",
       "      <td>0.03</td>\n",
       "      <td>surf</td>\n",
       "    </tr>\n",
       "    <tr>\n",
       "      <th>1</th>\n",
       "      <td>1000</td>\n",
       "      <td>30720</td>\n",
       "      <td>3000</td>\n",
       "      <td>70</td>\n",
       "      <td>7</td>\n",
       "      <td>0.01</td>\n",
       "      <td>0.01</td>\n",
       "      <td>ultimate</td>\n",
       "    </tr>\n",
       "  </tbody>\n",
       "</table>\n",
       "</div>"
      ],
      "text/plain": [
       "   messages_included  mb_per_month_included  minutes_included  \\\n",
       "0                 50                  15360               500   \n",
       "1               1000                  30720              3000   \n",
       "\n",
       "   usd_monthly_pay  usd_per_gb  usd_per_message  usd_per_minute plan_name  \n",
       "0               20          10             0.03            0.03      surf  \n",
       "1               70           7             0.01            0.01  ultimate  "
      ]
     },
     "metadata": {},
     "output_type": "display_data"
    },
    {
     "name": "stdout",
     "output_type": "stream",
     "text": [
      "\n",
      "<class 'pandas.core.frame.DataFrame'>\n",
      "RangeIndex: 2 entries, 0 to 1\n",
      "Data columns (total 8 columns):\n",
      " #   Column                 Non-Null Count  Dtype  \n",
      "---  ------                 --------------  -----  \n",
      " 0   messages_included      2 non-null      int64  \n",
      " 1   mb_per_month_included  2 non-null      int64  \n",
      " 2   minutes_included       2 non-null      int64  \n",
      " 3   usd_monthly_pay        2 non-null      int64  \n",
      " 4   usd_per_gb             2 non-null      int64  \n",
      " 5   usd_per_message        2 non-null      float64\n",
      " 6   usd_per_minute         2 non-null      float64\n",
      " 7   plan_name              2 non-null      object \n",
      "dtypes: float64(2), int64(5), object(1)\n",
      "memory usage: 256.0+ bytes\n",
      "None\n",
      "\n",
      "Megaline users info:\n"
     ]
    },
    {
     "data": {
      "text/html": [
       "<div>\n",
       "<style scoped>\n",
       "    .dataframe tbody tr th:only-of-type {\n",
       "        vertical-align: middle;\n",
       "    }\n",
       "\n",
       "    .dataframe tbody tr th {\n",
       "        vertical-align: top;\n",
       "    }\n",
       "\n",
       "    .dataframe thead th {\n",
       "        text-align: right;\n",
       "    }\n",
       "</style>\n",
       "<table border=\"1\" class=\"dataframe\">\n",
       "  <thead>\n",
       "    <tr style=\"text-align: right;\">\n",
       "      <th></th>\n",
       "      <th>user_id</th>\n",
       "      <th>first_name</th>\n",
       "      <th>last_name</th>\n",
       "      <th>age</th>\n",
       "      <th>city</th>\n",
       "      <th>reg_date</th>\n",
       "      <th>plan</th>\n",
       "      <th>churn_date</th>\n",
       "    </tr>\n",
       "  </thead>\n",
       "  <tbody>\n",
       "    <tr>\n",
       "      <th>0</th>\n",
       "      <td>1000</td>\n",
       "      <td>Anamaria</td>\n",
       "      <td>Bauer</td>\n",
       "      <td>45</td>\n",
       "      <td>Atlanta-Sandy Springs-Roswell, GA MSA</td>\n",
       "      <td>2018-12-24</td>\n",
       "      <td>ultimate</td>\n",
       "      <td>NaN</td>\n",
       "    </tr>\n",
       "    <tr>\n",
       "      <th>1</th>\n",
       "      <td>1001</td>\n",
       "      <td>Mickey</td>\n",
       "      <td>Wilkerson</td>\n",
       "      <td>28</td>\n",
       "      <td>Seattle-Tacoma-Bellevue, WA MSA</td>\n",
       "      <td>2018-08-13</td>\n",
       "      <td>surf</td>\n",
       "      <td>NaN</td>\n",
       "    </tr>\n",
       "    <tr>\n",
       "      <th>2</th>\n",
       "      <td>1002</td>\n",
       "      <td>Carlee</td>\n",
       "      <td>Hoffman</td>\n",
       "      <td>36</td>\n",
       "      <td>Las Vegas-Henderson-Paradise, NV MSA</td>\n",
       "      <td>2018-10-21</td>\n",
       "      <td>surf</td>\n",
       "      <td>NaN</td>\n",
       "    </tr>\n",
       "    <tr>\n",
       "      <th>3</th>\n",
       "      <td>1003</td>\n",
       "      <td>Reynaldo</td>\n",
       "      <td>Jenkins</td>\n",
       "      <td>52</td>\n",
       "      <td>Tulsa, OK MSA</td>\n",
       "      <td>2018-01-28</td>\n",
       "      <td>surf</td>\n",
       "      <td>NaN</td>\n",
       "    </tr>\n",
       "    <tr>\n",
       "      <th>4</th>\n",
       "      <td>1004</td>\n",
       "      <td>Leonila</td>\n",
       "      <td>Thompson</td>\n",
       "      <td>40</td>\n",
       "      <td>Seattle-Tacoma-Bellevue, WA MSA</td>\n",
       "      <td>2018-05-23</td>\n",
       "      <td>surf</td>\n",
       "      <td>NaN</td>\n",
       "    </tr>\n",
       "  </tbody>\n",
       "</table>\n",
       "</div>"
      ],
      "text/plain": [
       "   user_id first_name  last_name  age                                   city  \\\n",
       "0     1000   Anamaria      Bauer   45  Atlanta-Sandy Springs-Roswell, GA MSA   \n",
       "1     1001     Mickey  Wilkerson   28        Seattle-Tacoma-Bellevue, WA MSA   \n",
       "2     1002     Carlee    Hoffman   36   Las Vegas-Henderson-Paradise, NV MSA   \n",
       "3     1003   Reynaldo    Jenkins   52                          Tulsa, OK MSA   \n",
       "4     1004    Leonila   Thompson   40        Seattle-Tacoma-Bellevue, WA MSA   \n",
       "\n",
       "     reg_date      plan churn_date  \n",
       "0  2018-12-24  ultimate        NaN  \n",
       "1  2018-08-13      surf        NaN  \n",
       "2  2018-10-21      surf        NaN  \n",
       "3  2018-01-28      surf        NaN  \n",
       "4  2018-05-23      surf        NaN  "
      ]
     },
     "metadata": {},
     "output_type": "display_data"
    },
    {
     "name": "stdout",
     "output_type": "stream",
     "text": [
      "\n",
      "<class 'pandas.core.frame.DataFrame'>\n",
      "RangeIndex: 500 entries, 0 to 499\n",
      "Data columns (total 8 columns):\n",
      " #   Column      Non-Null Count  Dtype \n",
      "---  ------      --------------  ----- \n",
      " 0   user_id     500 non-null    int64 \n",
      " 1   first_name  500 non-null    object\n",
      " 2   last_name   500 non-null    object\n",
      " 3   age         500 non-null    int64 \n",
      " 4   city        500 non-null    object\n",
      " 5   reg_date    500 non-null    object\n",
      " 6   plan        500 non-null    object\n",
      " 7   churn_date  34 non-null     object\n",
      "dtypes: int64(2), object(6)\n",
      "memory usage: 31.4+ KB\n",
      "None\n",
      "\n"
     ]
    }
   ],
   "source": [
    "# revisión datos iniciales e impresión de tipos de datos\n",
    "for items, variable in zip(my_list, megaline_list): \n",
    "    print(\"Megaline\", items, \"info:\")\n",
    "    display(variable.head())\n",
    "    print(\"\")\n",
    "    print(variable.info())\n",
    "    print(\"\")"
   ]
  },
  {
   "cell_type": "markdown",
   "metadata": {},
   "source": [
    "El archivo `calls` tiene 4 columnas y 137.735 filas, junto con 1 columna tipo `float`, 1 `int` y 2 `str`; se observa que no hay filas con datos ausentes. \n",
    "\n",
    "El archivo `internet` tiene 4 columnas y 104.825 filas, junto con 1 columna tipo `float`, 1 `int` y 2 `str`; se observa que no hay filas con datos ausentes. Este archivo y el de `calls` son bastante parecidos en cuanto a columnas e información. \n",
    "\n",
    "El archivo `messages` tiene 3 columnas y 76.051 filas, junto con 1 columna tipo `int` y 2 `str`; se observa que no hay filas con datos ausentes. \n",
    "\n",
    "El archivo `plans` tiene 8 columnas y solo 2 filas, el cual describe la información de los planes. Tiene 5 columnas tipo `int`, 2 tipo `float` y 1 tipo `str`. No hay datos ausentes.\n",
    "\n",
    "El archivo `users` tiene 8 columnas y 500 filas, junto con 6 columnas tipo `str` y 2 tipo `int`; se observa claramente que la columna `churn_date` tiene valores ausentes, indicando que solo hay 34 filas con datos, el resto son ausentes. Esto tiene sentido ya que de los 500 clientes solo 34 de ellos se han dado de baja del plan. \n",
    "\n",
    "Al parecer la mayoría de los archivos están limpios, sin embargo hay que estudiarlos más a fondo. Lo más probable es que se deba cambiar el tipo de datos de ciertas columnas para poder continuar con el análisis profundo del estudio. "
   ]
  },
  {
   "cell_type": "markdown",
   "metadata": {},
   "source": [
    "### Preparar los datos"
   ]
  },
  {
   "cell_type": "markdown",
   "metadata": {},
   "source": [
    "Comencemos preparando los datos y analizando su contenido en cada uno de ellos.\n",
    "\n",
    "Comprobemos primero si realmente solo hay 1 columna en total de todos los archivos con datos ausentes:"
   ]
  },
  {
   "cell_type": "code",
   "execution_count": 5,
   "metadata": {},
   "outputs": [
    {
     "name": "stdout",
     "output_type": "stream",
     "text": [
      "calls\n",
      "id           False\n",
      "user_id      False\n",
      "call_date    False\n",
      "duration     False\n",
      "dtype: bool\n",
      "\n",
      "internet\n",
      "id              False\n",
      "user_id         False\n",
      "session_date    False\n",
      "mb_used         False\n",
      "dtype: bool\n",
      "\n",
      "messages\n",
      "id              False\n",
      "user_id         False\n",
      "message_date    False\n",
      "dtype: bool\n",
      "\n",
      "plans\n",
      "messages_included        False\n",
      "mb_per_month_included    False\n",
      "minutes_included         False\n",
      "usd_monthly_pay          False\n",
      "usd_per_gb               False\n",
      "usd_per_message          False\n",
      "usd_per_minute           False\n",
      "plan_name                False\n",
      "dtype: bool\n",
      "\n",
      "users\n",
      "user_id       False\n",
      "first_name    False\n",
      "last_name     False\n",
      "age           False\n",
      "city          False\n",
      "reg_date      False\n",
      "plan          False\n",
      "churn_date     True\n",
      "dtype: bool\n",
      "\n"
     ]
    }
   ],
   "source": [
    "# análisis columnas con datos ausentes\n",
    "for items, variable in zip(my_list, megaline_list): \n",
    "    print(items)\n",
    "    print(pd.isnull(variable).any())\n",
    "    print(\"\")"
   ]
  },
  {
   "cell_type": "markdown",
   "metadata": {},
   "source": [
    "Comprobamos que solo la columna `churn_date` del archivo `users` tiene datos ausentes. Es importante verificar esto, en caso de que visualmente con `.info()` no se distinga bien la cantidad total de datos."
   ]
  },
  {
   "cell_type": "markdown",
   "metadata": {},
   "source": [
    "Iniciamos analizando cada archivo y sus datos."
   ]
  },
  {
   "cell_type": "markdown",
   "metadata": {},
   "source": [
    "#### Revisión `calls`"
   ]
  },
  {
   "cell_type": "markdown",
   "metadata": {},
   "source": [
    "Se inicia analizando cuáles son los 10 primeros datos que se repiten más por columna para identificar alguna anomalía o error."
   ]
  },
  {
   "cell_type": "code",
   "execution_count": 6,
   "metadata": {},
   "outputs": [
    {
     "name": "stdout",
     "output_type": "stream",
     "text": [
      "\n",
      "Frecuencia de categorías para columna: id\n",
      "1203_166    1\n",
      "1138_91     1\n",
      "1336_285    1\n",
      "1246_622    1\n",
      "1439_113    1\n",
      "1281_711    1\n",
      "1098_349    1\n",
      "1442_3      1\n",
      "1257_52     1\n",
      "1098_284    1\n",
      "Name: id, dtype: int64\n",
      "\n",
      "Frecuencia de categorías para columna: user_id\n",
      "1324    1300\n",
      "1077    1224\n",
      "1334    1140\n",
      "1362    1121\n",
      "1320    1080\n",
      "1240    1022\n",
      "1382    1014\n",
      "1365     987\n",
      "1412     945\n",
      "1196     932\n",
      "Name: user_id, dtype: int64\n",
      "\n",
      "Frecuencia de categorías para columna: call_date\n",
      "2018-12-27    1091\n",
      "2018-12-28    1085\n",
      "2018-12-30    1080\n",
      "2018-12-24    1078\n",
      "2018-12-29    1070\n",
      "2018-12-31    1065\n",
      "2018-12-25    1055\n",
      "2018-12-23    1053\n",
      "2018-12-26    1051\n",
      "2018-12-16    1043\n",
      "Name: call_date, dtype: int64\n",
      "\n",
      "Frecuencia de categorías para columna: duration\n",
      "0.00    26834\n",
      "8.37      102\n",
      "4.02      102\n",
      "3.91      101\n",
      "7.61      100\n",
      "4.30      100\n",
      "5.45       98\n",
      "8.21       97\n",
      "7.76       97\n",
      "6.17       97\n",
      "Name: duration, dtype: int64\n"
     ]
    }
   ],
   "source": [
    "# frecuencia de datos repetidos por columna en calls\n",
    "calls_columns = [\"id\", \"user_id\", \"call_date\", \"duration\"]\n",
    "for col in calls_columns:\n",
    "    print ('\\nFrecuencia de categorías para columna: %s'%col)\n",
    "    print (calls[col].value_counts().head(10))"
   ]
  },
  {
   "cell_type": "markdown",
   "metadata": {},
   "source": [
    "Arriba se muestra los primeros 10 datos que más se repiten en cada columna. \n",
    "\n",
    "En `id` tenemos datos únicos, el cual es representado por el `user_id` y el `id` de la llamada. \n",
    "\n",
    "En `user_id` es la identificación única de cada usuario. Vemos que el usuario `1324` ha hecho un total de 1300 llamadas, siendo el usuario con más llamadas registradas. \n",
    "\n",
    "En `call_date` tenemos la fecha que se realizó las llamadas. La fecha que más llamadas se registró fue el 27 de diciembre del 2018. \n",
    "\n",
    "En `duration` muestra la duración en minutos por llamada. Se observa que hay 26.834 llamadas que duraron 0.0 minutos. Al parecer esto es un problema, ya que al parecer son llamadas perdidas (tomando en cuenta que si la llamada duró 1 segundo, se registra como 1 min). Es importante analizar más a fondo esto, y qué se realizará con estos datos. "
   ]
  },
  {
   "cell_type": "markdown",
   "metadata": {},
   "source": [
    "La única columna que hay que cambiar el tipo de dato es `call_date`, cambiando a tipo fecha para poder manipular mejor los días o día de la semana y los meses. También se cambia el `user_id` a tipo `str` ya que como es un identificador único, es más fácil manejarlo como palabra que como un valor entero. "
   ]
  },
  {
   "cell_type": "code",
   "execution_count": 7,
   "metadata": {},
   "outputs": [],
   "source": [
    "# cambiamos a datetime la columna `call_date`\n",
    "calls[\"call_date\"] = pd.to_datetime(calls[\"call_date\"], format='%Y-%m-%d')\n",
    "calls[\"user_id\"] = calls[\"user_id\"].astype(\"str\")"
   ]
  },
  {
   "cell_type": "markdown",
   "metadata": {},
   "source": [
    "Se agrega 3 nuevas columnas, para saber qué día de la semana es, el mes y el año."
   ]
  },
  {
   "cell_type": "code",
   "execution_count": 8,
   "metadata": {},
   "outputs": [],
   "source": [
    "# día de la semana de la publicación del anuncio\n",
    "calls['weekday'] = calls[\"call_date\"].dt.weekday\n",
    "calls['month'] = calls[\"call_date\"].dt.month\n",
    "calls['year'] = calls[\"call_date\"].dt.year "
   ]
  },
  {
   "cell_type": "code",
   "execution_count": 9,
   "metadata": {},
   "outputs": [
    {
     "name": "stdout",
     "output_type": "stream",
     "text": [
      "<class 'pandas.core.frame.DataFrame'>\n",
      "RangeIndex: 137735 entries, 0 to 137734\n",
      "Data columns (total 7 columns):\n",
      " #   Column     Non-Null Count   Dtype         \n",
      "---  ------     --------------   -----         \n",
      " 0   id         137735 non-null  object        \n",
      " 1   user_id    137735 non-null  object        \n",
      " 2   call_date  137735 non-null  datetime64[ns]\n",
      " 3   duration   137735 non-null  float64       \n",
      " 4   weekday    137735 non-null  int64         \n",
      " 5   month      137735 non-null  int64         \n",
      " 6   year       137735 non-null  int64         \n",
      "dtypes: datetime64[ns](1), float64(1), int64(3), object(2)\n",
      "memory usage: 7.4+ MB\n"
     ]
    }
   ],
   "source": [
    "# visualización general\n",
    "calls.info()"
   ]
  },
  {
   "cell_type": "markdown",
   "metadata": {},
   "source": [
    "Analicemos las columnas recién creadas y la columna `duration` en porcentajes:"
   ]
  },
  {
   "cell_type": "code",
   "execution_count": 10,
   "metadata": {},
   "outputs": [
    {
     "name": "stdout",
     "output_type": "stream",
     "text": [
      "0.00    0.194823\n",
      "8.37    0.000741\n",
      "4.02    0.000741\n",
      "3.91    0.000733\n",
      "7.61    0.000726\n",
      "Name: duration, dtype: float64\n",
      "\n",
      "0    0.147595\n",
      "6    0.146528\n",
      "5    0.143958\n",
      "4    0.141874\n",
      "3    0.141366\n",
      "1    0.139725\n",
      "2    0.138955\n",
      "Name: weekday, dtype: float64\n",
      "\n",
      "12    0.222267\n",
      "11    0.178974\n",
      "10    0.152931\n",
      "9     0.119962\n",
      "8     0.098668\n",
      "7     0.080626\n",
      "6     0.059687\n",
      "5     0.043264\n",
      "4     0.024990\n",
      "3     0.011762\n",
      "2     0.005619\n",
      "1     0.001249\n",
      "Name: month, dtype: float64\n",
      "\n",
      "2018    1.0\n",
      "Name: year, dtype: float64\n"
     ]
    }
   ],
   "source": [
    "# distribución de datos y conteo; porcentajes\n",
    "print(calls[\"duration\"].value_counts(normalize=True).head())\n",
    "print(\"\")\n",
    "print(calls[\"weekday\"].value_counts(normalize=True))\n",
    "print(\"\")\n",
    "print(calls[\"month\"].value_counts(normalize=True))\n",
    "print(\"\")\n",
    "print(calls[\"year\"].value_counts(normalize=True))"
   ]
  },
  {
   "cell_type": "markdown",
   "metadata": {},
   "source": [
    "Con esta información, se puede observar que se tiene datos solo del año 2018, de todos los meses del año. Prácticamente el mes que más se realiza llamadas es diciembre, aunque se observa que gradualmente las llamadas van aumentando mes a mes. Tal vez esto esté relacionado con la cantidad de usuarios activos en cada mes y la cantidad de llamadas que realizaba cada usuario en cada mes. El día de la semana que más llamadas se realiza es el día lunes, aunque no hay mucha diferencia en relación al resto de días. \n",
    "\n",
    "El detalle más importante de aquí es que hay casi 20% de llamadas que duraron 0.0 min, que pueden ser llamadas perdidas. El segundo valor que más se repite es 8.37 min pero apenas hay 0.07% de llamadas que tienen esa duración. Es importante decidir que se va a realizar con este dato y qué implicaría eliminar o dejarlo como está. \n",
    "\n",
    "A continuación se estudiará cómo están los datos de forma estadística, y se realizará un histograma y box plot para entender mejor los datos. "
   ]
  },
  {
   "cell_type": "code",
   "execution_count": 11,
   "metadata": {},
   "outputs": [
    {
     "data": {
      "text/html": [
       "<div>\n",
       "<style scoped>\n",
       "    .dataframe tbody tr th:only-of-type {\n",
       "        vertical-align: middle;\n",
       "    }\n",
       "\n",
       "    .dataframe tbody tr th {\n",
       "        vertical-align: top;\n",
       "    }\n",
       "\n",
       "    .dataframe thead th {\n",
       "        text-align: right;\n",
       "    }\n",
       "</style>\n",
       "<table border=\"1\" class=\"dataframe\">\n",
       "  <thead>\n",
       "    <tr style=\"text-align: right;\">\n",
       "      <th></th>\n",
       "      <th>id</th>\n",
       "      <th>user_id</th>\n",
       "      <th>call_date</th>\n",
       "      <th>duration</th>\n",
       "      <th>weekday</th>\n",
       "      <th>month</th>\n",
       "      <th>year</th>\n",
       "    </tr>\n",
       "  </thead>\n",
       "  <tbody>\n",
       "    <tr>\n",
       "      <th>0</th>\n",
       "      <td>1000_93</td>\n",
       "      <td>1000</td>\n",
       "      <td>2018-12-27</td>\n",
       "      <td>8.52</td>\n",
       "      <td>3</td>\n",
       "      <td>12</td>\n",
       "      <td>2018</td>\n",
       "    </tr>\n",
       "    <tr>\n",
       "      <th>1</th>\n",
       "      <td>1000_145</td>\n",
       "      <td>1000</td>\n",
       "      <td>2018-12-27</td>\n",
       "      <td>13.66</td>\n",
       "      <td>3</td>\n",
       "      <td>12</td>\n",
       "      <td>2018</td>\n",
       "    </tr>\n",
       "    <tr>\n",
       "      <th>2</th>\n",
       "      <td>1000_247</td>\n",
       "      <td>1000</td>\n",
       "      <td>2018-12-27</td>\n",
       "      <td>14.48</td>\n",
       "      <td>3</td>\n",
       "      <td>12</td>\n",
       "      <td>2018</td>\n",
       "    </tr>\n",
       "    <tr>\n",
       "      <th>3</th>\n",
       "      <td>1000_309</td>\n",
       "      <td>1000</td>\n",
       "      <td>2018-12-28</td>\n",
       "      <td>5.76</td>\n",
       "      <td>4</td>\n",
       "      <td>12</td>\n",
       "      <td>2018</td>\n",
       "    </tr>\n",
       "    <tr>\n",
       "      <th>4</th>\n",
       "      <td>1000_380</td>\n",
       "      <td>1000</td>\n",
       "      <td>2018-12-30</td>\n",
       "      <td>4.22</td>\n",
       "      <td>6</td>\n",
       "      <td>12</td>\n",
       "      <td>2018</td>\n",
       "    </tr>\n",
       "  </tbody>\n",
       "</table>\n",
       "</div>"
      ],
      "text/plain": [
       "         id user_id  call_date  duration  weekday  month  year\n",
       "0   1000_93    1000 2018-12-27      8.52        3     12  2018\n",
       "1  1000_145    1000 2018-12-27     13.66        3     12  2018\n",
       "2  1000_247    1000 2018-12-27     14.48        3     12  2018\n",
       "3  1000_309    1000 2018-12-28      5.76        4     12  2018\n",
       "4  1000_380    1000 2018-12-30      4.22        6     12  2018"
      ]
     },
     "execution_count": 11,
     "metadata": {},
     "output_type": "execute_result"
    }
   ],
   "source": [
    "#verificación de datos\n",
    "calls.head()"
   ]
  },
  {
   "cell_type": "code",
   "execution_count": 12,
   "metadata": {},
   "outputs": [
    {
     "data": {
      "text/plain": [
       "count    137735.000000\n",
       "mean          6.745927\n",
       "std           5.839241\n",
       "min           0.000000\n",
       "25%           1.290000\n",
       "50%           5.980000\n",
       "75%          10.690000\n",
       "max          37.600000\n",
       "Name: duration, dtype: float64"
      ]
     },
     "execution_count": 12,
     "metadata": {},
     "output_type": "execute_result"
    }
   ],
   "source": [
    "# resumen estadístico duration\n",
    "calls[\"duration\"].describe()"
   ]
  },
  {
   "cell_type": "code",
   "execution_count": 13,
   "metadata": {},
   "outputs": [
    {
     "data": {
      "text/plain": [
       "137735"
      ]
     },
     "execution_count": 13,
     "metadata": {},
     "output_type": "execute_result"
    }
   ],
   "source": [
    "# total de llamadas realizadas\n",
    "len(calls)"
   ]
  },
  {
   "cell_type": "markdown",
   "metadata": {},
   "source": [
    "Según los 137,735 llamadas realizadas por los 500 clientes, se tiene que las llamadas generalmente duran 7 min de promedio, y una media de 6 min, registrando que la llamada más larga fue de 37.6 min.\n",
    "\n",
    "Revisemos cómo están los datos con un histograma."
   ]
  },
  {
   "cell_type": "code",
   "execution_count": 14,
   "metadata": {},
   "outputs": [
    {
     "data": {
      "image/png": "[encoded data removed]",
      "text/plain": [
       "<Figure size 1080x576 with 1 Axes>"
      ]
     },
     "metadata": {},
     "output_type": "display_data"
    }
   ],
   "source": [
    "# histograma de duration calls\n",
    "sns.set(rc={'figure.figsize':(15,8)})\n",
    "sns.set_theme(style=\"darkgrid\")\n",
    "calls[\"duration\"].plot(kind=\"hist\", bins=60, title=\"Histograma de la duración de las llamadas\")\n",
    "plt.xlabel(\"Duración llamadas\")\n",
    "plt.ylabel(\"Frecuencia\")\n",
    "plt.show()"
   ]
  },
  {
   "cell_type": "markdown",
   "metadata": {},
   "source": [
    "Claramente se observa que hay muchas llamadas de 0.0 minutos como se identificó anteriormente, sin embargo, al visualizarlo de esta manera, se nota que si no se eliminan o reducen estos datos, el análisis posterior se verá influenciado por estos datos."
   ]
  },
  {
   "cell_type": "code",
   "execution_count": 15,
   "metadata": {},
   "outputs": [
    {
     "data": {
      "image/png": "[encoded data removed]",
      "text/plain": [
       "<Figure size 1080x576 with 1 Axes>"
      ]
     },
     "metadata": {},
     "output_type": "display_data"
    }
   ],
   "source": [
    "# boxplot de duration calls\n",
    "calls.boxplot(column=[\"duration\"])\n",
    "plt.title(\"Diagrama caja y bigote de llamadas\")\n",
    "plt.xlabel(\"Duración llamadas\")\n",
    "plt.show()"
   ]
  },
  {
   "cell_type": "markdown",
   "metadata": {},
   "source": [
    "A nivel de boxplot, se observa que a partir de la llamada con duración 26 min para arriba son datos atípicos.\n",
    "\n",
    "Según esta información, se cree que no es bueno eliminar o reducir la muestra de los datos atípicos superiores, ya que se estaría perdiendo información de los clientes que han sobrepasado el límite máximo de minutos.\n",
    "\n",
    "Sin embargo, se decide proceder a eliminar todas las llamadas perdidas registradas con 0.0 min, ya que no agregará valor a nuestro análisis posterior, tomando en cuenta que se quiere conocer cuánto es el ingreso por usuario y por plan, las llamadas con 0 min de duración son como llamadas no realizadas, por lo que no generan ningún costo."
   ]
  },
  {
   "cell_type": "code",
   "execution_count": 16,
   "metadata": {},
   "outputs": [],
   "source": [
    "# filtro de datos mayores a 0\n",
    "calls = calls.query('0 < duration')"
   ]
  },
  {
   "cell_type": "markdown",
   "metadata": {},
   "source": [
    "Volvemos a ver el resumen estadístico de los datos y el histograma."
   ]
  },
  {
   "cell_type": "code",
   "execution_count": 17,
   "metadata": {},
   "outputs": [
    {
     "data": {
      "text/plain": [
       "count    110901.000000\n",
       "mean          8.378196\n",
       "std           5.354567\n",
       "min           0.010000\n",
       "25%           4.150000\n",
       "50%           7.710000\n",
       "75%          11.820000\n",
       "max          37.600000\n",
       "Name: duration, dtype: float64"
      ]
     },
     "execution_count": 17,
     "metadata": {},
     "output_type": "execute_result"
    }
   ],
   "source": [
    "# resumen estadístico duration\n",
    "calls[\"duration\"].describe()"
   ]
  },
  {
   "cell_type": "code",
   "execution_count": 18,
   "metadata": {},
   "outputs": [
    {
     "data": {
      "text/plain": [
       "110901"
      ]
     },
     "execution_count": 18,
     "metadata": {},
     "output_type": "execute_result"
    }
   ],
   "source": [
    "# longitud de datos en calls\n",
    "len(calls)"
   ]
  },
  {
   "cell_type": "markdown",
   "metadata": {},
   "source": [
    "Vemos que sin los ceros y la cantidad de datos eliminados, el promedio y la mediana cambian, siendo 8.38 min y 7.71 min respectivamente."
   ]
  },
  {
   "cell_type": "code",
   "execution_count": 19,
   "metadata": {},
   "outputs": [
    {
     "data": {
      "image/png": "[encoded data removed]",
      "text/plain": [
       "<Figure size 1080x576 with 1 Axes>"
      ]
     },
     "metadata": {},
     "output_type": "display_data"
    }
   ],
   "source": [
    "# histograma de duration calls\n",
    "sns.set(rc={'figure.figsize':(15,8)})\n",
    "sns.set_theme(style=\"darkgrid\")\n",
    "calls[\"duration\"].plot(kind=\"hist\", bins=60, title=\"Histograma de la duración de las llamadas (actualizado)\")\n",
    "plt.xlabel(\"Duración llamadas\")\n",
    "plt.ylabel(\"Frecuencia\")\n",
    "plt.show()"
   ]
  },
  {
   "cell_type": "markdown",
   "metadata": {},
   "source": [
    "En cuanto al histograma vemos ya una mejor forma en cómo están distribuidos los datos, donde está una curva inclinada hacia la izquierda, con pocos datos hacia la derecha."
   ]
  },
  {
   "cell_type": "markdown",
   "metadata": {},
   "source": [
    "Finalmente procedemos a redondear las llamadas individuales por el minuto siguiente, es decir, si una llamada duró 0.01 segundos, se cobrará como 1 min de llamada, ya que esta es la política de Megaline."
   ]
  },
  {
   "cell_type": "code",
   "execution_count": 20,
   "metadata": {},
   "outputs": [],
   "source": [
    "# redondeo de datos hacia arriba\n",
    "calls = calls.copy()\n",
    "calls[\"duration\"] = calls[\"duration\"].apply(np.ceil)"
   ]
  },
  {
   "cell_type": "code",
   "execution_count": 21,
   "metadata": {},
   "outputs": [
    {
     "data": {
      "text/html": [
       "<div>\n",
       "<style scoped>\n",
       "    .dataframe tbody tr th:only-of-type {\n",
       "        vertical-align: middle;\n",
       "    }\n",
       "\n",
       "    .dataframe tbody tr th {\n",
       "        vertical-align: top;\n",
       "    }\n",
       "\n",
       "    .dataframe thead th {\n",
       "        text-align: right;\n",
       "    }\n",
       "</style>\n",
       "<table border=\"1\" class=\"dataframe\">\n",
       "  <thead>\n",
       "    <tr style=\"text-align: right;\">\n",
       "      <th></th>\n",
       "      <th>id</th>\n",
       "      <th>user_id</th>\n",
       "      <th>call_date</th>\n",
       "      <th>duration</th>\n",
       "      <th>weekday</th>\n",
       "      <th>month</th>\n",
       "      <th>year</th>\n",
       "    </tr>\n",
       "  </thead>\n",
       "  <tbody>\n",
       "    <tr>\n",
       "      <th>0</th>\n",
       "      <td>1000_93</td>\n",
       "      <td>1000</td>\n",
       "      <td>2018-12-27</td>\n",
       "      <td>9.0</td>\n",
       "      <td>3</td>\n",
       "      <td>12</td>\n",
       "      <td>2018</td>\n",
       "    </tr>\n",
       "    <tr>\n",
       "      <th>1</th>\n",
       "      <td>1000_145</td>\n",
       "      <td>1000</td>\n",
       "      <td>2018-12-27</td>\n",
       "      <td>14.0</td>\n",
       "      <td>3</td>\n",
       "      <td>12</td>\n",
       "      <td>2018</td>\n",
       "    </tr>\n",
       "    <tr>\n",
       "      <th>2</th>\n",
       "      <td>1000_247</td>\n",
       "      <td>1000</td>\n",
       "      <td>2018-12-27</td>\n",
       "      <td>15.0</td>\n",
       "      <td>3</td>\n",
       "      <td>12</td>\n",
       "      <td>2018</td>\n",
       "    </tr>\n",
       "    <tr>\n",
       "      <th>3</th>\n",
       "      <td>1000_309</td>\n",
       "      <td>1000</td>\n",
       "      <td>2018-12-28</td>\n",
       "      <td>6.0</td>\n",
       "      <td>4</td>\n",
       "      <td>12</td>\n",
       "      <td>2018</td>\n",
       "    </tr>\n",
       "    <tr>\n",
       "      <th>4</th>\n",
       "      <td>1000_380</td>\n",
       "      <td>1000</td>\n",
       "      <td>2018-12-30</td>\n",
       "      <td>5.0</td>\n",
       "      <td>6</td>\n",
       "      <td>12</td>\n",
       "      <td>2018</td>\n",
       "    </tr>\n",
       "  </tbody>\n",
       "</table>\n",
       "</div>"
      ],
      "text/plain": [
       "         id user_id  call_date  duration  weekday  month  year\n",
       "0   1000_93    1000 2018-12-27       9.0        3     12  2018\n",
       "1  1000_145    1000 2018-12-27      14.0        3     12  2018\n",
       "2  1000_247    1000 2018-12-27      15.0        3     12  2018\n",
       "3  1000_309    1000 2018-12-28       6.0        4     12  2018\n",
       "4  1000_380    1000 2018-12-30       5.0        6     12  2018"
      ]
     },
     "execution_count": 21,
     "metadata": {},
     "output_type": "execute_result"
    }
   ],
   "source": [
    "#verificación de datos\n",
    "calls.head()"
   ]
  },
  {
   "cell_type": "markdown",
   "metadata": {},
   "source": [
    "Con esto, hemos finalizado el análisis de los datos del archivo `calls`. "
   ]
  },
  {
   "cell_type": "markdown",
   "metadata": {},
   "source": [
    "#### Revisión `internet`"
   ]
  },
  {
   "cell_type": "markdown",
   "metadata": {},
   "source": [
    "Se verifica cuáles son los 10 primeros datos que se repiten más por columna para identificar alguna anomalía o error en internet."
   ]
  },
  {
   "cell_type": "code",
   "execution_count": 22,
   "metadata": {},
   "outputs": [
    {
     "name": "stdout",
     "output_type": "stream",
     "text": [
      "\n",
      "Frecuencia de categorías para columna: id\n",
      "1203_166    1\n",
      "1338_125    1\n",
      "1010_261    1\n",
      "1153_395    1\n",
      "1167_84     1\n",
      "1261_416    1\n",
      "1127_418    1\n",
      "1403_336    1\n",
      "1220_144    1\n",
      "1320_282    1\n",
      "Name: id, dtype: int64\n",
      "\n",
      "Frecuencia de categorías para columna: user_id\n",
      "1185    851\n",
      "1028    752\n",
      "1171    716\n",
      "1498    657\n",
      "1214    652\n",
      "1138    634\n",
      "1041    632\n",
      "1268    608\n",
      "1359    601\n",
      "1066    587\n",
      "Name: user_id, dtype: int64\n",
      "\n",
      "Frecuencia de categorías para columna: session_date\n",
      "2018-12-24    851\n",
      "2018-12-30    845\n",
      "2018-12-27    830\n",
      "2018-12-21    826\n",
      "2018-12-31    823\n",
      "2018-12-25    811\n",
      "2018-12-28    809\n",
      "2018-12-22    807\n",
      "2018-12-23    800\n",
      "2018-12-20    795\n",
      "Name: session_date, dtype: int64\n",
      "\n",
      "Frecuencia de categorías para columna: mb_used\n",
      "0.00      13747\n",
      "414.46        8\n",
      "435.77        8\n",
      "423.06        7\n",
      "313.79        7\n",
      "508.15        7\n",
      "355.33        7\n",
      "309.68        7\n",
      "131.28        7\n",
      "417.46        7\n",
      "Name: mb_used, dtype: int64\n"
     ]
    }
   ],
   "source": [
    "# frecuencia de datos repetidos por columna en calls\n",
    "internet_columns = [\"id\", \"user_id\", \"session_date\", \"mb_used\"]\n",
    "for col in internet_columns:\n",
    "    print ('\\nFrecuencia de categorías para columna: %s'%col)\n",
    "    print (internet[col].value_counts().head(10))"
   ]
  },
  {
   "cell_type": "code",
   "execution_count": 23,
   "metadata": {},
   "outputs": [
    {
     "data": {
      "text/html": [
       "<div>\n",
       "<style scoped>\n",
       "    .dataframe tbody tr th:only-of-type {\n",
       "        vertical-align: middle;\n",
       "    }\n",
       "\n",
       "    .dataframe tbody tr th {\n",
       "        vertical-align: top;\n",
       "    }\n",
       "\n",
       "    .dataframe thead th {\n",
       "        text-align: right;\n",
       "    }\n",
       "</style>\n",
       "<table border=\"1\" class=\"dataframe\">\n",
       "  <thead>\n",
       "    <tr style=\"text-align: right;\">\n",
       "      <th></th>\n",
       "      <th>id</th>\n",
       "      <th>user_id</th>\n",
       "      <th>session_date</th>\n",
       "      <th>mb_used</th>\n",
       "    </tr>\n",
       "  </thead>\n",
       "  <tbody>\n",
       "    <tr>\n",
       "      <th>0</th>\n",
       "      <td>1000_13</td>\n",
       "      <td>1000</td>\n",
       "      <td>2018-12-29</td>\n",
       "      <td>89.86</td>\n",
       "    </tr>\n",
       "    <tr>\n",
       "      <th>1</th>\n",
       "      <td>1000_204</td>\n",
       "      <td>1000</td>\n",
       "      <td>2018-12-31</td>\n",
       "      <td>0.00</td>\n",
       "    </tr>\n",
       "    <tr>\n",
       "      <th>2</th>\n",
       "      <td>1000_379</td>\n",
       "      <td>1000</td>\n",
       "      <td>2018-12-28</td>\n",
       "      <td>660.40</td>\n",
       "    </tr>\n",
       "    <tr>\n",
       "      <th>3</th>\n",
       "      <td>1000_413</td>\n",
       "      <td>1000</td>\n",
       "      <td>2018-12-26</td>\n",
       "      <td>270.99</td>\n",
       "    </tr>\n",
       "    <tr>\n",
       "      <th>4</th>\n",
       "      <td>1000_442</td>\n",
       "      <td>1000</td>\n",
       "      <td>2018-12-27</td>\n",
       "      <td>880.22</td>\n",
       "    </tr>\n",
       "  </tbody>\n",
       "</table>\n",
       "</div>"
      ],
      "text/plain": [
       "         id  user_id session_date  mb_used\n",
       "0   1000_13     1000   2018-12-29    89.86\n",
       "1  1000_204     1000   2018-12-31     0.00\n",
       "2  1000_379     1000   2018-12-28   660.40\n",
       "3  1000_413     1000   2018-12-26   270.99\n",
       "4  1000_442     1000   2018-12-27   880.22"
      ]
     },
     "execution_count": 23,
     "metadata": {},
     "output_type": "execute_result"
    }
   ],
   "source": [
    "# visualización del dataframe\n",
    "internet.head()"
   ]
  },
  {
   "cell_type": "markdown",
   "metadata": {},
   "source": [
    "Arriba se muestra los primeros 10 datos que más se repiten en cada columna.\n",
    "\n",
    "En `id` tenemos datos únicos, el cual es representado por el `user_id` y el `id` de la sesión de internet. \n",
    "\n",
    "En `user_id` es la identificación única de cada usuario. Vemos que el usuario 1185 ha navegado o usado el internet un total de 851 veces. \n",
    "\n",
    "En `session_date` tenemos la fecha que se usó el internet el cliente. La fecha que más se usó internet fue el 24 de diciembre de 2018.\n",
    "\n",
    "En `mb_used` muestra el volumen de datos gastados durante la sesión (en megabytes). Hay que tomar en cuenta que las sesiones web individuales no se redondean, por lo tanto, se indica que hay 13,747 sesiones durante el año que diferentes clientes no realizaron ningún uso del internet o no navegaron. "
   ]
  },
  {
   "cell_type": "markdown",
   "metadata": {},
   "source": [
    "De igual forma, la columna que se debe cambiar de tipo de dato es `session_date` cambiando a tipo de fecha, agregar el día de la semana, mes y año. También se cambia el `user_id` a tipo `str` ya que como es un identificador único, es más fácil manejarlo como palabra que como un valor entero. "
   ]
  },
  {
   "cell_type": "code",
   "execution_count": 24,
   "metadata": {},
   "outputs": [],
   "source": [
    "# cambiamos a datetime la columna `session_date`\n",
    "internet[\"session_date\"] = pd.to_datetime(internet[\"session_date\"], format='%Y-%m-%d')\n",
    "internet[\"user_id\"] = internet[\"user_id\"].astype(\"str\")"
   ]
  },
  {
   "cell_type": "code",
   "execution_count": 25,
   "metadata": {},
   "outputs": [],
   "source": [
    "# día de la semana de la publicación del anuncio\n",
    "internet['weekday'] = internet[\"session_date\"].dt.weekday\n",
    "internet[\"month\"] = internet[\"session_date\"].dt.month\n",
    "internet[\"year\"] = internet[\"session_date\"].dt.year"
   ]
  },
  {
   "cell_type": "code",
   "execution_count": 26,
   "metadata": {},
   "outputs": [
    {
     "name": "stdout",
     "output_type": "stream",
     "text": [
      "<class 'pandas.core.frame.DataFrame'>\n",
      "RangeIndex: 104825 entries, 0 to 104824\n",
      "Data columns (total 7 columns):\n",
      " #   Column        Non-Null Count   Dtype         \n",
      "---  ------        --------------   -----         \n",
      " 0   id            104825 non-null  object        \n",
      " 1   user_id       104825 non-null  object        \n",
      " 2   session_date  104825 non-null  datetime64[ns]\n",
      " 3   mb_used       104825 non-null  float64       \n",
      " 4   weekday       104825 non-null  int64         \n",
      " 5   month         104825 non-null  int64         \n",
      " 6   year          104825 non-null  int64         \n",
      "dtypes: datetime64[ns](1), float64(1), int64(3), object(2)\n",
      "memory usage: 5.6+ MB\n"
     ]
    }
   ],
   "source": [
    "# visualización general datos\n",
    "internet.info()"
   ]
  },
  {
   "cell_type": "code",
   "execution_count": 27,
   "metadata": {},
   "outputs": [
    {
     "name": "stdout",
     "output_type": "stream",
     "text": [
      "0.00      0.131142\n",
      "414.46    0.000076\n",
      "435.77    0.000076\n",
      "423.06    0.000067\n",
      "313.79    0.000067\n",
      "Name: mb_used, dtype: float64\n",
      "\n",
      "0    0.146139\n",
      "6    0.145500\n",
      "5    0.142342\n",
      "4    0.142228\n",
      "3    0.142084\n",
      "2    0.141617\n",
      "1    0.140091\n",
      "Name: weekday, dtype: float64\n",
      "\n",
      "12    0.224107\n",
      "11    0.177925\n",
      "10    0.154477\n",
      "9     0.121364\n",
      "8     0.102247\n",
      "7     0.077367\n",
      "6     0.057782\n",
      "5     0.040906\n",
      "4     0.024403\n",
      "3     0.012745\n",
      "2     0.005762\n",
      "1     0.000916\n",
      "Name: month, dtype: float64\n",
      "\n",
      "2018    1.0\n",
      "Name: year, dtype: float64\n"
     ]
    }
   ],
   "source": [
    "# distribución de datos y conteo; porcentajes\n",
    "print(internet[\"mb_used\"].value_counts(normalize=True).head())\n",
    "print(\"\")\n",
    "print(internet[\"weekday\"].value_counts(normalize=True))\n",
    "print(\"\")\n",
    "print(internet[\"month\"].value_counts(normalize=True))\n",
    "print(\"\")\n",
    "print(internet[\"year\"].value_counts(normalize=True))"
   ]
  },
  {
   "cell_type": "code",
   "execution_count": 28,
   "metadata": {},
   "outputs": [
    {
     "data": {
      "text/html": [
       "<div>\n",
       "<style scoped>\n",
       "    .dataframe tbody tr th:only-of-type {\n",
       "        vertical-align: middle;\n",
       "    }\n",
       "\n",
       "    .dataframe tbody tr th {\n",
       "        vertical-align: top;\n",
       "    }\n",
       "\n",
       "    .dataframe thead th {\n",
       "        text-align: right;\n",
       "    }\n",
       "</style>\n",
       "<table border=\"1\" class=\"dataframe\">\n",
       "  <thead>\n",
       "    <tr style=\"text-align: right;\">\n",
       "      <th></th>\n",
       "      <th>id</th>\n",
       "      <th>user_id</th>\n",
       "      <th>session_date</th>\n",
       "      <th>mb_used</th>\n",
       "      <th>weekday</th>\n",
       "      <th>month</th>\n",
       "      <th>year</th>\n",
       "    </tr>\n",
       "  </thead>\n",
       "  <tbody>\n",
       "    <tr>\n",
       "      <th>0</th>\n",
       "      <td>1000_13</td>\n",
       "      <td>1000</td>\n",
       "      <td>2018-12-29</td>\n",
       "      <td>89.86</td>\n",
       "      <td>5</td>\n",
       "      <td>12</td>\n",
       "      <td>2018</td>\n",
       "    </tr>\n",
       "    <tr>\n",
       "      <th>1</th>\n",
       "      <td>1000_204</td>\n",
       "      <td>1000</td>\n",
       "      <td>2018-12-31</td>\n",
       "      <td>0.00</td>\n",
       "      <td>0</td>\n",
       "      <td>12</td>\n",
       "      <td>2018</td>\n",
       "    </tr>\n",
       "    <tr>\n",
       "      <th>2</th>\n",
       "      <td>1000_379</td>\n",
       "      <td>1000</td>\n",
       "      <td>2018-12-28</td>\n",
       "      <td>660.40</td>\n",
       "      <td>4</td>\n",
       "      <td>12</td>\n",
       "      <td>2018</td>\n",
       "    </tr>\n",
       "    <tr>\n",
       "      <th>3</th>\n",
       "      <td>1000_413</td>\n",
       "      <td>1000</td>\n",
       "      <td>2018-12-26</td>\n",
       "      <td>270.99</td>\n",
       "      <td>2</td>\n",
       "      <td>12</td>\n",
       "      <td>2018</td>\n",
       "    </tr>\n",
       "    <tr>\n",
       "      <th>4</th>\n",
       "      <td>1000_442</td>\n",
       "      <td>1000</td>\n",
       "      <td>2018-12-27</td>\n",
       "      <td>880.22</td>\n",
       "      <td>3</td>\n",
       "      <td>12</td>\n",
       "      <td>2018</td>\n",
       "    </tr>\n",
       "  </tbody>\n",
       "</table>\n",
       "</div>"
      ],
      "text/plain": [
       "         id user_id session_date  mb_used  weekday  month  year\n",
       "0   1000_13    1000   2018-12-29    89.86        5     12  2018\n",
       "1  1000_204    1000   2018-12-31     0.00        0     12  2018\n",
       "2  1000_379    1000   2018-12-28   660.40        4     12  2018\n",
       "3  1000_413    1000   2018-12-26   270.99        2     12  2018\n",
       "4  1000_442    1000   2018-12-27   880.22        3     12  2018"
      ]
     },
     "execution_count": 28,
     "metadata": {},
     "output_type": "execute_result"
    }
   ],
   "source": [
    "# visualización df\n",
    "internet.head()"
   ]
  },
  {
   "cell_type": "markdown",
   "metadata": {},
   "source": [
    "A nivel del usuo diario y mensual de datos de internet, tiene un mismo comportamiento que las llamadas. A nivel de porcentaje de uso de datos, los 0 mgb representan apenas el 13%, un porcentaje menor que la cantidad de llamadas que se registran con 0 min.\n",
    "\n",
    "Revisemos los datos con 0 uso de internet por mes."
   ]
  },
  {
   "cell_type": "code",
   "execution_count": 29,
   "metadata": {},
   "outputs": [
    {
     "data": {
      "text/plain": [
       "count    104825.000000\n",
       "mean        366.713701\n",
       "std         277.170542\n",
       "min           0.000000\n",
       "25%         136.080000\n",
       "50%         343.980000\n",
       "75%         554.610000\n",
       "max        1693.470000\n",
       "Name: mb_used, dtype: float64"
      ]
     },
     "execution_count": 29,
     "metadata": {},
     "output_type": "execute_result"
    }
   ],
   "source": [
    "# resumen estadístico duration\n",
    "internet[\"mb_used\"].describe()"
   ]
  },
  {
   "cell_type": "code",
   "execution_count": 30,
   "metadata": {},
   "outputs": [
    {
     "data": {
      "text/plain": [
       "104825"
      ]
     },
     "execution_count": 30,
     "metadata": {},
     "output_type": "execute_result"
    }
   ],
   "source": [
    "# total registros\n",
    "len(internet)"
   ]
  },
  {
   "cell_type": "markdown",
   "metadata": {},
   "source": [
    "De los 104,825 registros que se tiene de uso de mb, se registró una navegación máxima de 1,693.47 mb, siendo el promedio de 366.71 mb y la media de 343.98 mb.\n",
    "\n",
    "Analicemos el histograma."
   ]
  },
  {
   "cell_type": "code",
   "execution_count": 31,
   "metadata": {},
   "outputs": [
    {
     "data": {
      "image/png": "[encoded data removed]",
      "text/plain": [
       "<Figure size 1080x576 with 1 Axes>"
      ]
     },
     "metadata": {},
     "output_type": "display_data"
    }
   ],
   "source": [
    "# histograma de duration internet\n",
    "internet[\"mb_used\"].plot(kind=\"hist\", bins=60, title=\"Histograma del uso de megas de internet\")\n",
    "plt.xlabel(\"Megas usadas\")\n",
    "plt.ylabel(\"Frecuencia\")\n",
    "plt.show()"
   ]
  },
  {
   "cell_type": "markdown",
   "metadata": {},
   "source": [
    "A simple vista, se observa que tiene un comportamiento similar que las llamadas, donde se registraron 0 mb de clientes o sesiones donde no se utilizó ningún mb al mes. En este caso, es mejor eliminar estos datos ya que no se van a cobrar, y al final nos interesa el total mensual de cada usuario. "
   ]
  },
  {
   "cell_type": "code",
   "execution_count": 32,
   "metadata": {},
   "outputs": [
    {
     "data": {
      "image/png": "[encoded data removed]",
      "text/plain": [
       "<Figure size 1080x576 with 1 Axes>"
      ]
     },
     "metadata": {},
     "output_type": "display_data"
    }
   ],
   "source": [
    "# boxplot de duration calls\n",
    "internet.boxplot(column=[\"mb_used\"])\n",
    "plt.title(\"Diagrama caja y bigote mb usados\")\n",
    "plt.xlabel(\"Megas usadas\")\n",
    "plt.show()"
   ]
  },
  {
   "cell_type": "markdown",
   "metadata": {},
   "source": [
    "Se registra igual valores atípicos en los mb usados, sin embargo son importantes mantenerlos para poder analizar de mejor manera si hay clientes que exedieron con el máximo mensual. \n",
    "\n",
    "Se procede a eliminar todos los 0 de nuestros datos de `mb_used`. "
   ]
  },
  {
   "cell_type": "code",
   "execution_count": 33,
   "metadata": {},
   "outputs": [],
   "source": [
    "# filtro de datos mayores a 0\n",
    "internet = internet.query('0 < mb_used')"
   ]
  },
  {
   "cell_type": "code",
   "execution_count": 34,
   "metadata": {},
   "outputs": [
    {
     "data": {
      "text/plain": [
       "count    91078.000000\n",
       "mean       422.064206\n",
       "std        255.063501\n",
       "min          0.010000\n",
       "25%        223.380000\n",
       "50%        395.905000\n",
       "75%        588.367500\n",
       "max       1693.470000\n",
       "Name: mb_used, dtype: float64"
      ]
     },
     "execution_count": 34,
     "metadata": {},
     "output_type": "execute_result"
    }
   ],
   "source": [
    "# resumen estadístico de mb_used\n",
    "internet[\"mb_used\"].describe()"
   ]
  },
  {
   "cell_type": "markdown",
   "metadata": {},
   "source": [
    "Se observa que el valor mínimo cambió a 0.01 mb y tanto como el promedio y la mediana aumentaron de valor. "
   ]
  },
  {
   "cell_type": "code",
   "execution_count": 35,
   "metadata": {},
   "outputs": [
    {
     "data": {
      "image/png": "[encoded data removed]",
      "text/plain": [
       "<Figure size 1080x576 with 1 Axes>"
      ]
     },
     "metadata": {},
     "output_type": "display_data"
    }
   ],
   "source": [
    "# histograma de duration internet\n",
    "internet[\"mb_used\"].plot(kind=\"hist\", bins=60, title=\"Histograma del uso de megas de internet\")\n",
    "plt.xlabel(\"Megas usadas\")\n",
    "plt.ylabel(\"Frecuencia\")\n",
    "plt.show()"
   ]
  },
  {
   "cell_type": "markdown",
   "metadata": {},
   "source": [
    "Al eliminar los 0 de `mb_used` se observa una curva más pronunciada, con valores atípicos al extremo derecho, y los datos centrales inclinados hacia la izquierda. En este caso, se puede entender mejor cómo están distribuidos los datos.\n",
    "\n",
    "Con esto, hemos finalizado la limpieza de la base de datos de `internet`."
   ]
  },
  {
   "cell_type": "markdown",
   "metadata": {},
   "source": [
    "#### Revisión `messages`"
   ]
  },
  {
   "cell_type": "markdown",
   "metadata": {},
   "source": [
    "Se verifica cuáles son los 10 primeros datos que se repiten más por columna para identificar alguna anomalía o error en `messages`. "
   ]
  },
  {
   "cell_type": "code",
   "execution_count": 36,
   "metadata": {},
   "outputs": [
    {
     "name": "stdout",
     "output_type": "stream",
     "text": [
      "\n",
      "Frecuencia de categorías para columna: id\n",
      "1203_166    1\n",
      "1472_0      1\n",
      "1329_853    1\n",
      "1385_82     1\n",
      "1077_310    1\n",
      "1362_591    1\n",
      "1362_301    1\n",
      "1016_106    1\n",
      "1408_381    1\n",
      "1132_397    1\n",
      "Name: id, dtype: int64\n",
      "\n",
      "Frecuencia de categorías para columna: user_id\n",
      "1132    1288\n",
      "1328    1233\n",
      "1324    1175\n",
      "1470    1056\n",
      "1077     804\n",
      "1028     756\n",
      "1076     740\n",
      "1336     690\n",
      "1362     672\n",
      "1335     654\n",
      "Name: user_id, dtype: int64\n",
      "\n",
      "Frecuencia de categorías para columna: message_date\n",
      "2018-12-28    702\n",
      "2018-12-27    701\n",
      "2018-12-31    699\n",
      "2018-12-25    699\n",
      "2018-12-18    688\n",
      "2018-12-30    683\n",
      "2018-12-29    680\n",
      "2018-12-19    679\n",
      "2018-12-21    677\n",
      "2018-12-24    654\n",
      "Name: message_date, dtype: int64\n"
     ]
    }
   ],
   "source": [
    "# frecuencia de datos repetidos por columna en calls\n",
    "messages_columns = [\"id\", \"user_id\", \"message_date\"]\n",
    "for col in messages_columns:\n",
    "    print ('\\nFrecuencia de categorías para columna: %s'%col)\n",
    "    print (messages[col].value_counts().head(10))"
   ]
  },
  {
   "cell_type": "code",
   "execution_count": 37,
   "metadata": {},
   "outputs": [
    {
     "data": {
      "text/html": [
       "<div>\n",
       "<style scoped>\n",
       "    .dataframe tbody tr th:only-of-type {\n",
       "        vertical-align: middle;\n",
       "    }\n",
       "\n",
       "    .dataframe tbody tr th {\n",
       "        vertical-align: top;\n",
       "    }\n",
       "\n",
       "    .dataframe thead th {\n",
       "        text-align: right;\n",
       "    }\n",
       "</style>\n",
       "<table border=\"1\" class=\"dataframe\">\n",
       "  <thead>\n",
       "    <tr style=\"text-align: right;\">\n",
       "      <th></th>\n",
       "      <th>id</th>\n",
       "      <th>user_id</th>\n",
       "      <th>message_date</th>\n",
       "    </tr>\n",
       "  </thead>\n",
       "  <tbody>\n",
       "    <tr>\n",
       "      <th>0</th>\n",
       "      <td>1000_125</td>\n",
       "      <td>1000</td>\n",
       "      <td>2018-12-27</td>\n",
       "    </tr>\n",
       "    <tr>\n",
       "      <th>1</th>\n",
       "      <td>1000_160</td>\n",
       "      <td>1000</td>\n",
       "      <td>2018-12-31</td>\n",
       "    </tr>\n",
       "    <tr>\n",
       "      <th>2</th>\n",
       "      <td>1000_223</td>\n",
       "      <td>1000</td>\n",
       "      <td>2018-12-31</td>\n",
       "    </tr>\n",
       "    <tr>\n",
       "      <th>3</th>\n",
       "      <td>1000_251</td>\n",
       "      <td>1000</td>\n",
       "      <td>2018-12-27</td>\n",
       "    </tr>\n",
       "    <tr>\n",
       "      <th>4</th>\n",
       "      <td>1000_255</td>\n",
       "      <td>1000</td>\n",
       "      <td>2018-12-26</td>\n",
       "    </tr>\n",
       "  </tbody>\n",
       "</table>\n",
       "</div>"
      ],
      "text/plain": [
       "         id  user_id message_date\n",
       "0  1000_125     1000   2018-12-27\n",
       "1  1000_160     1000   2018-12-31\n",
       "2  1000_223     1000   2018-12-31\n",
       "3  1000_251     1000   2018-12-27\n",
       "4  1000_255     1000   2018-12-26"
      ]
     },
     "execution_count": 37,
     "metadata": {},
     "output_type": "execute_result"
    }
   ],
   "source": [
    "# visualización de datos\n",
    "messages.head()"
   ]
  },
  {
   "cell_type": "markdown",
   "metadata": {},
   "source": [
    "Así como los dos anteriores tablas, se tiene información de `id` que en este caso es el id del usuario y del número mensaje enviado, el cual todos los datos son únicos, es decir no se repiten. \n",
    "\n",
    "Se tiene de igual forma `user_id` donde el usuario 1132 es el que más mensajes a enviado a lo largo del año 2018. \n",
    "\n",
    "Y por último se tiene `message_date` donde el 28 de diciembre fue el día que más mensajes se enviaron. "
   ]
  },
  {
   "cell_type": "markdown",
   "metadata": {},
   "source": [
    "De igual forma, la columna que se debe cambiar de tipo de dato es `message_date` cambiando a tipo de fecha, agregar el día de la semana, mes y año. También se cambia el `user_id` a tipo `str` ya que como es un identificador único, es más fácil manejarlo como palabra que como un valor entero. "
   ]
  },
  {
   "cell_type": "code",
   "execution_count": 38,
   "metadata": {},
   "outputs": [],
   "source": [
    "# cambiamos a datetime la columna `message_date`\n",
    "messages[\"message_date\"] = pd.to_datetime(messages[\"message_date\"], format='%Y-%m-%d')\n",
    "messages[\"user_id\"] = messages[\"user_id\"].astype(\"str\")"
   ]
  },
  {
   "cell_type": "code",
   "execution_count": 39,
   "metadata": {},
   "outputs": [],
   "source": [
    "# día de la semana de la publicación del anuncio\n",
    "messages['weekday'] = messages[\"message_date\"].dt.weekday\n",
    "messages[\"month\"] = messages[\"message_date\"].dt.month\n",
    "messages[\"year\"] = messages[\"message_date\"].dt.year"
   ]
  },
  {
   "cell_type": "code",
   "execution_count": 40,
   "metadata": {},
   "outputs": [
    {
     "name": "stdout",
     "output_type": "stream",
     "text": [
      "<class 'pandas.core.frame.DataFrame'>\n",
      "RangeIndex: 76051 entries, 0 to 76050\n",
      "Data columns (total 6 columns):\n",
      " #   Column        Non-Null Count  Dtype         \n",
      "---  ------        --------------  -----         \n",
      " 0   id            76051 non-null  object        \n",
      " 1   user_id       76051 non-null  object        \n",
      " 2   message_date  76051 non-null  datetime64[ns]\n",
      " 3   weekday       76051 non-null  int64         \n",
      " 4   month         76051 non-null  int64         \n",
      " 5   year          76051 non-null  int64         \n",
      "dtypes: datetime64[ns](1), int64(3), object(2)\n",
      "memory usage: 3.5+ MB\n"
     ]
    }
   ],
   "source": [
    "# Visualización general de los datos\n",
    "messages.info()"
   ]
  },
  {
   "cell_type": "code",
   "execution_count": 41,
   "metadata": {},
   "outputs": [
    {
     "name": "stdout",
     "output_type": "stream",
     "text": [
      "0    0.145034\n",
      "5    0.144942\n",
      "6    0.144627\n",
      "4    0.142878\n",
      "3    0.141984\n",
      "1    0.140314\n",
      "2    0.140222\n",
      "Name: weekday, dtype: float64\n",
      "\n",
      "12    0.250766\n",
      "11    0.184981\n",
      "10    0.160432\n",
      "9     0.121326\n",
      "8     0.097224\n",
      "7     0.068480\n",
      "6     0.050400\n",
      "5     0.036554\n",
      "4     0.017528\n",
      "3     0.007811\n",
      "2     0.003406\n",
      "1     0.001091\n",
      "Name: month, dtype: float64\n",
      "\n",
      "2018    1.0\n",
      "Name: year, dtype: float64\n"
     ]
    }
   ],
   "source": [
    "# distribución de datos y conteo; porcentajes\n",
    "print(messages[\"weekday\"].value_counts(normalize=True))\n",
    "print(\"\")\n",
    "print(messages[\"month\"].value_counts(normalize=True))\n",
    "print(\"\")\n",
    "print(messages[\"year\"].value_counts(normalize=True))"
   ]
  },
  {
   "cell_type": "markdown",
   "metadata": {},
   "source": [
    "Como se observa, al igual que llamadas e internet, los mensajes tienen un mismo comportamiento, donde el uso fue aumentando de forma gradual durante los meses del año. En relación con los días de la semana, la diferencia entre sí es muy corta, comportándose todo por igual.\n",
    "\n",
    "Continuamos analizando el resto de tablas."
   ]
  },
  {
   "cell_type": "markdown",
   "metadata": {},
   "source": [
    "#### Revisión `users`"
   ]
  },
  {
   "cell_type": "markdown",
   "metadata": {},
   "source": [
    "Se verifica cuáles son los 10 primeros datos que se repiten más por columna para identificar alguna anomalía o error en `users`. "
   ]
  },
  {
   "cell_type": "code",
   "execution_count": 42,
   "metadata": {},
   "outputs": [
    {
     "name": "stdout",
     "output_type": "stream",
     "text": [
      "\n",
      "Frecuencia de categorías para columna: user_id\n",
      "1024    1\n",
      "1353    1\n",
      "1366    1\n",
      "1365    1\n",
      "1364    1\n",
      "1363    1\n",
      "1362    1\n",
      "1361    1\n",
      "1360    1\n",
      "1359    1\n",
      "Name: user_id, dtype: int64\n",
      "\n",
      "Frecuencia de categorías para columna: first_name\n",
      "Seymour       3\n",
      "Jasper        3\n",
      "Leonila       3\n",
      "Jacelyn       2\n",
      "Jack          2\n",
      "Jeff          2\n",
      "Neal          2\n",
      "Lenard        2\n",
      "Georgianne    2\n",
      "Robt          2\n",
      "Name: first_name, dtype: int64\n",
      "\n",
      "Frecuencia de categorías para columna: last_name\n",
      "Brock        3\n",
      "Thompson     3\n",
      "Kelley       3\n",
      "Conley       3\n",
      "Wilkinson    3\n",
      "Hoffman      3\n",
      "Caldwell     3\n",
      "Grimes       3\n",
      "David        3\n",
      "Morrison     3\n",
      "Name: last_name, dtype: int64\n",
      "\n",
      "Frecuencia de categorías para columna: age\n",
      "18    15\n",
      "70    14\n",
      "69    14\n",
      "61    14\n",
      "27    14\n",
      "20    13\n",
      "28    13\n",
      "33    12\n",
      "30    12\n",
      "67    11\n",
      "Name: age, dtype: int64\n",
      "\n",
      "Frecuencia de categorías para columna: city\n",
      "New York-Newark-Jersey City, NY-NJ-PA MSA          80\n",
      "Los Angeles-Long Beach-Anaheim, CA MSA             29\n",
      "Dallas-Fort Worth-Arlington, TX MSA                21\n",
      "Chicago-Naperville-Elgin, IL-IN-WI MSA             19\n",
      "Philadelphia-Camden-Wilmington, PA-NJ-DE-MD MSA    17\n",
      "Atlanta-Sandy Springs-Roswell, GA MSA              14\n",
      "Seattle-Tacoma-Bellevue, WA MSA                    13\n",
      "Boston-Cambridge-Newton, MA-NH MSA                 12\n",
      "Miami-Fort Lauderdale-West Palm Beach, FL MSA      11\n",
      "Minneapolis-St. Paul-Bloomington, MN-WI MSA        11\n",
      "Name: city, dtype: int64\n",
      "\n",
      "Frecuencia de categorías para columna: reg_date\n",
      "2018-02-06    5\n",
      "2018-03-08    5\n",
      "2018-07-12    5\n",
      "2018-08-03    5\n",
      "2018-11-29    5\n",
      "2018-06-04    5\n",
      "2018-04-21    4\n",
      "2018-06-22    4\n",
      "2018-11-27    4\n",
      "2018-03-06    4\n",
      "Name: reg_date, dtype: int64\n",
      "\n",
      "Frecuencia de categorías para columna: plan\n",
      "surf        339\n",
      "ultimate    161\n",
      "Name: plan, dtype: int64\n",
      "\n",
      "Frecuencia de categorías para columna: churn_date\n",
      "2018-12-18    3\n",
      "2018-11-14    2\n",
      "2018-12-19    2\n",
      "2018-12-31    2\n",
      "2018-09-01    1\n",
      "2018-10-03    1\n",
      "2018-09-07    1\n",
      "2018-11-30    1\n",
      "2018-09-18    1\n",
      "2018-12-12    1\n",
      "Name: churn_date, dtype: int64\n"
     ]
    }
   ],
   "source": [
    "# frecuencia de datos repetidos por columna en calls\n",
    "for col in users:\n",
    "    print ('\\nFrecuencia de categorías para columna: %s'%col)\n",
    "    print (users[col].value_counts().head(10))"
   ]
  },
  {
   "cell_type": "code",
   "execution_count": 43,
   "metadata": {},
   "outputs": [
    {
     "data": {
      "text/html": [
       "<div>\n",
       "<style scoped>\n",
       "    .dataframe tbody tr th:only-of-type {\n",
       "        vertical-align: middle;\n",
       "    }\n",
       "\n",
       "    .dataframe tbody tr th {\n",
       "        vertical-align: top;\n",
       "    }\n",
       "\n",
       "    .dataframe thead th {\n",
       "        text-align: right;\n",
       "    }\n",
       "</style>\n",
       "<table border=\"1\" class=\"dataframe\">\n",
       "  <thead>\n",
       "    <tr style=\"text-align: right;\">\n",
       "      <th></th>\n",
       "      <th>user_id</th>\n",
       "      <th>first_name</th>\n",
       "      <th>last_name</th>\n",
       "      <th>age</th>\n",
       "      <th>city</th>\n",
       "      <th>reg_date</th>\n",
       "      <th>plan</th>\n",
       "      <th>churn_date</th>\n",
       "    </tr>\n",
       "  </thead>\n",
       "  <tbody>\n",
       "    <tr>\n",
       "      <th>0</th>\n",
       "      <td>1000</td>\n",
       "      <td>Anamaria</td>\n",
       "      <td>Bauer</td>\n",
       "      <td>45</td>\n",
       "      <td>Atlanta-Sandy Springs-Roswell, GA MSA</td>\n",
       "      <td>2018-12-24</td>\n",
       "      <td>ultimate</td>\n",
       "      <td>NaN</td>\n",
       "    </tr>\n",
       "    <tr>\n",
       "      <th>1</th>\n",
       "      <td>1001</td>\n",
       "      <td>Mickey</td>\n",
       "      <td>Wilkerson</td>\n",
       "      <td>28</td>\n",
       "      <td>Seattle-Tacoma-Bellevue, WA MSA</td>\n",
       "      <td>2018-08-13</td>\n",
       "      <td>surf</td>\n",
       "      <td>NaN</td>\n",
       "    </tr>\n",
       "    <tr>\n",
       "      <th>2</th>\n",
       "      <td>1002</td>\n",
       "      <td>Carlee</td>\n",
       "      <td>Hoffman</td>\n",
       "      <td>36</td>\n",
       "      <td>Las Vegas-Henderson-Paradise, NV MSA</td>\n",
       "      <td>2018-10-21</td>\n",
       "      <td>surf</td>\n",
       "      <td>NaN</td>\n",
       "    </tr>\n",
       "    <tr>\n",
       "      <th>3</th>\n",
       "      <td>1003</td>\n",
       "      <td>Reynaldo</td>\n",
       "      <td>Jenkins</td>\n",
       "      <td>52</td>\n",
       "      <td>Tulsa, OK MSA</td>\n",
       "      <td>2018-01-28</td>\n",
       "      <td>surf</td>\n",
       "      <td>NaN</td>\n",
       "    </tr>\n",
       "    <tr>\n",
       "      <th>4</th>\n",
       "      <td>1004</td>\n",
       "      <td>Leonila</td>\n",
       "      <td>Thompson</td>\n",
       "      <td>40</td>\n",
       "      <td>Seattle-Tacoma-Bellevue, WA MSA</td>\n",
       "      <td>2018-05-23</td>\n",
       "      <td>surf</td>\n",
       "      <td>NaN</td>\n",
       "    </tr>\n",
       "  </tbody>\n",
       "</table>\n",
       "</div>"
      ],
      "text/plain": [
       "   user_id first_name  last_name  age                                   city  \\\n",
       "0     1000   Anamaria      Bauer   45  Atlanta-Sandy Springs-Roswell, GA MSA   \n",
       "1     1001     Mickey  Wilkerson   28        Seattle-Tacoma-Bellevue, WA MSA   \n",
       "2     1002     Carlee    Hoffman   36   Las Vegas-Henderson-Paradise, NV MSA   \n",
       "3     1003   Reynaldo    Jenkins   52                          Tulsa, OK MSA   \n",
       "4     1004    Leonila   Thompson   40        Seattle-Tacoma-Bellevue, WA MSA   \n",
       "\n",
       "     reg_date      plan churn_date  \n",
       "0  2018-12-24  ultimate        NaN  \n",
       "1  2018-08-13      surf        NaN  \n",
       "2  2018-10-21      surf        NaN  \n",
       "3  2018-01-28      surf        NaN  \n",
       "4  2018-05-23      surf        NaN  "
      ]
     },
     "execution_count": 43,
     "metadata": {},
     "output_type": "execute_result"
    }
   ],
   "source": [
    "# visualización de datos\n",
    "users.head()"
   ]
  },
  {
   "cell_type": "markdown",
   "metadata": {},
   "source": [
    "A nivel general se tiene `id_user` que es identificador único de cada usuario, y que se podrá identificar qué usuario son los que han generado más llamadas, uso de mensajes o internet. Aquí están 500 usuarios que se tomaron de forma aleatoria. \n",
    "\n",
    "A nivel de nombre y apellido no nos influye en nuestro análisis aunque es interesante saber que los nombres que más se repiten son Seymour, Jasper y Leonila, y apellidos hay varios que se repiten 3 veces. \n",
    "\n",
    "En cuanto a la columna `age`, vemos que en la muestra se tiene más estudiantes de 18 años, y de ahí al parecer va hasta los 70 años. Es importante saber la edad de la muestra para entender de qué edad a qué edad se está evaluando los clientes, y si se justifica ajustar el presupuesto del ingreso. \n",
    "\n",
    "En la muestra de datos, la ciudad que es representada más por la cantidad de clientes es New York-Newark-Jersey City, NY-NJ-PA MSA. De igual forma, a nivel general se ve que la muestra de clientes fue tomada por las ciudades grandes. \n",
    "\n",
    "La fecha de cuándo se unieron al servicio, se registra que máximo 5 personas distintas se han unido al servicio, y las personas que han dejado el servicio se registraron un máximo de 3 personas en diciembre. La fecha que indica cuándo se unieron al servicio de telefonía es importante, ya que se puede observar cómo cambia la cantidad de personas que ingresaron, y por eso, el uso de los servicios conforme aumente el mes es gradual, y no estable durante todos los meses.\n",
    "\n",
    "Por último vemos que en la muestra de los 500 clientes, 339 tienen el plan surf y 161 el plan ultimate, indicando que más personas utilizan el plan surf, que es el más barato. "
   ]
  },
  {
   "cell_type": "markdown",
   "metadata": {},
   "source": [
    "Verifiquemos el rango de edad de los clientes. "
   ]
  },
  {
   "cell_type": "code",
   "execution_count": 44,
   "metadata": {},
   "outputs": [
    {
     "data": {
      "text/plain": [
       "count    500.000000\n",
       "mean      45.486000\n",
       "std       16.972269\n",
       "min       18.000000\n",
       "25%       30.000000\n",
       "50%       46.000000\n",
       "75%       61.000000\n",
       "max       75.000000\n",
       "Name: age, dtype: float64"
      ]
     },
     "execution_count": 44,
     "metadata": {},
     "output_type": "execute_result"
    }
   ],
   "source": [
    "# resumen estadístico de age\n",
    "users[\"age\"].describe()"
   ]
  },
  {
   "cell_type": "markdown",
   "metadata": {},
   "source": [
    "Realmente tenemos una muestra de clientes entre 18 hasta 75 años, el cual se podría decir que engloba a la población total de las personas que suelen utilizar más un dispositivo móvil, y que la empresa está más interesada en realizar publicidad para captar a nuevos clientes. \n",
    "\n",
    "Adicional, se obserrva que la media es de 45 años, y la mediana es de 46, por lo tanto se puede decir que la muestra de datos está representada de forma correcta y equilibrada."
   ]
  },
  {
   "cell_type": "markdown",
   "metadata": {},
   "source": [
    "Procedemos a cambiar a tipo fecha las columnas `reg_date` y `churn_date`, y crear las columnas día de la semana, mes y año. También se cambia el `user_id` a tipo `str` ya que como es un identificador único, es más fácil manejarlo como palabra que como un valor entero. "
   ]
  },
  {
   "cell_type": "code",
   "execution_count": 45,
   "metadata": {},
   "outputs": [],
   "source": [
    "# cambiamos a datetime la columna `message_date`\n",
    "users[\"reg_date\"] = pd.to_datetime(users[\"reg_date\"], format='%Y-%m-%d')\n",
    "users[\"churn_date\"] = pd.to_datetime(users[\"churn_date\"], format='%Y-%m-%d')\n",
    "messages[\"user_id\"] = messages[\"user_id\"].astype(\"int\")"
   ]
  },
  {
   "cell_type": "code",
   "execution_count": 46,
   "metadata": {},
   "outputs": [],
   "source": [
    "# día de la semana de la publicación del anuncio\n",
    "users['weekday_reg'] = users[\"reg_date\"].dt.weekday\n",
    "users[\"month_reg\"] = users[\"reg_date\"].dt.month\n",
    "users[\"year_reg\"] = users[\"reg_date\"].dt.year\n",
    "users['weekday_churn'] = users[\"churn_date\"].dt.weekday\n",
    "users[\"month_churn\"] = users[\"churn_date\"].dt.month\n",
    "users[\"year_churn\"] = users[\"churn_date\"].dt.year"
   ]
  },
  {
   "cell_type": "code",
   "execution_count": 47,
   "metadata": {},
   "outputs": [
    {
     "name": "stdout",
     "output_type": "stream",
     "text": [
      "<class 'pandas.core.frame.DataFrame'>\n",
      "RangeIndex: 500 entries, 0 to 499\n",
      "Data columns (total 14 columns):\n",
      " #   Column         Non-Null Count  Dtype         \n",
      "---  ------         --------------  -----         \n",
      " 0   user_id        500 non-null    int64         \n",
      " 1   first_name     500 non-null    object        \n",
      " 2   last_name      500 non-null    object        \n",
      " 3   age            500 non-null    int64         \n",
      " 4   city           500 non-null    object        \n",
      " 5   reg_date       500 non-null    datetime64[ns]\n",
      " 6   plan           500 non-null    object        \n",
      " 7   churn_date     34 non-null     datetime64[ns]\n",
      " 8   weekday_reg    500 non-null    int64         \n",
      " 9   month_reg      500 non-null    int64         \n",
      " 10  year_reg       500 non-null    int64         \n",
      " 11  weekday_churn  34 non-null     float64       \n",
      " 12  month_churn    34 non-null     float64       \n",
      " 13  year_churn     34 non-null     float64       \n",
      "dtypes: datetime64[ns](2), float64(3), int64(5), object(4)\n",
      "memory usage: 54.8+ KB\n"
     ]
    }
   ],
   "source": [
    "# información general\n",
    "users.info()"
   ]
  },
  {
   "cell_type": "code",
   "execution_count": 48,
   "metadata": {},
   "outputs": [
    {
     "name": "stdout",
     "output_type": "stream",
     "text": [
      "3    0.166\n",
      "0    0.162\n",
      "5    0.146\n",
      "4    0.144\n",
      "1    0.140\n",
      "6    0.134\n",
      "2    0.108\n",
      "Name: weekday_reg, dtype: float64\n",
      "\n",
      "6     0.108\n",
      "1     0.098\n",
      "8     0.094\n",
      "4     0.090\n",
      "2     0.084\n",
      "10    0.084\n",
      "3     0.080\n",
      "5     0.076\n",
      "11    0.076\n",
      "12    0.074\n",
      "7     0.072\n",
      "9     0.064\n",
      "Name: month_reg, dtype: float64\n",
      "\n",
      "2018    1.0\n",
      "Name: year_reg, dtype: float64\n"
     ]
    }
   ],
   "source": [
    "# distribución de datos y conteo; porcentajes\n",
    "print(users[\"weekday_reg\"].value_counts(normalize=True))\n",
    "print(\"\")\n",
    "print(users[\"month_reg\"].value_counts(normalize=True))\n",
    "print(\"\")\n",
    "print(users[\"year_reg\"].value_counts(normalize=True))"
   ]
  },
  {
   "cell_type": "markdown",
   "metadata": {},
   "source": [
    "Analizando la distribución de los clientes que se han registrado a los planes, se muestra que hay una cantidad mayor de registros en junio en comparación con el resto de meses, aunque la distribución entre los meses de igual forma varía poco.  \n",
    "\n",
    "Verifiquemos la información de los clientes que han dejado los planes de telefonía de Megaline."
   ]
  },
  {
   "cell_type": "code",
   "execution_count": 49,
   "metadata": {},
   "outputs": [
    {
     "name": "stdout",
     "output_type": "stream",
     "text": [
      "2.0    0.235294\n",
      "0.0    0.147059\n",
      "5.0    0.147059\n",
      "1.0    0.147059\n",
      "6.0    0.147059\n",
      "3.0    0.088235\n",
      "4.0    0.088235\n",
      "Name: weekday_churn, dtype: float64\n",
      "\n",
      "12.0    0.411765\n",
      "11.0    0.264706\n",
      "10.0    0.117647\n",
      "9.0     0.117647\n",
      "8.0     0.058824\n",
      "7.0     0.029412\n",
      "Name: month_churn, dtype: float64\n",
      "\n",
      "2018.0    1.0\n",
      "Name: year_churn, dtype: float64\n"
     ]
    }
   ],
   "source": [
    "# distribución de datos y conteo; porcentajes\n",
    "print(users[\"weekday_churn\"].value_counts(normalize=True))\n",
    "print(\"\")\n",
    "print(users[\"month_churn\"].value_counts(normalize=True))\n",
    "print(\"\")\n",
    "print(users[\"year_churn\"].value_counts(normalize=True))"
   ]
  },
  {
   "cell_type": "markdown",
   "metadata": {},
   "source": [
    "Diciembre es el mes que más personas han dejado los planes de Megaline. De igual forma, observamos que a partir de julio en adelante, los clientes comenzaron a dejar los planes. "
   ]
  },
  {
   "cell_type": "markdown",
   "metadata": {},
   "source": [
    "#### Revisión `plans`"
   ]
  },
  {
   "cell_type": "markdown",
   "metadata": {},
   "source": [
    "En el archivo `plans` se tiene un resumen de la información que ofrece cada plan: \n",
    "- Precio mensual\n",
    "- Mensajes, mb y minutos incluido\n",
    "- Precio por gb, mensaje y minuto en caso de que se exedan\n",
    "\n",
    "Analicemos si se necesita cambiar el tipo de dato de alguna columna: "
   ]
  },
  {
   "cell_type": "code",
   "execution_count": 50,
   "metadata": {},
   "outputs": [
    {
     "name": "stdout",
     "output_type": "stream",
     "text": [
      "<class 'pandas.core.frame.DataFrame'>\n",
      "RangeIndex: 2 entries, 0 to 1\n",
      "Data columns (total 8 columns):\n",
      " #   Column                 Non-Null Count  Dtype  \n",
      "---  ------                 --------------  -----  \n",
      " 0   messages_included      2 non-null      int64  \n",
      " 1   mb_per_month_included  2 non-null      int64  \n",
      " 2   minutes_included       2 non-null      int64  \n",
      " 3   usd_monthly_pay        2 non-null      int64  \n",
      " 4   usd_per_gb             2 non-null      int64  \n",
      " 5   usd_per_message        2 non-null      float64\n",
      " 6   usd_per_minute         2 non-null      float64\n",
      " 7   plan_name              2 non-null      object \n",
      "dtypes: float64(2), int64(5), object(1)\n",
      "memory usage: 256.0+ bytes\n"
     ]
    }
   ],
   "source": [
    "# información general\n",
    "plans.info()"
   ]
  },
  {
   "cell_type": "code",
   "execution_count": 51,
   "metadata": {},
   "outputs": [
    {
     "data": {
      "text/html": [
       "<div>\n",
       "<style scoped>\n",
       "    .dataframe tbody tr th:only-of-type {\n",
       "        vertical-align: middle;\n",
       "    }\n",
       "\n",
       "    .dataframe tbody tr th {\n",
       "        vertical-align: top;\n",
       "    }\n",
       "\n",
       "    .dataframe thead th {\n",
       "        text-align: right;\n",
       "    }\n",
       "</style>\n",
       "<table border=\"1\" class=\"dataframe\">\n",
       "  <thead>\n",
       "    <tr style=\"text-align: right;\">\n",
       "      <th></th>\n",
       "      <th>messages_included</th>\n",
       "      <th>mb_per_month_included</th>\n",
       "      <th>minutes_included</th>\n",
       "      <th>usd_monthly_pay</th>\n",
       "      <th>usd_per_gb</th>\n",
       "      <th>usd_per_message</th>\n",
       "      <th>usd_per_minute</th>\n",
       "      <th>plan_name</th>\n",
       "    </tr>\n",
       "  </thead>\n",
       "  <tbody>\n",
       "    <tr>\n",
       "      <th>0</th>\n",
       "      <td>50</td>\n",
       "      <td>15360</td>\n",
       "      <td>500</td>\n",
       "      <td>20</td>\n",
       "      <td>10</td>\n",
       "      <td>0.03</td>\n",
       "      <td>0.03</td>\n",
       "      <td>surf</td>\n",
       "    </tr>\n",
       "    <tr>\n",
       "      <th>1</th>\n",
       "      <td>1000</td>\n",
       "      <td>30720</td>\n",
       "      <td>3000</td>\n",
       "      <td>70</td>\n",
       "      <td>7</td>\n",
       "      <td>0.01</td>\n",
       "      <td>0.01</td>\n",
       "      <td>ultimate</td>\n",
       "    </tr>\n",
       "  </tbody>\n",
       "</table>\n",
       "</div>"
      ],
      "text/plain": [
       "   messages_included  mb_per_month_included  minutes_included  \\\n",
       "0                 50                  15360               500   \n",
       "1               1000                  30720              3000   \n",
       "\n",
       "   usd_monthly_pay  usd_per_gb  usd_per_message  usd_per_minute plan_name  \n",
       "0               20          10             0.03            0.03      surf  \n",
       "1               70           7             0.01            0.01  ultimate  "
      ]
     },
     "execution_count": 51,
     "metadata": {},
     "output_type": "execute_result"
    }
   ],
   "source": [
    "# información a desplegar\n",
    "plans"
   ]
  },
  {
   "cell_type": "markdown",
   "metadata": {},
   "source": [
    "Los datos que se tiene según el tipo de columna hacen sentido en relación a la información que se está presentando, por lo tanto no se necesita cambiar el tipo columna de ningún dato. "
   ]
  },
  {
   "cell_type": "markdown",
   "metadata": {},
   "source": [
    "#### Análisis por usuario"
   ]
  },
  {
   "cell_type": "markdown",
   "metadata": {},
   "source": [
    "Una vez ya limpio la información de cada tabla, procedemos a realizar un análisis más profundo en los datos."
   ]
  },
  {
   "cell_type": "markdown",
   "metadata": {},
   "source": [
    "##### Número de llamadas realizadas y minutos utilizados al mes"
   ]
  },
  {
   "cell_type": "markdown",
   "metadata": {},
   "source": [
    "Para mostrar el número de llamadas realizadas se utilizará un `pivot_table` del dataset `calls`. Se contará el número de llamadas realizadas por los usuarios en cada mes.  "
   ]
  },
  {
   "cell_type": "code",
   "execution_count": 52,
   "metadata": {},
   "outputs": [],
   "source": [
    "# pivot_table llamadas por usuario al mes\n",
    "calls_per_month = pd.pivot_table(\n",
    "    calls, \n",
    "    values = \"id\",\n",
    "    index = [\"user_id\", \"month\"],\n",
    "    aggfunc = \"count\", \n",
    "    fill_value=0\n",
    ")"
   ]
  },
  {
   "cell_type": "code",
   "execution_count": 53,
   "metadata": {},
   "outputs": [
    {
     "data": {
      "text/html": [
       "<div>\n",
       "<style scoped>\n",
       "    .dataframe tbody tr th:only-of-type {\n",
       "        vertical-align: middle;\n",
       "    }\n",
       "\n",
       "    .dataframe tbody tr th {\n",
       "        vertical-align: top;\n",
       "    }\n",
       "\n",
       "    .dataframe thead th {\n",
       "        text-align: right;\n",
       "    }\n",
       "</style>\n",
       "<table border=\"1\" class=\"dataframe\">\n",
       "  <thead>\n",
       "    <tr style=\"text-align: right;\">\n",
       "      <th></th>\n",
       "      <th></th>\n",
       "      <th>id</th>\n",
       "    </tr>\n",
       "    <tr>\n",
       "      <th>user_id</th>\n",
       "      <th>month</th>\n",
       "      <th></th>\n",
       "    </tr>\n",
       "  </thead>\n",
       "  <tbody>\n",
       "    <tr>\n",
       "      <th>1267</th>\n",
       "      <th>12</th>\n",
       "      <td>167</td>\n",
       "    </tr>\n",
       "    <tr>\n",
       "      <th>1329</th>\n",
       "      <th>12</th>\n",
       "      <td>156</td>\n",
       "    </tr>\n",
       "    <tr>\n",
       "      <th>1382</th>\n",
       "      <th>8</th>\n",
       "      <td>150</td>\n",
       "    </tr>\n",
       "    <tr>\n",
       "      <th>1240</th>\n",
       "      <th>9</th>\n",
       "      <td>150</td>\n",
       "    </tr>\n",
       "    <tr>\n",
       "      <th>1365</th>\n",
       "      <th>12</th>\n",
       "      <td>147</td>\n",
       "    </tr>\n",
       "    <tr>\n",
       "      <th>1329</th>\n",
       "      <th>10</th>\n",
       "      <td>146</td>\n",
       "    </tr>\n",
       "    <tr>\n",
       "      <th>1324</th>\n",
       "      <th>11</th>\n",
       "      <td>146</td>\n",
       "    </tr>\n",
       "    <tr>\n",
       "      <th>1382</th>\n",
       "      <th>12</th>\n",
       "      <td>145</td>\n",
       "    </tr>\n",
       "    <tr>\n",
       "      <th>1052</th>\n",
       "      <th>12</th>\n",
       "      <td>142</td>\n",
       "    </tr>\n",
       "    <tr>\n",
       "      <th>1412</th>\n",
       "      <th>7</th>\n",
       "      <td>137</td>\n",
       "    </tr>\n",
       "    <tr>\n",
       "      <th>1382</th>\n",
       "      <th>9</th>\n",
       "      <td>134</td>\n",
       "    </tr>\n",
       "    <tr>\n",
       "      <th>1365</th>\n",
       "      <th>10</th>\n",
       "      <td>133</td>\n",
       "    </tr>\n",
       "    <tr>\n",
       "      <th rowspan=\"2\" valign=\"top\">1057</th>\n",
       "      <th>12</th>\n",
       "      <td>132</td>\n",
       "    </tr>\n",
       "    <tr>\n",
       "      <th>10</th>\n",
       "      <td>132</td>\n",
       "    </tr>\n",
       "    <tr>\n",
       "      <th rowspan=\"2\" valign=\"top\">1329</th>\n",
       "      <th>11</th>\n",
       "      <td>131</td>\n",
       "    </tr>\n",
       "    <tr>\n",
       "      <th>9</th>\n",
       "      <td>130</td>\n",
       "    </tr>\n",
       "    <tr>\n",
       "      <th>1382</th>\n",
       "      <th>7</th>\n",
       "      <td>129</td>\n",
       "    </tr>\n",
       "    <tr>\n",
       "      <th rowspan=\"2\" valign=\"top\">1240</th>\n",
       "      <th>7</th>\n",
       "      <td>127</td>\n",
       "    </tr>\n",
       "    <tr>\n",
       "      <th>12</th>\n",
       "      <td>126</td>\n",
       "    </tr>\n",
       "    <tr>\n",
       "      <th>1014</th>\n",
       "      <th>12</th>\n",
       "      <td>125</td>\n",
       "    </tr>\n",
       "    <tr>\n",
       "      <th>1365</th>\n",
       "      <th>7</th>\n",
       "      <td>125</td>\n",
       "    </tr>\n",
       "    <tr>\n",
       "      <th>1240</th>\n",
       "      <th>10</th>\n",
       "      <td>125</td>\n",
       "    </tr>\n",
       "    <tr>\n",
       "      <th>1057</th>\n",
       "      <th>11</th>\n",
       "      <td>124</td>\n",
       "    </tr>\n",
       "    <tr>\n",
       "      <th>1240</th>\n",
       "      <th>11</th>\n",
       "      <td>124</td>\n",
       "    </tr>\n",
       "    <tr>\n",
       "      <th>1412</th>\n",
       "      <th>12</th>\n",
       "      <td>123</td>\n",
       "    </tr>\n",
       "    <tr>\n",
       "      <th rowspan=\"2\" valign=\"top\">1365</th>\n",
       "      <th>8</th>\n",
       "      <td>123</td>\n",
       "    </tr>\n",
       "    <tr>\n",
       "      <th>11</th>\n",
       "      <td>123</td>\n",
       "    </tr>\n",
       "    <tr>\n",
       "      <th>1412</th>\n",
       "      <th>9</th>\n",
       "      <td>122</td>\n",
       "    </tr>\n",
       "    <tr>\n",
       "      <th>1365</th>\n",
       "      <th>9</th>\n",
       "      <td>121</td>\n",
       "    </tr>\n",
       "    <tr>\n",
       "      <th>1324</th>\n",
       "      <th>5</th>\n",
       "      <td>120</td>\n",
       "    </tr>\n",
       "  </tbody>\n",
       "</table>\n",
       "</div>"
      ],
      "text/plain": [
       "                id\n",
       "user_id month     \n",
       "1267    12     167\n",
       "1329    12     156\n",
       "1382    8      150\n",
       "1240    9      150\n",
       "1365    12     147\n",
       "1329    10     146\n",
       "1324    11     146\n",
       "1382    12     145\n",
       "1052    12     142\n",
       "1412    7      137\n",
       "1382    9      134\n",
       "1365    10     133\n",
       "1057    12     132\n",
       "        10     132\n",
       "1329    11     131\n",
       "        9      130\n",
       "1382    7      129\n",
       "1240    7      127\n",
       "        12     126\n",
       "1014    12     125\n",
       "1365    7      125\n",
       "1240    10     125\n",
       "1057    11     124\n",
       "1240    11     124\n",
       "1412    12     123\n",
       "1365    8      123\n",
       "        11     123\n",
       "1412    9      122\n",
       "1365    9      121\n",
       "1324    5      120"
      ]
     },
     "execution_count": 53,
     "metadata": {},
     "output_type": "execute_result"
    }
   ],
   "source": [
    "# primeros 30 datos\n",
    "calls_per_month.sort_values(\"id\", ascending=False).head(30)"
   ]
  },
  {
   "cell_type": "markdown",
   "metadata": {},
   "source": [
    "La tabla de arriba muestra de forma ordenada (de mayor a menor) los 30 primeros datos sobre la cantidad de llamadas realizadas por usuario, según el mes. Se registró que el usuario `1267` realizó en diciembre 167 llamadas, siendo el usuario más activo en el 2018 en Megaline. "
   ]
  },
  {
   "cell_type": "markdown",
   "metadata": {},
   "source": [
    "Adicional, se cree que es importante saber cuántos meses aparece cada usuario, por lo que habrá algunos clientes que serán más antiguos y otros no tanto. "
   ]
  },
  {
   "cell_type": "code",
   "execution_count": 54,
   "metadata": {},
   "outputs": [],
   "source": [
    "# resetear índice\n",
    "calls_per_month = calls_per_month.reset_index()"
   ]
  },
  {
   "cell_type": "code",
   "execution_count": 55,
   "metadata": {},
   "outputs": [
    {
     "data": {
      "text/html": [
       "<div>\n",
       "<style scoped>\n",
       "    .dataframe tbody tr th:only-of-type {\n",
       "        vertical-align: middle;\n",
       "    }\n",
       "\n",
       "    .dataframe tbody tr th {\n",
       "        vertical-align: top;\n",
       "    }\n",
       "\n",
       "    .dataframe thead th {\n",
       "        text-align: right;\n",
       "    }\n",
       "</style>\n",
       "<table border=\"1\" class=\"dataframe\">\n",
       "  <thead>\n",
       "    <tr style=\"text-align: right;\">\n",
       "      <th></th>\n",
       "      <th>user_id</th>\n",
       "      <th>month</th>\n",
       "      <th>id</th>\n",
       "    </tr>\n",
       "  </thead>\n",
       "  <tbody>\n",
       "    <tr>\n",
       "      <th>0</th>\n",
       "      <td>1000</td>\n",
       "      <td>12</td>\n",
       "      <td>16</td>\n",
       "    </tr>\n",
       "    <tr>\n",
       "      <th>1</th>\n",
       "      <td>1001</td>\n",
       "      <td>8</td>\n",
       "      <td>22</td>\n",
       "    </tr>\n",
       "    <tr>\n",
       "      <th>2</th>\n",
       "      <td>1001</td>\n",
       "      <td>9</td>\n",
       "      <td>38</td>\n",
       "    </tr>\n",
       "    <tr>\n",
       "      <th>3</th>\n",
       "      <td>1001</td>\n",
       "      <td>10</td>\n",
       "      <td>47</td>\n",
       "    </tr>\n",
       "    <tr>\n",
       "      <th>4</th>\n",
       "      <td>1001</td>\n",
       "      <td>11</td>\n",
       "      <td>49</td>\n",
       "    </tr>\n",
       "  </tbody>\n",
       "</table>\n",
       "</div>"
      ],
      "text/plain": [
       "  user_id  month  id\n",
       "0    1000     12  16\n",
       "1    1001      8  22\n",
       "2    1001      9  38\n",
       "3    1001     10  47\n",
       "4    1001     11  49"
      ]
     },
     "execution_count": 55,
     "metadata": {},
     "output_type": "execute_result"
    }
   ],
   "source": [
    "# comprobación de info\n",
    "calls_per_month.head()"
   ]
  },
  {
   "cell_type": "code",
   "execution_count": 56,
   "metadata": {},
   "outputs": [],
   "source": [
    "# pivot_table llamadas por usuario al mes\n",
    "user_id_per_month = pd.pivot_table(\n",
    "    calls_per_month, \n",
    "    values = \"month\",\n",
    "    index = \"user_id\",\n",
    "    aggfunc = \"count\", \n",
    "    fill_value=0\n",
    ")"
   ]
  },
  {
   "cell_type": "code",
   "execution_count": 57,
   "metadata": {},
   "outputs": [
    {
     "data": {
      "text/html": [
       "<div>\n",
       "<style scoped>\n",
       "    .dataframe tbody tr th:only-of-type {\n",
       "        vertical-align: middle;\n",
       "    }\n",
       "\n",
       "    .dataframe tbody tr th {\n",
       "        vertical-align: top;\n",
       "    }\n",
       "\n",
       "    .dataframe thead th {\n",
       "        text-align: right;\n",
       "    }\n",
       "</style>\n",
       "<table border=\"1\" class=\"dataframe\">\n",
       "  <thead>\n",
       "    <tr style=\"text-align: right;\">\n",
       "      <th></th>\n",
       "      <th>month</th>\n",
       "    </tr>\n",
       "    <tr>\n",
       "      <th>user_id</th>\n",
       "      <th></th>\n",
       "    </tr>\n",
       "  </thead>\n",
       "  <tbody>\n",
       "    <tr>\n",
       "      <th>1000</th>\n",
       "      <td>1</td>\n",
       "    </tr>\n",
       "    <tr>\n",
       "      <th>1001</th>\n",
       "      <td>5</td>\n",
       "    </tr>\n",
       "    <tr>\n",
       "      <th>1002</th>\n",
       "      <td>3</td>\n",
       "    </tr>\n",
       "    <tr>\n",
       "      <th>1003</th>\n",
       "      <td>1</td>\n",
       "    </tr>\n",
       "    <tr>\n",
       "      <th>1004</th>\n",
       "      <td>8</td>\n",
       "    </tr>\n",
       "    <tr>\n",
       "      <th>...</th>\n",
       "      <td>...</td>\n",
       "    </tr>\n",
       "    <tr>\n",
       "      <th>1495</th>\n",
       "      <td>4</td>\n",
       "    </tr>\n",
       "    <tr>\n",
       "      <th>1496</th>\n",
       "      <td>5</td>\n",
       "    </tr>\n",
       "    <tr>\n",
       "      <th>1497</th>\n",
       "      <td>1</td>\n",
       "    </tr>\n",
       "    <tr>\n",
       "      <th>1498</th>\n",
       "      <td>11</td>\n",
       "    </tr>\n",
       "    <tr>\n",
       "      <th>1499</th>\n",
       "      <td>4</td>\n",
       "    </tr>\n",
       "  </tbody>\n",
       "</table>\n",
       "<p>481 rows × 1 columns</p>\n",
       "</div>"
      ],
      "text/plain": [
       "         month\n",
       "user_id       \n",
       "1000         1\n",
       "1001         5\n",
       "1002         3\n",
       "1003         1\n",
       "1004         8\n",
       "...        ...\n",
       "1495         4\n",
       "1496         5\n",
       "1497         1\n",
       "1498        11\n",
       "1499         4\n",
       "\n",
       "[481 rows x 1 columns]"
      ]
     },
     "execution_count": 57,
     "metadata": {},
     "output_type": "execute_result"
    }
   ],
   "source": [
    "# visión general\n",
    "user_id_per_month"
   ]
  },
  {
   "cell_type": "code",
   "execution_count": 58,
   "metadata": {},
   "outputs": [
    {
     "data": {
      "text/html": [
       "<div>\n",
       "<style scoped>\n",
       "    .dataframe tbody tr th:only-of-type {\n",
       "        vertical-align: middle;\n",
       "    }\n",
       "\n",
       "    .dataframe tbody tr th {\n",
       "        vertical-align: top;\n",
       "    }\n",
       "\n",
       "    .dataframe thead th {\n",
       "        text-align: right;\n",
       "    }\n",
       "</style>\n",
       "<table border=\"1\" class=\"dataframe\">\n",
       "  <thead>\n",
       "    <tr style=\"text-align: right;\">\n",
       "      <th></th>\n",
       "      <th>month</th>\n",
       "    </tr>\n",
       "    <tr>\n",
       "      <th>user_id</th>\n",
       "      <th></th>\n",
       "    </tr>\n",
       "  </thead>\n",
       "  <tbody>\n",
       "    <tr>\n",
       "      <th>1042</th>\n",
       "      <td>12</td>\n",
       "    </tr>\n",
       "    <tr>\n",
       "      <th>1077</th>\n",
       "      <td>12</td>\n",
       "    </tr>\n",
       "    <tr>\n",
       "      <th>1214</th>\n",
       "      <td>12</td>\n",
       "    </tr>\n",
       "    <tr>\n",
       "      <th>1362</th>\n",
       "      <td>12</td>\n",
       "    </tr>\n",
       "    <tr>\n",
       "      <th>1196</th>\n",
       "      <td>12</td>\n",
       "    </tr>\n",
       "    <tr>\n",
       "      <th>1185</th>\n",
       "      <td>12</td>\n",
       "    </tr>\n",
       "    <tr>\n",
       "      <th>1171</th>\n",
       "      <td>11</td>\n",
       "    </tr>\n",
       "    <tr>\n",
       "      <th>1408</th>\n",
       "      <td>11</td>\n",
       "    </tr>\n",
       "    <tr>\n",
       "      <th>1099</th>\n",
       "      <td>11</td>\n",
       "    </tr>\n",
       "    <tr>\n",
       "      <th>1261</th>\n",
       "      <td>11</td>\n",
       "    </tr>\n",
       "    <tr>\n",
       "      <th>1138</th>\n",
       "      <td>11</td>\n",
       "    </tr>\n",
       "    <tr>\n",
       "      <th>1155</th>\n",
       "      <td>11</td>\n",
       "    </tr>\n",
       "    <tr>\n",
       "      <th>1359</th>\n",
       "      <td>11</td>\n",
       "    </tr>\n",
       "    <tr>\n",
       "      <th>1498</th>\n",
       "      <td>11</td>\n",
       "    </tr>\n",
       "    <tr>\n",
       "      <th>1406</th>\n",
       "      <td>10</td>\n",
       "    </tr>\n",
       "    <tr>\n",
       "      <th>1050</th>\n",
       "      <td>10</td>\n",
       "    </tr>\n",
       "    <tr>\n",
       "      <th>1062</th>\n",
       "      <td>10</td>\n",
       "    </tr>\n",
       "    <tr>\n",
       "      <th>1066</th>\n",
       "      <td>10</td>\n",
       "    </tr>\n",
       "    <tr>\n",
       "      <th>1434</th>\n",
       "      <td>10</td>\n",
       "    </tr>\n",
       "    <tr>\n",
       "      <th>1263</th>\n",
       "      <td>10</td>\n",
       "    </tr>\n",
       "    <tr>\n",
       "      <th>1268</th>\n",
       "      <td>10</td>\n",
       "    </tr>\n",
       "    <tr>\n",
       "      <th>1334</th>\n",
       "      <td>10</td>\n",
       "    </tr>\n",
       "    <tr>\n",
       "      <th>1403</th>\n",
       "      <td>10</td>\n",
       "    </tr>\n",
       "    <tr>\n",
       "      <th>1400</th>\n",
       "      <td>10</td>\n",
       "    </tr>\n",
       "    <tr>\n",
       "      <th>1299</th>\n",
       "      <td>10</td>\n",
       "    </tr>\n",
       "    <tr>\n",
       "      <th>1385</th>\n",
       "      <td>10</td>\n",
       "    </tr>\n",
       "    <tr>\n",
       "      <th>1203</th>\n",
       "      <td>10</td>\n",
       "    </tr>\n",
       "    <tr>\n",
       "      <th>1041</th>\n",
       "      <td>10</td>\n",
       "    </tr>\n",
       "    <tr>\n",
       "      <th>1251</th>\n",
       "      <td>10</td>\n",
       "    </tr>\n",
       "    <tr>\n",
       "      <th>1259</th>\n",
       "      <td>10</td>\n",
       "    </tr>\n",
       "  </tbody>\n",
       "</table>\n",
       "</div>"
      ],
      "text/plain": [
       "         month\n",
       "user_id       \n",
       "1042        12\n",
       "1077        12\n",
       "1214        12\n",
       "1362        12\n",
       "1196        12\n",
       "1185        12\n",
       "1171        11\n",
       "1408        11\n",
       "1099        11\n",
       "1261        11\n",
       "1138        11\n",
       "1155        11\n",
       "1359        11\n",
       "1498        11\n",
       "1406        10\n",
       "1050        10\n",
       "1062        10\n",
       "1066        10\n",
       "1434        10\n",
       "1263        10\n",
       "1268        10\n",
       "1334        10\n",
       "1403        10\n",
       "1400        10\n",
       "1299        10\n",
       "1385        10\n",
       "1203        10\n",
       "1041        10\n",
       "1251        10\n",
       "1259        10"
      ]
     },
     "execution_count": 58,
     "metadata": {},
     "output_type": "execute_result"
    }
   ],
   "source": [
    "# ordenado de mayor a menor\n",
    "user_id_per_month.sort_values(\"month\", ascending=False).head(30)"
   ]
  },
  {
   "cell_type": "markdown",
   "metadata": {},
   "source": [
    "Con esto comprobamos que solo hay 6 usuarios que tuvieron plan de Megaline los 12 meses del año 2018, el resto desde 11 meses para abajo. "
   ]
  },
  {
   "cell_type": "markdown",
   "metadata": {},
   "source": [
    "Otra forma de ver los datos son el total de usuarios activos en Megaline por mes. Claramente podemos ver cómo van aumentando los usuarios conforme el paso de los meses. "
   ]
  },
  {
   "cell_type": "code",
   "execution_count": 59,
   "metadata": {},
   "outputs": [
    {
     "data": {
      "text/html": [
       "<div>\n",
       "<style scoped>\n",
       "    .dataframe tbody tr th:only-of-type {\n",
       "        vertical-align: middle;\n",
       "    }\n",
       "\n",
       "    .dataframe tbody tr th {\n",
       "        vertical-align: top;\n",
       "    }\n",
       "\n",
       "    .dataframe thead th {\n",
       "        text-align: right;\n",
       "    }\n",
       "</style>\n",
       "<table border=\"1\" class=\"dataframe\">\n",
       "  <thead>\n",
       "    <tr style=\"text-align: right;\">\n",
       "      <th></th>\n",
       "      <th>user_id</th>\n",
       "    </tr>\n",
       "    <tr>\n",
       "      <th>month</th>\n",
       "      <th></th>\n",
       "    </tr>\n",
       "  </thead>\n",
       "  <tbody>\n",
       "    <tr>\n",
       "      <th>1</th>\n",
       "      <td>6</td>\n",
       "    </tr>\n",
       "    <tr>\n",
       "      <th>2</th>\n",
       "      <td>15</td>\n",
       "    </tr>\n",
       "    <tr>\n",
       "      <th>3</th>\n",
       "      <td>35</td>\n",
       "    </tr>\n",
       "    <tr>\n",
       "      <th>4</th>\n",
       "      <td>71</td>\n",
       "    </tr>\n",
       "    <tr>\n",
       "      <th>5</th>\n",
       "      <td>104</td>\n",
       "    </tr>\n",
       "    <tr>\n",
       "      <th>6</th>\n",
       "      <td>141</td>\n",
       "    </tr>\n",
       "    <tr>\n",
       "      <th>7</th>\n",
       "      <td>179</td>\n",
       "    </tr>\n",
       "    <tr>\n",
       "      <th>8</th>\n",
       "      <td>230</td>\n",
       "    </tr>\n",
       "    <tr>\n",
       "      <th>9</th>\n",
       "      <td>277</td>\n",
       "    </tr>\n",
       "    <tr>\n",
       "      <th>10</th>\n",
       "      <td>336</td>\n",
       "    </tr>\n",
       "    <tr>\n",
       "      <th>11</th>\n",
       "      <td>402</td>\n",
       "    </tr>\n",
       "    <tr>\n",
       "      <th>12</th>\n",
       "      <td>460</td>\n",
       "    </tr>\n",
       "  </tbody>\n",
       "</table>\n",
       "</div>"
      ],
      "text/plain": [
       "       user_id\n",
       "month         \n",
       "1            6\n",
       "2           15\n",
       "3           35\n",
       "4           71\n",
       "5          104\n",
       "6          141\n",
       "7          179\n",
       "8          230\n",
       "9          277\n",
       "10         336\n",
       "11         402\n",
       "12         460"
      ]
     },
     "execution_count": 59,
     "metadata": {},
     "output_type": "execute_result"
    }
   ],
   "source": [
    "# pivot_table llamadas por usuario al mes\n",
    "total_users_per_month = pd.pivot_table(\n",
    "    calls_per_month, \n",
    "    values = \"user_id\",\n",
    "    index = \"month\",\n",
    "    aggfunc = \"count\", \n",
    "    fill_value=0\n",
    ")\n",
    "total_users_per_month"
   ]
  },
  {
   "cell_type": "markdown",
   "metadata": {},
   "source": [
    "Ahora busquemos los minutos realizados por mes por usuario. "
   ]
  },
  {
   "cell_type": "code",
   "execution_count": 60,
   "metadata": {},
   "outputs": [],
   "source": [
    "# pivot_table minutos utilizados al mes\n",
    "calls_duration_per_month = pd.pivot_table(\n",
    "    calls, \n",
    "    values = \"duration\",\n",
    "    index = [\"user_id\", \"month\"],\n",
    "    aggfunc = \"sum\", \n",
    "    fill_value=0\n",
    ")"
   ]
  },
  {
   "cell_type": "code",
   "execution_count": 61,
   "metadata": {},
   "outputs": [
    {
     "data": {
      "text/html": [
       "<div>\n",
       "<style scoped>\n",
       "    .dataframe tbody tr th:only-of-type {\n",
       "        vertical-align: middle;\n",
       "    }\n",
       "\n",
       "    .dataframe tbody tr th {\n",
       "        vertical-align: top;\n",
       "    }\n",
       "\n",
       "    .dataframe thead th {\n",
       "        text-align: right;\n",
       "    }\n",
       "</style>\n",
       "<table border=\"1\" class=\"dataframe\">\n",
       "  <thead>\n",
       "    <tr style=\"text-align: right;\">\n",
       "      <th></th>\n",
       "      <th></th>\n",
       "      <th>duration</th>\n",
       "    </tr>\n",
       "    <tr>\n",
       "      <th>user_id</th>\n",
       "      <th>month</th>\n",
       "      <th></th>\n",
       "    </tr>\n",
       "  </thead>\n",
       "  <tbody>\n",
       "    <tr>\n",
       "      <th>1000</th>\n",
       "      <th>12</th>\n",
       "      <td>124</td>\n",
       "    </tr>\n",
       "    <tr>\n",
       "      <th rowspan=\"4\" valign=\"top\">1001</th>\n",
       "      <th>8</th>\n",
       "      <td>182</td>\n",
       "    </tr>\n",
       "    <tr>\n",
       "      <th>9</th>\n",
       "      <td>315</td>\n",
       "    </tr>\n",
       "    <tr>\n",
       "      <th>10</th>\n",
       "      <td>393</td>\n",
       "    </tr>\n",
       "    <tr>\n",
       "      <th>11</th>\n",
       "      <td>426</td>\n",
       "    </tr>\n",
       "    <tr>\n",
       "      <th>...</th>\n",
       "      <th>...</th>\n",
       "      <td>...</td>\n",
       "    </tr>\n",
       "    <tr>\n",
       "      <th>1498</th>\n",
       "      <th>12</th>\n",
       "      <td>339</td>\n",
       "    </tr>\n",
       "    <tr>\n",
       "      <th rowspan=\"4\" valign=\"top\">1499</th>\n",
       "      <th>9</th>\n",
       "      <td>346</td>\n",
       "    </tr>\n",
       "    <tr>\n",
       "      <th>10</th>\n",
       "      <td>385</td>\n",
       "    </tr>\n",
       "    <tr>\n",
       "      <th>11</th>\n",
       "      <td>308</td>\n",
       "    </tr>\n",
       "    <tr>\n",
       "      <th>12</th>\n",
       "      <td>496</td>\n",
       "    </tr>\n",
       "  </tbody>\n",
       "</table>\n",
       "<p>2256 rows × 1 columns</p>\n",
       "</div>"
      ],
      "text/plain": [
       "               duration\n",
       "user_id month          \n",
       "1000    12          124\n",
       "1001    8           182\n",
       "        9           315\n",
       "        10          393\n",
       "        11          426\n",
       "...                 ...\n",
       "1498    12          339\n",
       "1499    9           346\n",
       "        10          385\n",
       "        11          308\n",
       "        12          496\n",
       "\n",
       "[2256 rows x 1 columns]"
      ]
     },
     "execution_count": 61,
     "metadata": {},
     "output_type": "execute_result"
    }
   ],
   "source": [
    "# visión general\n",
    "calls_duration_per_month"
   ]
  },
  {
   "cell_type": "code",
   "execution_count": 62,
   "metadata": {},
   "outputs": [
    {
     "data": {
      "text/html": [
       "<div>\n",
       "<style scoped>\n",
       "    .dataframe tbody tr th:only-of-type {\n",
       "        vertical-align: middle;\n",
       "    }\n",
       "\n",
       "    .dataframe tbody tr th {\n",
       "        vertical-align: top;\n",
       "    }\n",
       "\n",
       "    .dataframe thead th {\n",
       "        text-align: right;\n",
       "    }\n",
       "</style>\n",
       "<table border=\"1\" class=\"dataframe\">\n",
       "  <thead>\n",
       "    <tr style=\"text-align: right;\">\n",
       "      <th></th>\n",
       "      <th></th>\n",
       "      <th>duration</th>\n",
       "    </tr>\n",
       "    <tr>\n",
       "      <th>user_id</th>\n",
       "      <th>month</th>\n",
       "      <th></th>\n",
       "    </tr>\n",
       "  </thead>\n",
       "  <tbody>\n",
       "    <tr>\n",
       "      <th>1267</th>\n",
       "      <th>12</th>\n",
       "      <td>1510</td>\n",
       "    </tr>\n",
       "    <tr>\n",
       "      <th>1329</th>\n",
       "      <th>12</th>\n",
       "      <td>1369</td>\n",
       "    </tr>\n",
       "    <tr>\n",
       "      <th>1365</th>\n",
       "      <th>12</th>\n",
       "      <td>1357</td>\n",
       "    </tr>\n",
       "    <tr>\n",
       "      <th>1324</th>\n",
       "      <th>11</th>\n",
       "      <td>1304</td>\n",
       "    </tr>\n",
       "    <tr>\n",
       "      <th rowspan=\"3\" valign=\"top\">1382</th>\n",
       "      <th>12</th>\n",
       "      <td>1295</td>\n",
       "    </tr>\n",
       "    <tr>\n",
       "      <th>8</th>\n",
       "      <td>1292</td>\n",
       "    </tr>\n",
       "    <tr>\n",
       "      <th>9</th>\n",
       "      <td>1232</td>\n",
       "    </tr>\n",
       "    <tr>\n",
       "      <th>1365</th>\n",
       "      <th>10</th>\n",
       "      <td>1227</td>\n",
       "    </tr>\n",
       "    <tr>\n",
       "      <th rowspan=\"2\" valign=\"top\">1329</th>\n",
       "      <th>9</th>\n",
       "      <td>1219</td>\n",
       "    </tr>\n",
       "    <tr>\n",
       "      <th>10</th>\n",
       "      <td>1215</td>\n",
       "    </tr>\n",
       "    <tr>\n",
       "      <th>1240</th>\n",
       "      <th>9</th>\n",
       "      <td>1212</td>\n",
       "    </tr>\n",
       "    <tr>\n",
       "      <th>1052</th>\n",
       "      <th>12</th>\n",
       "      <td>1200</td>\n",
       "    </tr>\n",
       "    <tr>\n",
       "      <th>1329</th>\n",
       "      <th>11</th>\n",
       "      <td>1197</td>\n",
       "    </tr>\n",
       "    <tr>\n",
       "      <th>1240</th>\n",
       "      <th>10</th>\n",
       "      <td>1194</td>\n",
       "    </tr>\n",
       "    <tr>\n",
       "      <th>1412</th>\n",
       "      <th>7</th>\n",
       "      <td>1188</td>\n",
       "    </tr>\n",
       "    <tr>\n",
       "      <th>1240</th>\n",
       "      <th>7</th>\n",
       "      <td>1176</td>\n",
       "    </tr>\n",
       "    <tr>\n",
       "      <th>1057</th>\n",
       "      <th>12</th>\n",
       "      <td>1173</td>\n",
       "    </tr>\n",
       "    <tr>\n",
       "      <th>1412</th>\n",
       "      <th>9</th>\n",
       "      <td>1173</td>\n",
       "    </tr>\n",
       "    <tr>\n",
       "      <th>1215</th>\n",
       "      <th>12</th>\n",
       "      <td>1167</td>\n",
       "    </tr>\n",
       "    <tr>\n",
       "      <th>1365</th>\n",
       "      <th>9</th>\n",
       "      <td>1131</td>\n",
       "    </tr>\n",
       "    <tr>\n",
       "      <th>1240</th>\n",
       "      <th>12</th>\n",
       "      <td>1119</td>\n",
       "    </tr>\n",
       "    <tr>\n",
       "      <th>1057</th>\n",
       "      <th>10</th>\n",
       "      <td>1117</td>\n",
       "    </tr>\n",
       "    <tr>\n",
       "      <th>1014</th>\n",
       "      <th>12</th>\n",
       "      <td>1114</td>\n",
       "    </tr>\n",
       "    <tr>\n",
       "      <th>1382</th>\n",
       "      <th>11</th>\n",
       "      <td>1111</td>\n",
       "    </tr>\n",
       "    <tr>\n",
       "      <th>1003</th>\n",
       "      <th>12</th>\n",
       "      <td>1104</td>\n",
       "    </tr>\n",
       "    <tr>\n",
       "      <th>1379</th>\n",
       "      <th>12</th>\n",
       "      <td>1103</td>\n",
       "    </tr>\n",
       "    <tr>\n",
       "      <th rowspan=\"2\" valign=\"top\">1365</th>\n",
       "      <th>8</th>\n",
       "      <td>1102</td>\n",
       "    </tr>\n",
       "    <tr>\n",
       "      <th>11</th>\n",
       "      <td>1099</td>\n",
       "    </tr>\n",
       "    <tr>\n",
       "      <th>1479</th>\n",
       "      <th>12</th>\n",
       "      <td>1096</td>\n",
       "    </tr>\n",
       "    <tr>\n",
       "      <th>1240</th>\n",
       "      <th>8</th>\n",
       "      <td>1095</td>\n",
       "    </tr>\n",
       "  </tbody>\n",
       "</table>\n",
       "</div>"
      ],
      "text/plain": [
       "               duration\n",
       "user_id month          \n",
       "1267    12         1510\n",
       "1329    12         1369\n",
       "1365    12         1357\n",
       "1324    11         1304\n",
       "1382    12         1295\n",
       "        8          1292\n",
       "        9          1232\n",
       "1365    10         1227\n",
       "1329    9          1219\n",
       "        10         1215\n",
       "1240    9          1212\n",
       "1052    12         1200\n",
       "1329    11         1197\n",
       "1240    10         1194\n",
       "1412    7          1188\n",
       "1240    7          1176\n",
       "1057    12         1173\n",
       "1412    9          1173\n",
       "1215    12         1167\n",
       "1365    9          1131\n",
       "1240    12         1119\n",
       "1057    10         1117\n",
       "1014    12         1114\n",
       "1382    11         1111\n",
       "1003    12         1104\n",
       "1379    12         1103\n",
       "1365    8          1102\n",
       "        11         1099\n",
       "1479    12         1096\n",
       "1240    8          1095"
      ]
     },
     "execution_count": 62,
     "metadata": {},
     "output_type": "execute_result"
    }
   ],
   "source": [
    "# primeros 30 datos\n",
    "calls_duration_per_month.sort_values(\"duration\", ascending=False).head(30)"
   ]
  },
  {
   "cell_type": "markdown",
   "metadata": {},
   "source": [
    "Se registró que el usuario `1267` utilizó 1,510 minutos en el mes de diciembre, siendo el usuario que más minutos ha consumido en todo el año."
   ]
  },
  {
   "cell_type": "markdown",
   "metadata": {},
   "source": [
    "A continuación también podemos ver el total de llamadas realizadas por mes de los usuarios de Megaline. "
   ]
  },
  {
   "cell_type": "code",
   "execution_count": 63,
   "metadata": {},
   "outputs": [
    {
     "data": {
      "text/html": [
       "<div>\n",
       "<style scoped>\n",
       "    .dataframe tbody tr th:only-of-type {\n",
       "        vertical-align: middle;\n",
       "    }\n",
       "\n",
       "    .dataframe tbody tr th {\n",
       "        vertical-align: top;\n",
       "    }\n",
       "\n",
       "    .dataframe thead th {\n",
       "        text-align: right;\n",
       "    }\n",
       "</style>\n",
       "<table border=\"1\" class=\"dataframe\">\n",
       "  <thead>\n",
       "    <tr style=\"text-align: right;\">\n",
       "      <th></th>\n",
       "      <th>duration</th>\n",
       "    </tr>\n",
       "    <tr>\n",
       "      <th>month</th>\n",
       "      <th></th>\n",
       "    </tr>\n",
       "  </thead>\n",
       "  <tbody>\n",
       "    <tr>\n",
       "      <th>1</th>\n",
       "      <td>1180</td>\n",
       "    </tr>\n",
       "    <tr>\n",
       "      <th>2</th>\n",
       "      <td>5495</td>\n",
       "    </tr>\n",
       "    <tr>\n",
       "      <th>3</th>\n",
       "      <td>11241</td>\n",
       "    </tr>\n",
       "    <tr>\n",
       "      <th>4</th>\n",
       "      <td>24651</td>\n",
       "    </tr>\n",
       "    <tr>\n",
       "      <th>5</th>\n",
       "      <td>42549</td>\n",
       "    </tr>\n",
       "    <tr>\n",
       "      <th>6</th>\n",
       "      <td>59271</td>\n",
       "    </tr>\n",
       "    <tr>\n",
       "      <th>7</th>\n",
       "      <td>79645</td>\n",
       "    </tr>\n",
       "    <tr>\n",
       "      <th>8</th>\n",
       "      <td>96360</td>\n",
       "    </tr>\n",
       "    <tr>\n",
       "      <th>9</th>\n",
       "      <td>117986</td>\n",
       "    </tr>\n",
       "    <tr>\n",
       "      <th>10</th>\n",
       "      <td>149624</td>\n",
       "    </tr>\n",
       "    <tr>\n",
       "      <th>11</th>\n",
       "      <td>176341</td>\n",
       "    </tr>\n",
       "    <tr>\n",
       "      <th>12</th>\n",
       "      <td>220004</td>\n",
       "    </tr>\n",
       "  </tbody>\n",
       "</table>\n",
       "</div>"
      ],
      "text/plain": [
       "       duration\n",
       "month          \n",
       "1          1180\n",
       "2          5495\n",
       "3         11241\n",
       "4         24651\n",
       "5         42549\n",
       "6         59271\n",
       "7         79645\n",
       "8         96360\n",
       "9        117986\n",
       "10       149624\n",
       "11       176341\n",
       "12       220004"
      ]
     },
     "execution_count": 63,
     "metadata": {},
     "output_type": "execute_result"
    }
   ],
   "source": [
    "# pivot_table minutos utilizados al mes\n",
    "calls_duration_month = pd.pivot_table(\n",
    "    calls, \n",
    "    values = \"duration\",\n",
    "    index = \"month\",\n",
    "    aggfunc = \"sum\", \n",
    "    fill_value=0\n",
    ")\n",
    "calls_duration_month"
   ]
  },
  {
   "cell_type": "markdown",
   "metadata": {},
   "source": [
    "##### Cantidad de SMS enviados por mes"
   ]
  },
  {
   "cell_type": "markdown",
   "metadata": {},
   "source": [
    "Se realizará el mismo procedimiento que en la sección 2.4.6.1, donde se utilizará un `pivot_table` en base a los datos del dataset `messages`. "
   ]
  },
  {
   "cell_type": "code",
   "execution_count": 64,
   "metadata": {},
   "outputs": [],
   "source": [
    "# pivot_table SMS enviados por mes por usuario\n",
    "messages_per_month = pd.pivot_table(\n",
    "    messages, \n",
    "    values = \"id\",\n",
    "    index = [\"user_id\", \"month\"],\n",
    "    aggfunc = \"count\", \n",
    "    fill_value=0\n",
    ")"
   ]
  },
  {
   "cell_type": "code",
   "execution_count": 65,
   "metadata": {},
   "outputs": [
    {
     "data": {
      "text/html": [
       "<div>\n",
       "<style scoped>\n",
       "    .dataframe tbody tr th:only-of-type {\n",
       "        vertical-align: middle;\n",
       "    }\n",
       "\n",
       "    .dataframe tbody tr th {\n",
       "        vertical-align: top;\n",
       "    }\n",
       "\n",
       "    .dataframe thead th {\n",
       "        text-align: right;\n",
       "    }\n",
       "</style>\n",
       "<table border=\"1\" class=\"dataframe\">\n",
       "  <thead>\n",
       "    <tr style=\"text-align: right;\">\n",
       "      <th></th>\n",
       "      <th></th>\n",
       "      <th>id</th>\n",
       "    </tr>\n",
       "    <tr>\n",
       "      <th>user_id</th>\n",
       "      <th>month</th>\n",
       "      <th></th>\n",
       "    </tr>\n",
       "  </thead>\n",
       "  <tbody>\n",
       "    <tr>\n",
       "      <th>1052</th>\n",
       "      <th>12</th>\n",
       "      <td>266</td>\n",
       "    </tr>\n",
       "    <tr>\n",
       "      <th rowspan=\"2\" valign=\"top\">1381</th>\n",
       "      <th>10</th>\n",
       "      <td>224</td>\n",
       "    </tr>\n",
       "    <tr>\n",
       "      <th>11</th>\n",
       "      <td>180</td>\n",
       "    </tr>\n",
       "    <tr>\n",
       "      <th>1328</th>\n",
       "      <th>12</th>\n",
       "      <td>168</td>\n",
       "    </tr>\n",
       "    <tr>\n",
       "      <th>1132</th>\n",
       "      <th>11</th>\n",
       "      <td>166</td>\n",
       "    </tr>\n",
       "    <tr>\n",
       "      <th>1328</th>\n",
       "      <th>7</th>\n",
       "      <td>164</td>\n",
       "    </tr>\n",
       "    <tr>\n",
       "      <th>1076</th>\n",
       "      <th>10</th>\n",
       "      <td>159</td>\n",
       "    </tr>\n",
       "    <tr>\n",
       "      <th>1381</th>\n",
       "      <th>12</th>\n",
       "      <td>157</td>\n",
       "    </tr>\n",
       "    <tr>\n",
       "      <th>1328</th>\n",
       "      <th>10</th>\n",
       "      <td>157</td>\n",
       "    </tr>\n",
       "    <tr>\n",
       "      <th>1470</th>\n",
       "      <th>11</th>\n",
       "      <td>156</td>\n",
       "    </tr>\n",
       "    <tr>\n",
       "      <th>1076</th>\n",
       "      <th>8</th>\n",
       "      <td>156</td>\n",
       "    </tr>\n",
       "    <tr>\n",
       "      <th>1132</th>\n",
       "      <th>9</th>\n",
       "      <td>155</td>\n",
       "    </tr>\n",
       "    <tr>\n",
       "      <th>1470</th>\n",
       "      <th>12</th>\n",
       "      <td>153</td>\n",
       "    </tr>\n",
       "    <tr>\n",
       "      <th>1324</th>\n",
       "      <th>8</th>\n",
       "      <td>153</td>\n",
       "    </tr>\n",
       "    <tr>\n",
       "      <th>1132</th>\n",
       "      <th>10</th>\n",
       "      <td>153</td>\n",
       "    </tr>\n",
       "    <tr>\n",
       "      <th>1328</th>\n",
       "      <th>9</th>\n",
       "      <td>153</td>\n",
       "    </tr>\n",
       "    <tr>\n",
       "      <th rowspan=\"2\" valign=\"top\">1132</th>\n",
       "      <th>8</th>\n",
       "      <td>151</td>\n",
       "    </tr>\n",
       "    <tr>\n",
       "      <th>12</th>\n",
       "      <td>150</td>\n",
       "    </tr>\n",
       "    <tr>\n",
       "      <th>1435</th>\n",
       "      <th>12</th>\n",
       "      <td>150</td>\n",
       "    </tr>\n",
       "    <tr>\n",
       "      <th rowspan=\"2\" valign=\"top\">1328</th>\n",
       "      <th>11</th>\n",
       "      <td>150</td>\n",
       "    </tr>\n",
       "    <tr>\n",
       "      <th>5</th>\n",
       "      <td>149</td>\n",
       "    </tr>\n",
       "    <tr>\n",
       "      <th rowspan=\"2\" valign=\"top\">1132</th>\n",
       "      <th>5</th>\n",
       "      <td>149</td>\n",
       "    </tr>\n",
       "    <tr>\n",
       "      <th>7</th>\n",
       "      <td>149</td>\n",
       "    </tr>\n",
       "    <tr>\n",
       "      <th>1303</th>\n",
       "      <th>12</th>\n",
       "      <td>148</td>\n",
       "    </tr>\n",
       "    <tr>\n",
       "      <th>1470</th>\n",
       "      <th>7</th>\n",
       "      <td>147</td>\n",
       "    </tr>\n",
       "    <tr>\n",
       "      <th>1076</th>\n",
       "      <th>9</th>\n",
       "      <td>145</td>\n",
       "    </tr>\n",
       "    <tr>\n",
       "      <th>1470</th>\n",
       "      <th>10</th>\n",
       "      <td>145</td>\n",
       "    </tr>\n",
       "    <tr>\n",
       "      <th>1324</th>\n",
       "      <th>12</th>\n",
       "      <td>145</td>\n",
       "    </tr>\n",
       "    <tr>\n",
       "      <th>1419</th>\n",
       "      <th>12</th>\n",
       "      <td>144</td>\n",
       "    </tr>\n",
       "    <tr>\n",
       "      <th>1324</th>\n",
       "      <th>9</th>\n",
       "      <td>143</td>\n",
       "    </tr>\n",
       "  </tbody>\n",
       "</table>\n",
       "</div>"
      ],
      "text/plain": [
       "                id\n",
       "user_id month     \n",
       "1052    12     266\n",
       "1381    10     224\n",
       "        11     180\n",
       "1328    12     168\n",
       "1132    11     166\n",
       "1328    7      164\n",
       "1076    10     159\n",
       "1381    12     157\n",
       "1328    10     157\n",
       "1470    11     156\n",
       "1076    8      156\n",
       "1132    9      155\n",
       "1470    12     153\n",
       "1324    8      153\n",
       "1132    10     153\n",
       "1328    9      153\n",
       "1132    8      151\n",
       "        12     150\n",
       "1435    12     150\n",
       "1328    11     150\n",
       "        5      149\n",
       "1132    5      149\n",
       "        7      149\n",
       "1303    12     148\n",
       "1470    7      147\n",
       "1076    9      145\n",
       "1470    10     145\n",
       "1324    12     145\n",
       "1419    12     144\n",
       "1324    9      143"
      ]
     },
     "execution_count": 65,
     "metadata": {},
     "output_type": "execute_result"
    }
   ],
   "source": [
    "# primeros 30 datos\n",
    "messages_per_month.sort_values(\"id\", ascending=False).head(30)"
   ]
  },
  {
   "cell_type": "markdown",
   "metadata": {},
   "source": [
    "Se registra que el usuario `1052` es el usuario con más mensajes enviados en total, enviando un total de 266 SMS en el mes de diciembre.  "
   ]
  },
  {
   "cell_type": "markdown",
   "metadata": {},
   "source": [
    "Verifiquemos de igual forma la cantidad de mensajes de texto enviados mes a mes, y cómo ha ido aumentando. "
   ]
  },
  {
   "cell_type": "code",
   "execution_count": 66,
   "metadata": {},
   "outputs": [
    {
     "data": {
      "text/html": [
       "<div>\n",
       "<style scoped>\n",
       "    .dataframe tbody tr th:only-of-type {\n",
       "        vertical-align: middle;\n",
       "    }\n",
       "\n",
       "    .dataframe tbody tr th {\n",
       "        vertical-align: top;\n",
       "    }\n",
       "\n",
       "    .dataframe thead th {\n",
       "        text-align: right;\n",
       "    }\n",
       "</style>\n",
       "<table border=\"1\" class=\"dataframe\">\n",
       "  <thead>\n",
       "    <tr style=\"text-align: right;\">\n",
       "      <th></th>\n",
       "      <th></th>\n",
       "      <th>id</th>\n",
       "    </tr>\n",
       "    <tr>\n",
       "      <th>user_id</th>\n",
       "      <th>month</th>\n",
       "      <th></th>\n",
       "    </tr>\n",
       "  </thead>\n",
       "  <tbody>\n",
       "    <tr>\n",
       "      <th>1000</th>\n",
       "      <th>12</th>\n",
       "      <td>11</td>\n",
       "    </tr>\n",
       "    <tr>\n",
       "      <th rowspan=\"4\" valign=\"top\">1001</th>\n",
       "      <th>8</th>\n",
       "      <td>30</td>\n",
       "    </tr>\n",
       "    <tr>\n",
       "      <th>9</th>\n",
       "      <td>44</td>\n",
       "    </tr>\n",
       "    <tr>\n",
       "      <th>10</th>\n",
       "      <td>53</td>\n",
       "    </tr>\n",
       "    <tr>\n",
       "      <th>11</th>\n",
       "      <td>36</td>\n",
       "    </tr>\n",
       "    <tr>\n",
       "      <th>...</th>\n",
       "      <th>...</th>\n",
       "      <td>...</td>\n",
       "    </tr>\n",
       "    <tr>\n",
       "      <th rowspan=\"4\" valign=\"top\">1496</th>\n",
       "      <th>9</th>\n",
       "      <td>21</td>\n",
       "    </tr>\n",
       "    <tr>\n",
       "      <th>10</th>\n",
       "      <td>18</td>\n",
       "    </tr>\n",
       "    <tr>\n",
       "      <th>11</th>\n",
       "      <td>13</td>\n",
       "    </tr>\n",
       "    <tr>\n",
       "      <th>12</th>\n",
       "      <td>11</td>\n",
       "    </tr>\n",
       "    <tr>\n",
       "      <th>1497</th>\n",
       "      <th>12</th>\n",
       "      <td>50</td>\n",
       "    </tr>\n",
       "  </tbody>\n",
       "</table>\n",
       "<p>1806 rows × 1 columns</p>\n",
       "</div>"
      ],
      "text/plain": [
       "               id\n",
       "user_id month    \n",
       "1000    12     11\n",
       "1001    8      30\n",
       "        9      44\n",
       "        10     53\n",
       "        11     36\n",
       "...            ..\n",
       "1496    9      21\n",
       "        10     18\n",
       "        11     13\n",
       "        12     11\n",
       "1497    12     50\n",
       "\n",
       "[1806 rows x 1 columns]"
      ]
     },
     "execution_count": 66,
     "metadata": {},
     "output_type": "execute_result"
    }
   ],
   "source": [
    "# pivot_table SMS enviados por mes por usuario\n",
    "messages_month = pd.pivot_table(\n",
    "    messages, \n",
    "    values = \"user_id\",\n",
    "    index = \"month\",\n",
    "    aggfunc = \"count\", \n",
    "    fill_value=0\n",
    ")\n",
    "messages_per_month"
   ]
  },
  {
   "cell_type": "markdown",
   "metadata": {},
   "source": [
    "Es interesante como cada caso ha ido aumentando de forma drástica, pero hay que tomar en cuenta que esto es por la cantidad de usuarios que fueron añadiéndose cada mes. "
   ]
  },
  {
   "cell_type": "markdown",
   "metadata": {},
   "source": [
    "##### Volumen de datos por mes"
   ]
  },
  {
   "cell_type": "markdown",
   "metadata": {},
   "source": [
    "En este caso se utilizará el dataset `internet` para contabilizar la cantidad de mb que han utilizado los usuario durante todos los meses. "
   ]
  },
  {
   "cell_type": "code",
   "execution_count": 67,
   "metadata": {},
   "outputs": [],
   "source": [
    "# pivot_table mb usados por mes por usuario\n",
    "data_per_month = pd.pivot_table(\n",
    "    internet, \n",
    "    values = \"mb_used\",\n",
    "    index = [\"user_id\", \"month\"],\n",
    "    aggfunc = \"sum\", \n",
    "    fill_value=0\n",
    ")"
   ]
  },
  {
   "cell_type": "code",
   "execution_count": 68,
   "metadata": {},
   "outputs": [
    {
     "data": {
      "text/html": [
       "<div>\n",
       "<style scoped>\n",
       "    .dataframe tbody tr th:only-of-type {\n",
       "        vertical-align: middle;\n",
       "    }\n",
       "\n",
       "    .dataframe tbody tr th {\n",
       "        vertical-align: top;\n",
       "    }\n",
       "\n",
       "    .dataframe thead th {\n",
       "        text-align: right;\n",
       "    }\n",
       "</style>\n",
       "<table border=\"1\" class=\"dataframe\">\n",
       "  <thead>\n",
       "    <tr style=\"text-align: right;\">\n",
       "      <th></th>\n",
       "      <th></th>\n",
       "      <th>mb_used</th>\n",
       "    </tr>\n",
       "    <tr>\n",
       "      <th>user_id</th>\n",
       "      <th>month</th>\n",
       "      <th></th>\n",
       "    </tr>\n",
       "  </thead>\n",
       "  <tbody>\n",
       "    <tr>\n",
       "      <th>1000</th>\n",
       "      <th>12</th>\n",
       "      <td>1901.47</td>\n",
       "    </tr>\n",
       "    <tr>\n",
       "      <th rowspan=\"4\" valign=\"top\">1001</th>\n",
       "      <th>8</th>\n",
       "      <td>6919.15</td>\n",
       "    </tr>\n",
       "    <tr>\n",
       "      <th>9</th>\n",
       "      <td>13314.82</td>\n",
       "    </tr>\n",
       "    <tr>\n",
       "      <th>10</th>\n",
       "      <td>22330.49</td>\n",
       "    </tr>\n",
       "    <tr>\n",
       "      <th>11</th>\n",
       "      <td>18504.30</td>\n",
       "    </tr>\n",
       "    <tr>\n",
       "      <th>...</th>\n",
       "      <th>...</th>\n",
       "      <td>...</td>\n",
       "    </tr>\n",
       "    <tr>\n",
       "      <th>1498</th>\n",
       "      <th>12</th>\n",
       "      <td>23137.69</td>\n",
       "    </tr>\n",
       "    <tr>\n",
       "      <th rowspan=\"4\" valign=\"top\">1499</th>\n",
       "      <th>9</th>\n",
       "      <td>12984.76</td>\n",
       "    </tr>\n",
       "    <tr>\n",
       "      <th>10</th>\n",
       "      <td>19492.43</td>\n",
       "    </tr>\n",
       "    <tr>\n",
       "      <th>11</th>\n",
       "      <td>16813.83</td>\n",
       "    </tr>\n",
       "    <tr>\n",
       "      <th>12</th>\n",
       "      <td>22059.21</td>\n",
       "    </tr>\n",
       "  </tbody>\n",
       "</table>\n",
       "<p>2277 rows × 1 columns</p>\n",
       "</div>"
      ],
      "text/plain": [
       "                mb_used\n",
       "user_id month          \n",
       "1000    12      1901.47\n",
       "1001    8       6919.15\n",
       "        9      13314.82\n",
       "        10     22330.49\n",
       "        11     18504.30\n",
       "...                 ...\n",
       "1498    12     23137.69\n",
       "1499    9      12984.76\n",
       "        10     19492.43\n",
       "        11     16813.83\n",
       "        12     22059.21\n",
       "\n",
       "[2277 rows x 1 columns]"
      ]
     },
     "execution_count": 68,
     "metadata": {},
     "output_type": "execute_result"
    }
   ],
   "source": [
    "# ver datos\n",
    "data_per_month"
   ]
  },
  {
   "cell_type": "code",
   "execution_count": 69,
   "metadata": {},
   "outputs": [
    {
     "data": {
      "text/html": [
       "<div>\n",
       "<style scoped>\n",
       "    .dataframe tbody tr th:only-of-type {\n",
       "        vertical-align: middle;\n",
       "    }\n",
       "\n",
       "    .dataframe tbody tr th {\n",
       "        vertical-align: top;\n",
       "    }\n",
       "\n",
       "    .dataframe thead th {\n",
       "        text-align: right;\n",
       "    }\n",
       "</style>\n",
       "<table border=\"1\" class=\"dataframe\">\n",
       "  <thead>\n",
       "    <tr style=\"text-align: right;\">\n",
       "      <th></th>\n",
       "      <th></th>\n",
       "      <th>mb_used</th>\n",
       "    </tr>\n",
       "    <tr>\n",
       "      <th>user_id</th>\n",
       "      <th>month</th>\n",
       "      <th></th>\n",
       "    </tr>\n",
       "  </thead>\n",
       "  <tbody>\n",
       "    <tr>\n",
       "      <th>1379</th>\n",
       "      <th>12</th>\n",
       "      <td>70931.59</td>\n",
       "    </tr>\n",
       "    <tr>\n",
       "      <th>1121</th>\n",
       "      <th>12</th>\n",
       "      <td>66863.89</td>\n",
       "    </tr>\n",
       "    <tr>\n",
       "      <th rowspan=\"2\" valign=\"top\">1292</th>\n",
       "      <th>12</th>\n",
       "      <td>52034.66</td>\n",
       "    </tr>\n",
       "    <tr>\n",
       "      <th>8</th>\n",
       "      <td>51809.35</td>\n",
       "    </tr>\n",
       "    <tr>\n",
       "      <th>1240</th>\n",
       "      <th>8</th>\n",
       "      <td>49950.58</td>\n",
       "    </tr>\n",
       "    <tr>\n",
       "      <th>1292</th>\n",
       "      <th>10</th>\n",
       "      <td>46868.75</td>\n",
       "    </tr>\n",
       "    <tr>\n",
       "      <th>1028</th>\n",
       "      <th>10</th>\n",
       "      <td>46595.33</td>\n",
       "    </tr>\n",
       "    <tr>\n",
       "      <th>1490</th>\n",
       "      <th>12</th>\n",
       "      <td>46215.51</td>\n",
       "    </tr>\n",
       "    <tr>\n",
       "      <th>1038</th>\n",
       "      <th>12</th>\n",
       "      <td>45020.31</td>\n",
       "    </tr>\n",
       "    <tr>\n",
       "      <th>1028</th>\n",
       "      <th>11</th>\n",
       "      <td>42952.59</td>\n",
       "    </tr>\n",
       "    <tr>\n",
       "      <th>1194</th>\n",
       "      <th>11</th>\n",
       "      <td>42866.10</td>\n",
       "    </tr>\n",
       "    <tr>\n",
       "      <th>1240</th>\n",
       "      <th>10</th>\n",
       "      <td>42128.84</td>\n",
       "    </tr>\n",
       "    <tr>\n",
       "      <th>1418</th>\n",
       "      <th>12</th>\n",
       "      <td>41924.69</td>\n",
       "    </tr>\n",
       "    <tr>\n",
       "      <th>1240</th>\n",
       "      <th>12</th>\n",
       "      <td>41729.17</td>\n",
       "    </tr>\n",
       "    <tr>\n",
       "      <th>1272</th>\n",
       "      <th>12</th>\n",
       "      <td>41059.97</td>\n",
       "    </tr>\n",
       "    <tr>\n",
       "      <th>1028</th>\n",
       "      <th>8</th>\n",
       "      <td>40388.21</td>\n",
       "    </tr>\n",
       "    <tr>\n",
       "      <th>1447</th>\n",
       "      <th>11</th>\n",
       "      <td>40217.22</td>\n",
       "    </tr>\n",
       "    <tr>\n",
       "      <th>1293</th>\n",
       "      <th>10</th>\n",
       "      <td>39963.26</td>\n",
       "    </tr>\n",
       "    <tr>\n",
       "      <th>1490</th>\n",
       "      <th>8</th>\n",
       "      <td>39316.23</td>\n",
       "    </tr>\n",
       "    <tr>\n",
       "      <th>1268</th>\n",
       "      <th>7</th>\n",
       "      <td>38929.09</td>\n",
       "    </tr>\n",
       "    <tr>\n",
       "      <th>1028</th>\n",
       "      <th>7</th>\n",
       "      <td>38826.70</td>\n",
       "    </tr>\n",
       "    <tr>\n",
       "      <th>1201</th>\n",
       "      <th>11</th>\n",
       "      <td>38611.72</td>\n",
       "    </tr>\n",
       "    <tr>\n",
       "      <th>1144</th>\n",
       "      <th>7</th>\n",
       "      <td>38583.96</td>\n",
       "    </tr>\n",
       "    <tr>\n",
       "      <th>1043</th>\n",
       "      <th>12</th>\n",
       "      <td>38464.82</td>\n",
       "    </tr>\n",
       "    <tr>\n",
       "      <th>1144</th>\n",
       "      <th>10</th>\n",
       "      <td>38156.82</td>\n",
       "    </tr>\n",
       "    <tr>\n",
       "      <th>1038</th>\n",
       "      <th>11</th>\n",
       "      <td>37946.04</td>\n",
       "    </tr>\n",
       "    <tr>\n",
       "      <th>1028</th>\n",
       "      <th>6</th>\n",
       "      <td>37907.14</td>\n",
       "    </tr>\n",
       "    <tr>\n",
       "      <th>1007</th>\n",
       "      <th>10</th>\n",
       "      <td>37885.63</td>\n",
       "    </tr>\n",
       "    <tr>\n",
       "      <th>1374</th>\n",
       "      <th>8</th>\n",
       "      <td>37771.04</td>\n",
       "    </tr>\n",
       "    <tr>\n",
       "      <th>1028</th>\n",
       "      <th>4</th>\n",
       "      <td>37761.59</td>\n",
       "    </tr>\n",
       "  </tbody>\n",
       "</table>\n",
       "</div>"
      ],
      "text/plain": [
       "                mb_used\n",
       "user_id month          \n",
       "1379    12     70931.59\n",
       "1121    12     66863.89\n",
       "1292    12     52034.66\n",
       "        8      51809.35\n",
       "1240    8      49950.58\n",
       "1292    10     46868.75\n",
       "1028    10     46595.33\n",
       "1490    12     46215.51\n",
       "1038    12     45020.31\n",
       "1028    11     42952.59\n",
       "1194    11     42866.10\n",
       "1240    10     42128.84\n",
       "1418    12     41924.69\n",
       "1240    12     41729.17\n",
       "1272    12     41059.97\n",
       "1028    8      40388.21\n",
       "1447    11     40217.22\n",
       "1293    10     39963.26\n",
       "1490    8      39316.23\n",
       "1268    7      38929.09\n",
       "1028    7      38826.70\n",
       "1201    11     38611.72\n",
       "1144    7      38583.96\n",
       "1043    12     38464.82\n",
       "1144    10     38156.82\n",
       "1038    11     37946.04\n",
       "1028    6      37907.14\n",
       "1007    10     37885.63\n",
       "1374    8      37771.04\n",
       "1028    4      37761.59"
      ]
     },
     "execution_count": 69,
     "metadata": {},
     "output_type": "execute_result"
    }
   ],
   "source": [
    "# primeros 30 datos\n",
    "data_per_month.sort_values(\"mb_used\", ascending=False).head(30)"
   ]
  },
  {
   "cell_type": "markdown",
   "metadata": {},
   "source": [
    "A continuación se muestra el total de internet utilizado por mes, teniendo en cuenta todos los usuarios. "
   ]
  },
  {
   "cell_type": "code",
   "execution_count": 70,
   "metadata": {},
   "outputs": [
    {
     "data": {
      "text/html": [
       "<div>\n",
       "<style scoped>\n",
       "    .dataframe tbody tr th:only-of-type {\n",
       "        vertical-align: middle;\n",
       "    }\n",
       "\n",
       "    .dataframe tbody tr th {\n",
       "        vertical-align: top;\n",
       "    }\n",
       "\n",
       "    .dataframe thead th {\n",
       "        text-align: right;\n",
       "    }\n",
       "</style>\n",
       "<table border=\"1\" class=\"dataframe\">\n",
       "  <thead>\n",
       "    <tr style=\"text-align: right;\">\n",
       "      <th></th>\n",
       "      <th>mb_used</th>\n",
       "    </tr>\n",
       "    <tr>\n",
       "      <th>month</th>\n",
       "      <th></th>\n",
       "    </tr>\n",
       "  </thead>\n",
       "  <tbody>\n",
       "    <tr>\n",
       "      <th>1</th>\n",
       "      <td>37422.09</td>\n",
       "    </tr>\n",
       "    <tr>\n",
       "      <th>2</th>\n",
       "      <td>229511.25</td>\n",
       "    </tr>\n",
       "    <tr>\n",
       "      <th>3</th>\n",
       "      <td>526803.34</td>\n",
       "    </tr>\n",
       "    <tr>\n",
       "      <th>4</th>\n",
       "      <td>937764.90</td>\n",
       "    </tr>\n",
       "    <tr>\n",
       "      <th>5</th>\n",
       "      <td>1555209.32</td>\n",
       "    </tr>\n",
       "    <tr>\n",
       "      <th>6</th>\n",
       "      <td>2205130.62</td>\n",
       "    </tr>\n",
       "    <tr>\n",
       "      <th>7</th>\n",
       "      <td>2995155.59</td>\n",
       "    </tr>\n",
       "    <tr>\n",
       "      <th>8</th>\n",
       "      <td>3985688.81</td>\n",
       "    </tr>\n",
       "    <tr>\n",
       "      <th>9</th>\n",
       "      <td>4678146.45</td>\n",
       "    </tr>\n",
       "    <tr>\n",
       "      <th>10</th>\n",
       "      <td>5969717.07</td>\n",
       "    </tr>\n",
       "    <tr>\n",
       "      <th>11</th>\n",
       "      <td>6787287.04</td>\n",
       "    </tr>\n",
       "    <tr>\n",
       "      <th>12</th>\n",
       "      <td>8532927.23</td>\n",
       "    </tr>\n",
       "  </tbody>\n",
       "</table>\n",
       "</div>"
      ],
      "text/plain": [
       "          mb_used\n",
       "month            \n",
       "1        37422.09\n",
       "2       229511.25\n",
       "3       526803.34\n",
       "4       937764.90\n",
       "5      1555209.32\n",
       "6      2205130.62\n",
       "7      2995155.59\n",
       "8      3985688.81\n",
       "9      4678146.45\n",
       "10     5969717.07\n",
       "11     6787287.04\n",
       "12     8532927.23"
      ]
     },
     "execution_count": 70,
     "metadata": {},
     "output_type": "execute_result"
    }
   ],
   "source": [
    "# pivot_table mb usados por mes\n",
    "data_month = pd.pivot_table(\n",
    "    internet, \n",
    "    values = \"mb_used\",\n",
    "    index = \"month\",\n",
    "    aggfunc = \"sum\", \n",
    "    fill_value=0\n",
    ")\n",
    "data_month"
   ]
  },
  {
   "cell_type": "markdown",
   "metadata": {},
   "source": [
    "Ahora que tenemos los datos en mb, se va a pasar todo a gb para poder luego redondear al gigabyte más cercano. Al final se va a dejar el antiguo `mb_used`, el `gb_used` redondeado y el `round_mb_used` que luego servirá para hacer los cálculos. "
   ]
  },
  {
   "cell_type": "code",
   "execution_count": 71,
   "metadata": {},
   "outputs": [],
   "source": [
    "# transformación a gigabytes\n",
    "data_per_month[\"gb_used\"] = data_per_month[\"mb_used\"]/1024\n",
    "data_per_month[\"gb_used\"] = data_per_month[\"gb_used\"].apply(np.ceil)\n",
    "data_per_month[\"round_mb_used\"] = data_per_month[\"gb_used\"] * 1024"
   ]
  },
  {
   "cell_type": "code",
   "execution_count": 72,
   "metadata": {},
   "outputs": [
    {
     "data": {
      "text/html": [
       "<div>\n",
       "<style scoped>\n",
       "    .dataframe tbody tr th:only-of-type {\n",
       "        vertical-align: middle;\n",
       "    }\n",
       "\n",
       "    .dataframe tbody tr th {\n",
       "        vertical-align: top;\n",
       "    }\n",
       "\n",
       "    .dataframe thead th {\n",
       "        text-align: right;\n",
       "    }\n",
       "</style>\n",
       "<table border=\"1\" class=\"dataframe\">\n",
       "  <thead>\n",
       "    <tr style=\"text-align: right;\">\n",
       "      <th></th>\n",
       "      <th></th>\n",
       "      <th>mb_used</th>\n",
       "      <th>gb_used</th>\n",
       "      <th>round_mb_used</th>\n",
       "    </tr>\n",
       "    <tr>\n",
       "      <th>user_id</th>\n",
       "      <th>month</th>\n",
       "      <th></th>\n",
       "      <th></th>\n",
       "      <th></th>\n",
       "    </tr>\n",
       "  </thead>\n",
       "  <tbody>\n",
       "    <tr>\n",
       "      <th>1000</th>\n",
       "      <th>12</th>\n",
       "      <td>1901.47</td>\n",
       "      <td>2.0</td>\n",
       "      <td>2048.0</td>\n",
       "    </tr>\n",
       "    <tr>\n",
       "      <th rowspan=\"4\" valign=\"top\">1001</th>\n",
       "      <th>8</th>\n",
       "      <td>6919.15</td>\n",
       "      <td>7.0</td>\n",
       "      <td>7168.0</td>\n",
       "    </tr>\n",
       "    <tr>\n",
       "      <th>9</th>\n",
       "      <td>13314.82</td>\n",
       "      <td>14.0</td>\n",
       "      <td>14336.0</td>\n",
       "    </tr>\n",
       "    <tr>\n",
       "      <th>10</th>\n",
       "      <td>22330.49</td>\n",
       "      <td>22.0</td>\n",
       "      <td>22528.0</td>\n",
       "    </tr>\n",
       "    <tr>\n",
       "      <th>11</th>\n",
       "      <td>18504.30</td>\n",
       "      <td>19.0</td>\n",
       "      <td>19456.0</td>\n",
       "    </tr>\n",
       "    <tr>\n",
       "      <th>...</th>\n",
       "      <th>...</th>\n",
       "      <td>...</td>\n",
       "      <td>...</td>\n",
       "      <td>...</td>\n",
       "    </tr>\n",
       "    <tr>\n",
       "      <th>1498</th>\n",
       "      <th>12</th>\n",
       "      <td>23137.69</td>\n",
       "      <td>23.0</td>\n",
       "      <td>23552.0</td>\n",
       "    </tr>\n",
       "    <tr>\n",
       "      <th rowspan=\"4\" valign=\"top\">1499</th>\n",
       "      <th>9</th>\n",
       "      <td>12984.76</td>\n",
       "      <td>13.0</td>\n",
       "      <td>13312.0</td>\n",
       "    </tr>\n",
       "    <tr>\n",
       "      <th>10</th>\n",
       "      <td>19492.43</td>\n",
       "      <td>20.0</td>\n",
       "      <td>20480.0</td>\n",
       "    </tr>\n",
       "    <tr>\n",
       "      <th>11</th>\n",
       "      <td>16813.83</td>\n",
       "      <td>17.0</td>\n",
       "      <td>17408.0</td>\n",
       "    </tr>\n",
       "    <tr>\n",
       "      <th>12</th>\n",
       "      <td>22059.21</td>\n",
       "      <td>22.0</td>\n",
       "      <td>22528.0</td>\n",
       "    </tr>\n",
       "  </tbody>\n",
       "</table>\n",
       "<p>2277 rows × 3 columns</p>\n",
       "</div>"
      ],
      "text/plain": [
       "                mb_used  gb_used  round_mb_used\n",
       "user_id month                                  \n",
       "1000    12      1901.47      2.0         2048.0\n",
       "1001    8       6919.15      7.0         7168.0\n",
       "        9      13314.82     14.0        14336.0\n",
       "        10     22330.49     22.0        22528.0\n",
       "        11     18504.30     19.0        19456.0\n",
       "...                 ...      ...            ...\n",
       "1498    12     23137.69     23.0        23552.0\n",
       "1499    9      12984.76     13.0        13312.0\n",
       "        10     19492.43     20.0        20480.0\n",
       "        11     16813.83     17.0        17408.0\n",
       "        12     22059.21     22.0        22528.0\n",
       "\n",
       "[2277 rows x 3 columns]"
      ]
     },
     "execution_count": 72,
     "metadata": {},
     "output_type": "execute_result"
    }
   ],
   "source": [
    "# visualización general\n",
    "data_per_month"
   ]
  },
  {
   "cell_type": "code",
   "execution_count": 73,
   "metadata": {},
   "outputs": [
    {
     "data": {
      "text/html": [
       "<div>\n",
       "<style scoped>\n",
       "    .dataframe tbody tr th:only-of-type {\n",
       "        vertical-align: middle;\n",
       "    }\n",
       "\n",
       "    .dataframe tbody tr th {\n",
       "        vertical-align: top;\n",
       "    }\n",
       "\n",
       "    .dataframe thead th {\n",
       "        text-align: right;\n",
       "    }\n",
       "</style>\n",
       "<table border=\"1\" class=\"dataframe\">\n",
       "  <thead>\n",
       "    <tr style=\"text-align: right;\">\n",
       "      <th></th>\n",
       "      <th></th>\n",
       "      <th>mb_used</th>\n",
       "      <th>gb_used</th>\n",
       "      <th>round_mb_used</th>\n",
       "    </tr>\n",
       "    <tr>\n",
       "      <th>user_id</th>\n",
       "      <th>month</th>\n",
       "      <th></th>\n",
       "      <th></th>\n",
       "      <th></th>\n",
       "    </tr>\n",
       "  </thead>\n",
       "  <tbody>\n",
       "    <tr>\n",
       "      <th>1379</th>\n",
       "      <th>12</th>\n",
       "      <td>70931.59</td>\n",
       "      <td>70.0</td>\n",
       "      <td>71680.0</td>\n",
       "    </tr>\n",
       "    <tr>\n",
       "      <th>1121</th>\n",
       "      <th>12</th>\n",
       "      <td>66863.89</td>\n",
       "      <td>66.0</td>\n",
       "      <td>67584.0</td>\n",
       "    </tr>\n",
       "    <tr>\n",
       "      <th rowspan=\"2\" valign=\"top\">1292</th>\n",
       "      <th>12</th>\n",
       "      <td>52034.66</td>\n",
       "      <td>51.0</td>\n",
       "      <td>52224.0</td>\n",
       "    </tr>\n",
       "    <tr>\n",
       "      <th>8</th>\n",
       "      <td>51809.35</td>\n",
       "      <td>51.0</td>\n",
       "      <td>52224.0</td>\n",
       "    </tr>\n",
       "    <tr>\n",
       "      <th>1240</th>\n",
       "      <th>8</th>\n",
       "      <td>49950.58</td>\n",
       "      <td>49.0</td>\n",
       "      <td>50176.0</td>\n",
       "    </tr>\n",
       "    <tr>\n",
       "      <th>1028</th>\n",
       "      <th>10</th>\n",
       "      <td>46595.33</td>\n",
       "      <td>46.0</td>\n",
       "      <td>47104.0</td>\n",
       "    </tr>\n",
       "    <tr>\n",
       "      <th>1490</th>\n",
       "      <th>12</th>\n",
       "      <td>46215.51</td>\n",
       "      <td>46.0</td>\n",
       "      <td>47104.0</td>\n",
       "    </tr>\n",
       "    <tr>\n",
       "      <th>1292</th>\n",
       "      <th>10</th>\n",
       "      <td>46868.75</td>\n",
       "      <td>46.0</td>\n",
       "      <td>47104.0</td>\n",
       "    </tr>\n",
       "    <tr>\n",
       "      <th>1038</th>\n",
       "      <th>12</th>\n",
       "      <td>45020.31</td>\n",
       "      <td>44.0</td>\n",
       "      <td>45056.0</td>\n",
       "    </tr>\n",
       "    <tr>\n",
       "      <th>1240</th>\n",
       "      <th>10</th>\n",
       "      <td>42128.84</td>\n",
       "      <td>42.0</td>\n",
       "      <td>43008.0</td>\n",
       "    </tr>\n",
       "    <tr>\n",
       "      <th>1028</th>\n",
       "      <th>11</th>\n",
       "      <td>42952.59</td>\n",
       "      <td>42.0</td>\n",
       "      <td>43008.0</td>\n",
       "    </tr>\n",
       "    <tr>\n",
       "      <th>1194</th>\n",
       "      <th>11</th>\n",
       "      <td>42866.10</td>\n",
       "      <td>42.0</td>\n",
       "      <td>43008.0</td>\n",
       "    </tr>\n",
       "    <tr>\n",
       "      <th>1272</th>\n",
       "      <th>12</th>\n",
       "      <td>41059.97</td>\n",
       "      <td>41.0</td>\n",
       "      <td>41984.0</td>\n",
       "    </tr>\n",
       "    <tr>\n",
       "      <th>1240</th>\n",
       "      <th>12</th>\n",
       "      <td>41729.17</td>\n",
       "      <td>41.0</td>\n",
       "      <td>41984.0</td>\n",
       "    </tr>\n",
       "    <tr>\n",
       "      <th>1418</th>\n",
       "      <th>12</th>\n",
       "      <td>41924.69</td>\n",
       "      <td>41.0</td>\n",
       "      <td>41984.0</td>\n",
       "    </tr>\n",
       "    <tr>\n",
       "      <th>1028</th>\n",
       "      <th>8</th>\n",
       "      <td>40388.21</td>\n",
       "      <td>40.0</td>\n",
       "      <td>40960.0</td>\n",
       "    </tr>\n",
       "    <tr>\n",
       "      <th>1293</th>\n",
       "      <th>10</th>\n",
       "      <td>39963.26</td>\n",
       "      <td>40.0</td>\n",
       "      <td>40960.0</td>\n",
       "    </tr>\n",
       "    <tr>\n",
       "      <th>1447</th>\n",
       "      <th>11</th>\n",
       "      <td>40217.22</td>\n",
       "      <td>40.0</td>\n",
       "      <td>40960.0</td>\n",
       "    </tr>\n",
       "    <tr>\n",
       "      <th>1490</th>\n",
       "      <th>8</th>\n",
       "      <td>39316.23</td>\n",
       "      <td>39.0</td>\n",
       "      <td>39936.0</td>\n",
       "    </tr>\n",
       "    <tr>\n",
       "      <th>1268</th>\n",
       "      <th>7</th>\n",
       "      <td>38929.09</td>\n",
       "      <td>39.0</td>\n",
       "      <td>39936.0</td>\n",
       "    </tr>\n",
       "    <tr>\n",
       "      <th>1043</th>\n",
       "      <th>12</th>\n",
       "      <td>38464.82</td>\n",
       "      <td>38.0</td>\n",
       "      <td>38912.0</td>\n",
       "    </tr>\n",
       "    <tr>\n",
       "      <th>1028</th>\n",
       "      <th>6</th>\n",
       "      <td>37907.14</td>\n",
       "      <td>38.0</td>\n",
       "      <td>38912.0</td>\n",
       "    </tr>\n",
       "    <tr>\n",
       "      <th rowspan=\"2\" valign=\"top\">1144</th>\n",
       "      <th>10</th>\n",
       "      <td>38156.82</td>\n",
       "      <td>38.0</td>\n",
       "      <td>38912.0</td>\n",
       "    </tr>\n",
       "    <tr>\n",
       "      <th>7</th>\n",
       "      <td>38583.96</td>\n",
       "      <td>38.0</td>\n",
       "      <td>38912.0</td>\n",
       "    </tr>\n",
       "    <tr>\n",
       "      <th>1038</th>\n",
       "      <th>11</th>\n",
       "      <td>37946.04</td>\n",
       "      <td>38.0</td>\n",
       "      <td>38912.0</td>\n",
       "    </tr>\n",
       "    <tr>\n",
       "      <th>1028</th>\n",
       "      <th>7</th>\n",
       "      <td>38826.70</td>\n",
       "      <td>38.0</td>\n",
       "      <td>38912.0</td>\n",
       "    </tr>\n",
       "    <tr>\n",
       "      <th>1201</th>\n",
       "      <th>11</th>\n",
       "      <td>38611.72</td>\n",
       "      <td>38.0</td>\n",
       "      <td>38912.0</td>\n",
       "    </tr>\n",
       "    <tr>\n",
       "      <th>1194</th>\n",
       "      <th>9</th>\n",
       "      <td>37298.02</td>\n",
       "      <td>37.0</td>\n",
       "      <td>37888.0</td>\n",
       "    </tr>\n",
       "    <tr>\n",
       "      <th>1147</th>\n",
       "      <th>10</th>\n",
       "      <td>36895.77</td>\n",
       "      <td>37.0</td>\n",
       "      <td>37888.0</td>\n",
       "    </tr>\n",
       "    <tr>\n",
       "      <th>1144</th>\n",
       "      <th>9</th>\n",
       "      <td>37587.03</td>\n",
       "      <td>37.0</td>\n",
       "      <td>37888.0</td>\n",
       "    </tr>\n",
       "  </tbody>\n",
       "</table>\n",
       "</div>"
      ],
      "text/plain": [
       "                mb_used  gb_used  round_mb_used\n",
       "user_id month                                  \n",
       "1379    12     70931.59     70.0        71680.0\n",
       "1121    12     66863.89     66.0        67584.0\n",
       "1292    12     52034.66     51.0        52224.0\n",
       "        8      51809.35     51.0        52224.0\n",
       "1240    8      49950.58     49.0        50176.0\n",
       "1028    10     46595.33     46.0        47104.0\n",
       "1490    12     46215.51     46.0        47104.0\n",
       "1292    10     46868.75     46.0        47104.0\n",
       "1038    12     45020.31     44.0        45056.0\n",
       "1240    10     42128.84     42.0        43008.0\n",
       "1028    11     42952.59     42.0        43008.0\n",
       "1194    11     42866.10     42.0        43008.0\n",
       "1272    12     41059.97     41.0        41984.0\n",
       "1240    12     41729.17     41.0        41984.0\n",
       "1418    12     41924.69     41.0        41984.0\n",
       "1028    8      40388.21     40.0        40960.0\n",
       "1293    10     39963.26     40.0        40960.0\n",
       "1447    11     40217.22     40.0        40960.0\n",
       "1490    8      39316.23     39.0        39936.0\n",
       "1268    7      38929.09     39.0        39936.0\n",
       "1043    12     38464.82     38.0        38912.0\n",
       "1028    6      37907.14     38.0        38912.0\n",
       "1144    10     38156.82     38.0        38912.0\n",
       "        7      38583.96     38.0        38912.0\n",
       "1038    11     37946.04     38.0        38912.0\n",
       "1028    7      38826.70     38.0        38912.0\n",
       "1201    11     38611.72     38.0        38912.0\n",
       "1194    9      37298.02     37.0        37888.0\n",
       "1147    10     36895.77     37.0        37888.0\n",
       "1144    9      37587.03     37.0        37888.0"
      ]
     },
     "execution_count": 73,
     "metadata": {},
     "output_type": "execute_result"
    }
   ],
   "source": [
    "# ver datos\n",
    "data_per_month.sort_values(\"round_mb_used\", ascending=False).head(30)"
   ]
  },
  {
   "cell_type": "markdown",
   "metadata": {},
   "source": [
    "Finalmente se observa que el usuario `1379` fue el que más datos ha consumido durante el año 2018, con un total de **71680 mb** (lo equivalente a 72 gb). Esto es importante ya que sea cualquiera de los dos planes que tenía, ha excedido el límite del plan, por ende ha pagado extra por ese consumo."
   ]
  },
  {
   "cell_type": "markdown",
   "metadata": {},
   "source": [
    "Procedemos a realizar lo mismo en el df `data_month` donde se tiene información sobre el uso de mb por mes. "
   ]
  },
  {
   "cell_type": "code",
   "execution_count": 74,
   "metadata": {},
   "outputs": [],
   "source": [
    "# transformación a gigabytes\n",
    "data_month[\"gb_used\"] = data_month[\"mb_used\"]/1024\n",
    "data_month[\"gb_used\"] = data_month[\"gb_used\"].apply(np.ceil)\n",
    "data_month[\"round_mb_used\"] = data_month[\"gb_used\"] * 1024"
   ]
  },
  {
   "cell_type": "code",
   "execution_count": 75,
   "metadata": {},
   "outputs": [
    {
     "data": {
      "text/html": [
       "<div>\n",
       "<style scoped>\n",
       "    .dataframe tbody tr th:only-of-type {\n",
       "        vertical-align: middle;\n",
       "    }\n",
       "\n",
       "    .dataframe tbody tr th {\n",
       "        vertical-align: top;\n",
       "    }\n",
       "\n",
       "    .dataframe thead th {\n",
       "        text-align: right;\n",
       "    }\n",
       "</style>\n",
       "<table border=\"1\" class=\"dataframe\">\n",
       "  <thead>\n",
       "    <tr style=\"text-align: right;\">\n",
       "      <th></th>\n",
       "      <th>mb_used</th>\n",
       "      <th>gb_used</th>\n",
       "      <th>round_mb_used</th>\n",
       "    </tr>\n",
       "    <tr>\n",
       "      <th>month</th>\n",
       "      <th></th>\n",
       "      <th></th>\n",
       "      <th></th>\n",
       "    </tr>\n",
       "  </thead>\n",
       "  <tbody>\n",
       "    <tr>\n",
       "      <th>12</th>\n",
       "      <td>8532927.23</td>\n",
       "      <td>8333.0</td>\n",
       "      <td>8532992.0</td>\n",
       "    </tr>\n",
       "    <tr>\n",
       "      <th>11</th>\n",
       "      <td>6787287.04</td>\n",
       "      <td>6629.0</td>\n",
       "      <td>6788096.0</td>\n",
       "    </tr>\n",
       "    <tr>\n",
       "      <th>10</th>\n",
       "      <td>5969717.07</td>\n",
       "      <td>5830.0</td>\n",
       "      <td>5969920.0</td>\n",
       "    </tr>\n",
       "    <tr>\n",
       "      <th>9</th>\n",
       "      <td>4678146.45</td>\n",
       "      <td>4569.0</td>\n",
       "      <td>4678656.0</td>\n",
       "    </tr>\n",
       "    <tr>\n",
       "      <th>8</th>\n",
       "      <td>3985688.81</td>\n",
       "      <td>3893.0</td>\n",
       "      <td>3986432.0</td>\n",
       "    </tr>\n",
       "    <tr>\n",
       "      <th>7</th>\n",
       "      <td>2995155.59</td>\n",
       "      <td>2925.0</td>\n",
       "      <td>2995200.0</td>\n",
       "    </tr>\n",
       "    <tr>\n",
       "      <th>6</th>\n",
       "      <td>2205130.62</td>\n",
       "      <td>2154.0</td>\n",
       "      <td>2205696.0</td>\n",
       "    </tr>\n",
       "    <tr>\n",
       "      <th>5</th>\n",
       "      <td>1555209.32</td>\n",
       "      <td>1519.0</td>\n",
       "      <td>1555456.0</td>\n",
       "    </tr>\n",
       "    <tr>\n",
       "      <th>4</th>\n",
       "      <td>937764.90</td>\n",
       "      <td>916.0</td>\n",
       "      <td>937984.0</td>\n",
       "    </tr>\n",
       "    <tr>\n",
       "      <th>3</th>\n",
       "      <td>526803.34</td>\n",
       "      <td>515.0</td>\n",
       "      <td>527360.0</td>\n",
       "    </tr>\n",
       "    <tr>\n",
       "      <th>2</th>\n",
       "      <td>229511.25</td>\n",
       "      <td>225.0</td>\n",
       "      <td>230400.0</td>\n",
       "    </tr>\n",
       "    <tr>\n",
       "      <th>1</th>\n",
       "      <td>37422.09</td>\n",
       "      <td>37.0</td>\n",
       "      <td>37888.0</td>\n",
       "    </tr>\n",
       "  </tbody>\n",
       "</table>\n",
       "</div>"
      ],
      "text/plain": [
       "          mb_used  gb_used  round_mb_used\n",
       "month                                    \n",
       "12     8532927.23   8333.0      8532992.0\n",
       "11     6787287.04   6629.0      6788096.0\n",
       "10     5969717.07   5830.0      5969920.0\n",
       "9      4678146.45   4569.0      4678656.0\n",
       "8      3985688.81   3893.0      3986432.0\n",
       "7      2995155.59   2925.0      2995200.0\n",
       "6      2205130.62   2154.0      2205696.0\n",
       "5      1555209.32   1519.0      1555456.0\n",
       "4       937764.90    916.0       937984.0\n",
       "3       526803.34    515.0       527360.0\n",
       "2       229511.25    225.0       230400.0\n",
       "1        37422.09     37.0        37888.0"
      ]
     },
     "execution_count": 75,
     "metadata": {},
     "output_type": "execute_result"
    }
   ],
   "source": [
    "# ver datos\n",
    "data_month.sort_values(\"round_mb_used\", ascending=False).head(30)"
   ]
  },
  {
   "cell_type": "markdown",
   "metadata": {},
   "source": [
    "##### Ingresos mensuales por usuario"
   ]
  },
  {
   "cell_type": "markdown",
   "metadata": {},
   "source": [
    "Para realizar esto, es importante unir las diferentes tablas (`calls`, `internet`, `messages`, `users` y `plans`) en una sola, con la información necesaria. Para esto, se debe analizar entre las 3 variables que se obtuvo anteriormente, cuál es la más larga (a nivel de filas) para luego unir entre las otras. "
   ]
  },
  {
   "cell_type": "code",
   "execution_count": 76,
   "metadata": {},
   "outputs": [
    {
     "name": "stdout",
     "output_type": "stream",
     "text": [
      "# filas en `calls_duration_per_month`: 2256\n",
      "# filas en `messages_per_month`: 1806\n",
      "# filas en `data_per_month`: 2277\n"
     ]
    }
   ],
   "source": [
    "# longitud de cada tabla\n",
    "print(\"# filas en `calls_duration_per_month`:\", len(calls_duration_per_month))\n",
    "print(\"# filas en `messages_per_month`:\", len(messages_per_month))\n",
    "print(\"# filas en `data_per_month`:\", len(data_per_month))"
   ]
  },
  {
   "cell_type": "markdown",
   "metadata": {},
   "source": [
    "La variable `data_per_month` tiene más filas que las otras, por lo que a partir de esta, se unirá el resto de información. "
   ]
  },
  {
   "cell_type": "code",
   "execution_count": 77,
   "metadata": {},
   "outputs": [],
   "source": [
    "# resetear index\n",
    "calls_duration_per_month = calls_duration_per_month.reset_index()\n",
    "messages_per_month = messages_per_month.reset_index()\n",
    "data_per_month = data_per_month.reset_index()"
   ]
  },
  {
   "cell_type": "code",
   "execution_count": 78,
   "metadata": {},
   "outputs": [
    {
     "data": {
      "text/html": [
       "<div>\n",
       "<style scoped>\n",
       "    .dataframe tbody tr th:only-of-type {\n",
       "        vertical-align: middle;\n",
       "    }\n",
       "\n",
       "    .dataframe tbody tr th {\n",
       "        vertical-align: top;\n",
       "    }\n",
       "\n",
       "    .dataframe thead th {\n",
       "        text-align: right;\n",
       "    }\n",
       "</style>\n",
       "<table border=\"1\" class=\"dataframe\">\n",
       "  <thead>\n",
       "    <tr style=\"text-align: right;\">\n",
       "      <th></th>\n",
       "      <th>user_id</th>\n",
       "      <th>month</th>\n",
       "      <th>duration</th>\n",
       "    </tr>\n",
       "  </thead>\n",
       "  <tbody>\n",
       "    <tr>\n",
       "      <th>0</th>\n",
       "      <td>1000</td>\n",
       "      <td>12</td>\n",
       "      <td>124</td>\n",
       "    </tr>\n",
       "    <tr>\n",
       "      <th>1</th>\n",
       "      <td>1001</td>\n",
       "      <td>8</td>\n",
       "      <td>182</td>\n",
       "    </tr>\n",
       "    <tr>\n",
       "      <th>2</th>\n",
       "      <td>1001</td>\n",
       "      <td>9</td>\n",
       "      <td>315</td>\n",
       "    </tr>\n",
       "    <tr>\n",
       "      <th>3</th>\n",
       "      <td>1001</td>\n",
       "      <td>10</td>\n",
       "      <td>393</td>\n",
       "    </tr>\n",
       "    <tr>\n",
       "      <th>4</th>\n",
       "      <td>1001</td>\n",
       "      <td>11</td>\n",
       "      <td>426</td>\n",
       "    </tr>\n",
       "  </tbody>\n",
       "</table>\n",
       "</div>"
      ],
      "text/plain": [
       "  user_id  month  duration\n",
       "0    1000     12       124\n",
       "1    1001      8       182\n",
       "2    1001      9       315\n",
       "3    1001     10       393\n",
       "4    1001     11       426"
      ]
     },
     "metadata": {},
     "output_type": "display_data"
    },
    {
     "data": {
      "text/html": [
       "<div>\n",
       "<style scoped>\n",
       "    .dataframe tbody tr th:only-of-type {\n",
       "        vertical-align: middle;\n",
       "    }\n",
       "\n",
       "    .dataframe tbody tr th {\n",
       "        vertical-align: top;\n",
       "    }\n",
       "\n",
       "    .dataframe thead th {\n",
       "        text-align: right;\n",
       "    }\n",
       "</style>\n",
       "<table border=\"1\" class=\"dataframe\">\n",
       "  <thead>\n",
       "    <tr style=\"text-align: right;\">\n",
       "      <th></th>\n",
       "      <th>user_id</th>\n",
       "      <th>month</th>\n",
       "      <th>id</th>\n",
       "    </tr>\n",
       "  </thead>\n",
       "  <tbody>\n",
       "    <tr>\n",
       "      <th>0</th>\n",
       "      <td>1000</td>\n",
       "      <td>12</td>\n",
       "      <td>11</td>\n",
       "    </tr>\n",
       "    <tr>\n",
       "      <th>1</th>\n",
       "      <td>1001</td>\n",
       "      <td>8</td>\n",
       "      <td>30</td>\n",
       "    </tr>\n",
       "    <tr>\n",
       "      <th>2</th>\n",
       "      <td>1001</td>\n",
       "      <td>9</td>\n",
       "      <td>44</td>\n",
       "    </tr>\n",
       "    <tr>\n",
       "      <th>3</th>\n",
       "      <td>1001</td>\n",
       "      <td>10</td>\n",
       "      <td>53</td>\n",
       "    </tr>\n",
       "    <tr>\n",
       "      <th>4</th>\n",
       "      <td>1001</td>\n",
       "      <td>11</td>\n",
       "      <td>36</td>\n",
       "    </tr>\n",
       "  </tbody>\n",
       "</table>\n",
       "</div>"
      ],
      "text/plain": [
       "   user_id  month  id\n",
       "0     1000     12  11\n",
       "1     1001      8  30\n",
       "2     1001      9  44\n",
       "3     1001     10  53\n",
       "4     1001     11  36"
      ]
     },
     "metadata": {},
     "output_type": "display_data"
    },
    {
     "data": {
      "text/html": [
       "<div>\n",
       "<style scoped>\n",
       "    .dataframe tbody tr th:only-of-type {\n",
       "        vertical-align: middle;\n",
       "    }\n",
       "\n",
       "    .dataframe tbody tr th {\n",
       "        vertical-align: top;\n",
       "    }\n",
       "\n",
       "    .dataframe thead th {\n",
       "        text-align: right;\n",
       "    }\n",
       "</style>\n",
       "<table border=\"1\" class=\"dataframe\">\n",
       "  <thead>\n",
       "    <tr style=\"text-align: right;\">\n",
       "      <th></th>\n",
       "      <th>user_id</th>\n",
       "      <th>month</th>\n",
       "      <th>mb_used</th>\n",
       "      <th>gb_used</th>\n",
       "      <th>round_mb_used</th>\n",
       "    </tr>\n",
       "  </thead>\n",
       "  <tbody>\n",
       "    <tr>\n",
       "      <th>0</th>\n",
       "      <td>1000</td>\n",
       "      <td>12</td>\n",
       "      <td>1901.47</td>\n",
       "      <td>2.0</td>\n",
       "      <td>2048.0</td>\n",
       "    </tr>\n",
       "    <tr>\n",
       "      <th>1</th>\n",
       "      <td>1001</td>\n",
       "      <td>8</td>\n",
       "      <td>6919.15</td>\n",
       "      <td>7.0</td>\n",
       "      <td>7168.0</td>\n",
       "    </tr>\n",
       "    <tr>\n",
       "      <th>2</th>\n",
       "      <td>1001</td>\n",
       "      <td>9</td>\n",
       "      <td>13314.82</td>\n",
       "      <td>14.0</td>\n",
       "      <td>14336.0</td>\n",
       "    </tr>\n",
       "    <tr>\n",
       "      <th>3</th>\n",
       "      <td>1001</td>\n",
       "      <td>10</td>\n",
       "      <td>22330.49</td>\n",
       "      <td>22.0</td>\n",
       "      <td>22528.0</td>\n",
       "    </tr>\n",
       "    <tr>\n",
       "      <th>4</th>\n",
       "      <td>1001</td>\n",
       "      <td>11</td>\n",
       "      <td>18504.30</td>\n",
       "      <td>19.0</td>\n",
       "      <td>19456.0</td>\n",
       "    </tr>\n",
       "  </tbody>\n",
       "</table>\n",
       "</div>"
      ],
      "text/plain": [
       "  user_id  month   mb_used  gb_used  round_mb_used\n",
       "0    1000     12   1901.47      2.0         2048.0\n",
       "1    1001      8   6919.15      7.0         7168.0\n",
       "2    1001      9  13314.82     14.0        14336.0\n",
       "3    1001     10  22330.49     22.0        22528.0\n",
       "4    1001     11  18504.30     19.0        19456.0"
      ]
     },
     "metadata": {},
     "output_type": "display_data"
    }
   ],
   "source": [
    "# visualización general de las tablas\n",
    "display(calls_duration_per_month.head())\n",
    "display(messages_per_month.head())\n",
    "display(data_per_month.head())"
   ]
  },
  {
   "cell_type": "markdown",
   "metadata": {},
   "source": [
    "Se cambia el nombre de las columnas de algunas tablas:"
   ]
  },
  {
   "cell_type": "code",
   "execution_count": 79,
   "metadata": {},
   "outputs": [],
   "source": [
    "# modificación nombre\n",
    "calls_duration_per_month.columns = [\"user_id\", \"month\", \"total_calls_duration\"]\n",
    "messages_per_month.columns = [\"user_id\", \"month\", \"total_messages\"]\n",
    "data_per_month.columns = [\"user_id\", \"month\", \"total_mb_used\", \"total_gb_used\", \"total_round_mb_used\"]"
   ]
  },
  {
   "cell_type": "code",
   "execution_count": 80,
   "metadata": {},
   "outputs": [
    {
     "data": {
      "text/html": [
       "<div>\n",
       "<style scoped>\n",
       "    .dataframe tbody tr th:only-of-type {\n",
       "        vertical-align: middle;\n",
       "    }\n",
       "\n",
       "    .dataframe tbody tr th {\n",
       "        vertical-align: top;\n",
       "    }\n",
       "\n",
       "    .dataframe thead th {\n",
       "        text-align: right;\n",
       "    }\n",
       "</style>\n",
       "<table border=\"1\" class=\"dataframe\">\n",
       "  <thead>\n",
       "    <tr style=\"text-align: right;\">\n",
       "      <th></th>\n",
       "      <th>user_id</th>\n",
       "      <th>month</th>\n",
       "      <th>total_calls_duration</th>\n",
       "    </tr>\n",
       "  </thead>\n",
       "  <tbody>\n",
       "    <tr>\n",
       "      <th>0</th>\n",
       "      <td>1000</td>\n",
       "      <td>12</td>\n",
       "      <td>124</td>\n",
       "    </tr>\n",
       "    <tr>\n",
       "      <th>1</th>\n",
       "      <td>1001</td>\n",
       "      <td>8</td>\n",
       "      <td>182</td>\n",
       "    </tr>\n",
       "    <tr>\n",
       "      <th>2</th>\n",
       "      <td>1001</td>\n",
       "      <td>9</td>\n",
       "      <td>315</td>\n",
       "    </tr>\n",
       "    <tr>\n",
       "      <th>3</th>\n",
       "      <td>1001</td>\n",
       "      <td>10</td>\n",
       "      <td>393</td>\n",
       "    </tr>\n",
       "    <tr>\n",
       "      <th>4</th>\n",
       "      <td>1001</td>\n",
       "      <td>11</td>\n",
       "      <td>426</td>\n",
       "    </tr>\n",
       "  </tbody>\n",
       "</table>\n",
       "</div>"
      ],
      "text/plain": [
       "  user_id  month  total_calls_duration\n",
       "0    1000     12                   124\n",
       "1    1001      8                   182\n",
       "2    1001      9                   315\n",
       "3    1001     10                   393\n",
       "4    1001     11                   426"
      ]
     },
     "metadata": {},
     "output_type": "display_data"
    },
    {
     "data": {
      "text/html": [
       "<div>\n",
       "<style scoped>\n",
       "    .dataframe tbody tr th:only-of-type {\n",
       "        vertical-align: middle;\n",
       "    }\n",
       "\n",
       "    .dataframe tbody tr th {\n",
       "        vertical-align: top;\n",
       "    }\n",
       "\n",
       "    .dataframe thead th {\n",
       "        text-align: right;\n",
       "    }\n",
       "</style>\n",
       "<table border=\"1\" class=\"dataframe\">\n",
       "  <thead>\n",
       "    <tr style=\"text-align: right;\">\n",
       "      <th></th>\n",
       "      <th>user_id</th>\n",
       "      <th>month</th>\n",
       "      <th>total_messages</th>\n",
       "    </tr>\n",
       "  </thead>\n",
       "  <tbody>\n",
       "    <tr>\n",
       "      <th>0</th>\n",
       "      <td>1000</td>\n",
       "      <td>12</td>\n",
       "      <td>11</td>\n",
       "    </tr>\n",
       "    <tr>\n",
       "      <th>1</th>\n",
       "      <td>1001</td>\n",
       "      <td>8</td>\n",
       "      <td>30</td>\n",
       "    </tr>\n",
       "    <tr>\n",
       "      <th>2</th>\n",
       "      <td>1001</td>\n",
       "      <td>9</td>\n",
       "      <td>44</td>\n",
       "    </tr>\n",
       "    <tr>\n",
       "      <th>3</th>\n",
       "      <td>1001</td>\n",
       "      <td>10</td>\n",
       "      <td>53</td>\n",
       "    </tr>\n",
       "    <tr>\n",
       "      <th>4</th>\n",
       "      <td>1001</td>\n",
       "      <td>11</td>\n",
       "      <td>36</td>\n",
       "    </tr>\n",
       "  </tbody>\n",
       "</table>\n",
       "</div>"
      ],
      "text/plain": [
       "   user_id  month  total_messages\n",
       "0     1000     12              11\n",
       "1     1001      8              30\n",
       "2     1001      9              44\n",
       "3     1001     10              53\n",
       "4     1001     11              36"
      ]
     },
     "metadata": {},
     "output_type": "display_data"
    },
    {
     "data": {
      "text/html": [
       "<div>\n",
       "<style scoped>\n",
       "    .dataframe tbody tr th:only-of-type {\n",
       "        vertical-align: middle;\n",
       "    }\n",
       "\n",
       "    .dataframe tbody tr th {\n",
       "        vertical-align: top;\n",
       "    }\n",
       "\n",
       "    .dataframe thead th {\n",
       "        text-align: right;\n",
       "    }\n",
       "</style>\n",
       "<table border=\"1\" class=\"dataframe\">\n",
       "  <thead>\n",
       "    <tr style=\"text-align: right;\">\n",
       "      <th></th>\n",
       "      <th>user_id</th>\n",
       "      <th>month</th>\n",
       "      <th>total_mb_used</th>\n",
       "      <th>total_gb_used</th>\n",
       "      <th>total_round_mb_used</th>\n",
       "    </tr>\n",
       "  </thead>\n",
       "  <tbody>\n",
       "    <tr>\n",
       "      <th>0</th>\n",
       "      <td>1000</td>\n",
       "      <td>12</td>\n",
       "      <td>1901.47</td>\n",
       "      <td>2.0</td>\n",
       "      <td>2048.0</td>\n",
       "    </tr>\n",
       "    <tr>\n",
       "      <th>1</th>\n",
       "      <td>1001</td>\n",
       "      <td>8</td>\n",
       "      <td>6919.15</td>\n",
       "      <td>7.0</td>\n",
       "      <td>7168.0</td>\n",
       "    </tr>\n",
       "    <tr>\n",
       "      <th>2</th>\n",
       "      <td>1001</td>\n",
       "      <td>9</td>\n",
       "      <td>13314.82</td>\n",
       "      <td>14.0</td>\n",
       "      <td>14336.0</td>\n",
       "    </tr>\n",
       "    <tr>\n",
       "      <th>3</th>\n",
       "      <td>1001</td>\n",
       "      <td>10</td>\n",
       "      <td>22330.49</td>\n",
       "      <td>22.0</td>\n",
       "      <td>22528.0</td>\n",
       "    </tr>\n",
       "    <tr>\n",
       "      <th>4</th>\n",
       "      <td>1001</td>\n",
       "      <td>11</td>\n",
       "      <td>18504.30</td>\n",
       "      <td>19.0</td>\n",
       "      <td>19456.0</td>\n",
       "    </tr>\n",
       "  </tbody>\n",
       "</table>\n",
       "</div>"
      ],
      "text/plain": [
       "  user_id  month  total_mb_used  total_gb_used  total_round_mb_used\n",
       "0    1000     12        1901.47            2.0               2048.0\n",
       "1    1001      8        6919.15            7.0               7168.0\n",
       "2    1001      9       13314.82           14.0              14336.0\n",
       "3    1001     10       22330.49           22.0              22528.0\n",
       "4    1001     11       18504.30           19.0              19456.0"
      ]
     },
     "metadata": {},
     "output_type": "display_data"
    }
   ],
   "source": [
    "# visualización general de las tablas\n",
    "display(calls_duration_per_month.head())\n",
    "display(messages_per_month.head())\n",
    "display(data_per_month.head())"
   ]
  },
  {
   "cell_type": "code",
   "execution_count": 81,
   "metadata": {},
   "outputs": [],
   "source": [
    "# cambiar la columna mes a string\n",
    "calls_duration_per_month[\"month\"] = calls_duration_per_month[\"month\"].astype(\"str\")\n",
    "messages_per_month[\"month\"] = messages_per_month[\"month\"].astype(\"str\")\n",
    "data_per_month[\"month\"] = data_per_month[\"month\"].astype(\"str\")\n",
    "messages_per_month[\"user_id\"] = messages_per_month[\"user_id\"].astype(\"str\")"
   ]
  },
  {
   "cell_type": "markdown",
   "metadata": {},
   "source": [
    "Comenzamos uniendo las tablas:"
   ]
  },
  {
   "cell_type": "code",
   "execution_count": 82,
   "metadata": {},
   "outputs": [],
   "source": [
    "# left merge calls_duration_per_month with messages_per_month\n",
    "data_final = calls_duration_per_month.merge(messages_per_month, on=[\"user_id\", \"month\"], how=\"outer\")"
   ]
  },
  {
   "cell_type": "code",
   "execution_count": 83,
   "metadata": {},
   "outputs": [
    {
     "data": {
      "text/html": [
       "<div>\n",
       "<style scoped>\n",
       "    .dataframe tbody tr th:only-of-type {\n",
       "        vertical-align: middle;\n",
       "    }\n",
       "\n",
       "    .dataframe tbody tr th {\n",
       "        vertical-align: top;\n",
       "    }\n",
       "\n",
       "    .dataframe thead th {\n",
       "        text-align: right;\n",
       "    }\n",
       "</style>\n",
       "<table border=\"1\" class=\"dataframe\">\n",
       "  <thead>\n",
       "    <tr style=\"text-align: right;\">\n",
       "      <th></th>\n",
       "      <th>user_id</th>\n",
       "      <th>month</th>\n",
       "      <th>total_calls_duration</th>\n",
       "      <th>total_messages</th>\n",
       "    </tr>\n",
       "  </thead>\n",
       "  <tbody>\n",
       "    <tr>\n",
       "      <th>0</th>\n",
       "      <td>1000</td>\n",
       "      <td>12</td>\n",
       "      <td>124.0</td>\n",
       "      <td>11.0</td>\n",
       "    </tr>\n",
       "    <tr>\n",
       "      <th>1</th>\n",
       "      <td>1001</td>\n",
       "      <td>8</td>\n",
       "      <td>182.0</td>\n",
       "      <td>30.0</td>\n",
       "    </tr>\n",
       "    <tr>\n",
       "      <th>2</th>\n",
       "      <td>1001</td>\n",
       "      <td>9</td>\n",
       "      <td>315.0</td>\n",
       "      <td>44.0</td>\n",
       "    </tr>\n",
       "    <tr>\n",
       "      <th>3</th>\n",
       "      <td>1001</td>\n",
       "      <td>10</td>\n",
       "      <td>393.0</td>\n",
       "      <td>53.0</td>\n",
       "    </tr>\n",
       "    <tr>\n",
       "      <th>4</th>\n",
       "      <td>1001</td>\n",
       "      <td>11</td>\n",
       "      <td>426.0</td>\n",
       "      <td>36.0</td>\n",
       "    </tr>\n",
       "  </tbody>\n",
       "</table>\n",
       "</div>"
      ],
      "text/plain": [
       "  user_id month  total_calls_duration  total_messages\n",
       "0    1000    12                 124.0            11.0\n",
       "1    1001     8                 182.0            30.0\n",
       "2    1001     9                 315.0            44.0\n",
       "3    1001    10                 393.0            53.0\n",
       "4    1001    11                 426.0            36.0"
      ]
     },
     "execution_count": 83,
     "metadata": {},
     "output_type": "execute_result"
    }
   ],
   "source": [
    "# visualizamos\n",
    "data_final.head()"
   ]
  },
  {
   "cell_type": "code",
   "execution_count": 84,
   "metadata": {},
   "outputs": [],
   "source": [
    "# left merge data_final with data_per_month\n",
    "data_final = data_final.merge(data_per_month, on=[\"user_id\", \"month\"], how=\"outer\")"
   ]
  },
  {
   "cell_type": "code",
   "execution_count": 85,
   "metadata": {},
   "outputs": [
    {
     "data": {
      "text/html": [
       "<div>\n",
       "<style scoped>\n",
       "    .dataframe tbody tr th:only-of-type {\n",
       "        vertical-align: middle;\n",
       "    }\n",
       "\n",
       "    .dataframe tbody tr th {\n",
       "        vertical-align: top;\n",
       "    }\n",
       "\n",
       "    .dataframe thead th {\n",
       "        text-align: right;\n",
       "    }\n",
       "</style>\n",
       "<table border=\"1\" class=\"dataframe\">\n",
       "  <thead>\n",
       "    <tr style=\"text-align: right;\">\n",
       "      <th></th>\n",
       "      <th>user_id</th>\n",
       "      <th>month</th>\n",
       "      <th>total_calls_duration</th>\n",
       "      <th>total_messages</th>\n",
       "      <th>total_mb_used</th>\n",
       "      <th>total_gb_used</th>\n",
       "      <th>total_round_mb_used</th>\n",
       "    </tr>\n",
       "  </thead>\n",
       "  <tbody>\n",
       "    <tr>\n",
       "      <th>0</th>\n",
       "      <td>1000</td>\n",
       "      <td>12</td>\n",
       "      <td>124.0</td>\n",
       "      <td>11.0</td>\n",
       "      <td>1901.47</td>\n",
       "      <td>2.0</td>\n",
       "      <td>2048.0</td>\n",
       "    </tr>\n",
       "    <tr>\n",
       "      <th>1</th>\n",
       "      <td>1001</td>\n",
       "      <td>8</td>\n",
       "      <td>182.0</td>\n",
       "      <td>30.0</td>\n",
       "      <td>6919.15</td>\n",
       "      <td>7.0</td>\n",
       "      <td>7168.0</td>\n",
       "    </tr>\n",
       "    <tr>\n",
       "      <th>2</th>\n",
       "      <td>1001</td>\n",
       "      <td>9</td>\n",
       "      <td>315.0</td>\n",
       "      <td>44.0</td>\n",
       "      <td>13314.82</td>\n",
       "      <td>14.0</td>\n",
       "      <td>14336.0</td>\n",
       "    </tr>\n",
       "    <tr>\n",
       "      <th>3</th>\n",
       "      <td>1001</td>\n",
       "      <td>10</td>\n",
       "      <td>393.0</td>\n",
       "      <td>53.0</td>\n",
       "      <td>22330.49</td>\n",
       "      <td>22.0</td>\n",
       "      <td>22528.0</td>\n",
       "    </tr>\n",
       "    <tr>\n",
       "      <th>4</th>\n",
       "      <td>1001</td>\n",
       "      <td>11</td>\n",
       "      <td>426.0</td>\n",
       "      <td>36.0</td>\n",
       "      <td>18504.30</td>\n",
       "      <td>19.0</td>\n",
       "      <td>19456.0</td>\n",
       "    </tr>\n",
       "  </tbody>\n",
       "</table>\n",
       "</div>"
      ],
      "text/plain": [
       "  user_id month  total_calls_duration  total_messages  total_mb_used  \\\n",
       "0    1000    12                 124.0            11.0        1901.47   \n",
       "1    1001     8                 182.0            30.0        6919.15   \n",
       "2    1001     9                 315.0            44.0       13314.82   \n",
       "3    1001    10                 393.0            53.0       22330.49   \n",
       "4    1001    11                 426.0            36.0       18504.30   \n",
       "\n",
       "   total_gb_used  total_round_mb_used  \n",
       "0            2.0               2048.0  \n",
       "1            7.0               7168.0  \n",
       "2           14.0              14336.0  \n",
       "3           22.0              22528.0  \n",
       "4           19.0              19456.0  "
      ]
     },
     "execution_count": 85,
     "metadata": {},
     "output_type": "execute_result"
    }
   ],
   "source": [
    "# visualizamos\n",
    "data_final.head()"
   ]
  },
  {
   "cell_type": "markdown",
   "metadata": {},
   "source": [
    "Verifiquemos la cantidad de valores vacíos que hay en las nuevas columnas:"
   ]
  },
  {
   "cell_type": "code",
   "execution_count": 86,
   "metadata": {},
   "outputs": [
    {
     "data": {
      "text/plain": [
       "user_id                   0\n",
       "month                     0\n",
       "total_calls_duration     37\n",
       "total_messages          487\n",
       "total_mb_used            16\n",
       "total_gb_used            16\n",
       "total_round_mb_used      16\n",
       "dtype: int64"
      ]
     },
     "execution_count": 86,
     "metadata": {},
     "output_type": "execute_result"
    }
   ],
   "source": [
    "# missing values en data_final\n",
    "data_final.isna().sum()"
   ]
  },
  {
   "cell_type": "markdown",
   "metadata": {},
   "source": [
    "En este caso, los valores ausentes vamos a reemplazar con cero (0). Esto hace sentido porque se podría decir que los clientes no utilizaron ni mensajes ni mb en esos meses. "
   ]
  },
  {
   "cell_type": "code",
   "execution_count": 87,
   "metadata": {},
   "outputs": [],
   "source": [
    "# rellenar valores ausentes con 0\n",
    "data_final = data_final.fillna(0)"
   ]
  },
  {
   "cell_type": "code",
   "execution_count": 88,
   "metadata": {},
   "outputs": [
    {
     "data": {
      "text/plain": [
       "user_id                 0\n",
       "month                   0\n",
       "total_calls_duration    0\n",
       "total_messages          0\n",
       "total_mb_used           0\n",
       "total_gb_used           0\n",
       "total_round_mb_used     0\n",
       "dtype: int64"
      ]
     },
     "execution_count": 88,
     "metadata": {},
     "output_type": "execute_result"
    }
   ],
   "source": [
    "# missing values en data_final\n",
    "data_final.isna().sum()"
   ]
  },
  {
   "cell_type": "markdown",
   "metadata": {},
   "source": [
    "Ahora unamos la información del plan de Megaline que tiene cada usuario:"
   ]
  },
  {
   "cell_type": "code",
   "execution_count": 89,
   "metadata": {},
   "outputs": [],
   "source": [
    "# separación de usuario y plan\n",
    "plan_per_user = users[[\"user_id\", \"plan\"]].copy()"
   ]
  },
  {
   "cell_type": "code",
   "execution_count": 90,
   "metadata": {},
   "outputs": [
    {
     "data": {
      "text/html": [
       "<div>\n",
       "<style scoped>\n",
       "    .dataframe tbody tr th:only-of-type {\n",
       "        vertical-align: middle;\n",
       "    }\n",
       "\n",
       "    .dataframe tbody tr th {\n",
       "        vertical-align: top;\n",
       "    }\n",
       "\n",
       "    .dataframe thead th {\n",
       "        text-align: right;\n",
       "    }\n",
       "</style>\n",
       "<table border=\"1\" class=\"dataframe\">\n",
       "  <thead>\n",
       "    <tr style=\"text-align: right;\">\n",
       "      <th></th>\n",
       "      <th>user_id</th>\n",
       "      <th>plan</th>\n",
       "    </tr>\n",
       "  </thead>\n",
       "  <tbody>\n",
       "    <tr>\n",
       "      <th>0</th>\n",
       "      <td>1000</td>\n",
       "      <td>ultimate</td>\n",
       "    </tr>\n",
       "    <tr>\n",
       "      <th>1</th>\n",
       "      <td>1001</td>\n",
       "      <td>surf</td>\n",
       "    </tr>\n",
       "    <tr>\n",
       "      <th>2</th>\n",
       "      <td>1002</td>\n",
       "      <td>surf</td>\n",
       "    </tr>\n",
       "    <tr>\n",
       "      <th>3</th>\n",
       "      <td>1003</td>\n",
       "      <td>surf</td>\n",
       "    </tr>\n",
       "    <tr>\n",
       "      <th>4</th>\n",
       "      <td>1004</td>\n",
       "      <td>surf</td>\n",
       "    </tr>\n",
       "  </tbody>\n",
       "</table>\n",
       "</div>"
      ],
      "text/plain": [
       "   user_id      plan\n",
       "0     1000  ultimate\n",
       "1     1001      surf\n",
       "2     1002      surf\n",
       "3     1003      surf\n",
       "4     1004      surf"
      ]
     },
     "execution_count": 90,
     "metadata": {},
     "output_type": "execute_result"
    }
   ],
   "source": [
    "# visualización general\n",
    "plan_per_user.head()"
   ]
  },
  {
   "cell_type": "code",
   "execution_count": 91,
   "metadata": {},
   "outputs": [
    {
     "data": {
      "text/plain": [
       "(500, 2)"
      ]
     },
     "execution_count": 91,
     "metadata": {},
     "output_type": "execute_result"
    }
   ],
   "source": [
    "# total de usuarios\n",
    "plan_per_user.shape"
   ]
  },
  {
   "cell_type": "code",
   "execution_count": 92,
   "metadata": {},
   "outputs": [],
   "source": [
    "# cambio de tipo de dato\n",
    "plan_per_user[\"user_id\"] = plan_per_user[\"user_id\"].astype(\"str\")"
   ]
  },
  {
   "cell_type": "code",
   "execution_count": 93,
   "metadata": {},
   "outputs": [
    {
     "data": {
      "text/html": [
       "<div>\n",
       "<style scoped>\n",
       "    .dataframe tbody tr th:only-of-type {\n",
       "        vertical-align: middle;\n",
       "    }\n",
       "\n",
       "    .dataframe tbody tr th {\n",
       "        vertical-align: top;\n",
       "    }\n",
       "\n",
       "    .dataframe thead th {\n",
       "        text-align: right;\n",
       "    }\n",
       "</style>\n",
       "<table border=\"1\" class=\"dataframe\">\n",
       "  <thead>\n",
       "    <tr style=\"text-align: right;\">\n",
       "      <th></th>\n",
       "      <th>user_id</th>\n",
       "      <th>month</th>\n",
       "      <th>total_calls_duration</th>\n",
       "      <th>total_messages</th>\n",
       "      <th>total_mb_used</th>\n",
       "      <th>total_gb_used</th>\n",
       "      <th>total_round_mb_used</th>\n",
       "    </tr>\n",
       "  </thead>\n",
       "  <tbody>\n",
       "    <tr>\n",
       "      <th>0</th>\n",
       "      <td>1000</td>\n",
       "      <td>12</td>\n",
       "      <td>124.0</td>\n",
       "      <td>11.0</td>\n",
       "      <td>1901.47</td>\n",
       "      <td>2.0</td>\n",
       "      <td>2048.0</td>\n",
       "    </tr>\n",
       "    <tr>\n",
       "      <th>1</th>\n",
       "      <td>1001</td>\n",
       "      <td>8</td>\n",
       "      <td>182.0</td>\n",
       "      <td>30.0</td>\n",
       "      <td>6919.15</td>\n",
       "      <td>7.0</td>\n",
       "      <td>7168.0</td>\n",
       "    </tr>\n",
       "    <tr>\n",
       "      <th>2</th>\n",
       "      <td>1001</td>\n",
       "      <td>9</td>\n",
       "      <td>315.0</td>\n",
       "      <td>44.0</td>\n",
       "      <td>13314.82</td>\n",
       "      <td>14.0</td>\n",
       "      <td>14336.0</td>\n",
       "    </tr>\n",
       "    <tr>\n",
       "      <th>3</th>\n",
       "      <td>1001</td>\n",
       "      <td>10</td>\n",
       "      <td>393.0</td>\n",
       "      <td>53.0</td>\n",
       "      <td>22330.49</td>\n",
       "      <td>22.0</td>\n",
       "      <td>22528.0</td>\n",
       "    </tr>\n",
       "    <tr>\n",
       "      <th>4</th>\n",
       "      <td>1001</td>\n",
       "      <td>11</td>\n",
       "      <td>426.0</td>\n",
       "      <td>36.0</td>\n",
       "      <td>18504.30</td>\n",
       "      <td>19.0</td>\n",
       "      <td>19456.0</td>\n",
       "    </tr>\n",
       "  </tbody>\n",
       "</table>\n",
       "</div>"
      ],
      "text/plain": [
       "  user_id month  total_calls_duration  total_messages  total_mb_used  \\\n",
       "0    1000    12                 124.0            11.0        1901.47   \n",
       "1    1001     8                 182.0            30.0        6919.15   \n",
       "2    1001     9                 315.0            44.0       13314.82   \n",
       "3    1001    10                 393.0            53.0       22330.49   \n",
       "4    1001    11                 426.0            36.0       18504.30   \n",
       "\n",
       "   total_gb_used  total_round_mb_used  \n",
       "0            2.0               2048.0  \n",
       "1            7.0               7168.0  \n",
       "2           14.0              14336.0  \n",
       "3           22.0              22528.0  \n",
       "4           19.0              19456.0  "
      ]
     },
     "execution_count": 93,
     "metadata": {},
     "output_type": "execute_result"
    }
   ],
   "source": [
    "# visualización primeros datos \n",
    "data_final.head()"
   ]
  },
  {
   "cell_type": "code",
   "execution_count": 94,
   "metadata": {},
   "outputs": [
    {
     "data": {
      "text/plain": [
       "(2293, 7)"
      ]
     },
     "execution_count": 94,
     "metadata": {},
     "output_type": "execute_result"
    }
   ],
   "source": [
    "data_final.shape"
   ]
  },
  {
   "cell_type": "code",
   "execution_count": 95,
   "metadata": {},
   "outputs": [],
   "source": [
    "# unión plan por usuario\n",
    "data_final = data_final.merge(plan_per_user, on=\"user_id\", how=\"outer\")"
   ]
  },
  {
   "cell_type": "code",
   "execution_count": 96,
   "metadata": {},
   "outputs": [
    {
     "data": {
      "text/plain": [
       "(2303, 8)"
      ]
     },
     "execution_count": 96,
     "metadata": {},
     "output_type": "execute_result"
    }
   ],
   "source": [
    "data_final.shape"
   ]
  },
  {
   "cell_type": "code",
   "execution_count": 97,
   "metadata": {},
   "outputs": [
    {
     "name": "stdout",
     "output_type": "stream",
     "text": [
      "<class 'pandas.core.frame.DataFrame'>\n",
      "Int64Index: 2303 entries, 0 to 2302\n",
      "Data columns (total 8 columns):\n",
      " #   Column                Non-Null Count  Dtype  \n",
      "---  ------                --------------  -----  \n",
      " 0   user_id               2303 non-null   object \n",
      " 1   month                 2293 non-null   object \n",
      " 2   total_calls_duration  2293 non-null   float64\n",
      " 3   total_messages        2293 non-null   float64\n",
      " 4   total_mb_used         2293 non-null   float64\n",
      " 5   total_gb_used         2293 non-null   float64\n",
      " 6   total_round_mb_used   2293 non-null   float64\n",
      " 7   plan                  2303 non-null   object \n",
      "dtypes: float64(5), object(3)\n",
      "memory usage: 161.9+ KB\n"
     ]
    }
   ],
   "source": [
    "data_final.info()"
   ]
  },
  {
   "cell_type": "code",
   "execution_count": 98,
   "metadata": {},
   "outputs": [
    {
     "name": "stdout",
     "output_type": "stream",
     "text": [
      "     user_id month  total_calls_duration  total_messages  total_mb_used  \\\n",
      "2293    1025   NaN                   NaN             NaN            NaN   \n",
      "2294    1129   NaN                   NaN             NaN            NaN   \n",
      "2295    1143   NaN                   NaN             NaN            NaN   \n",
      "2296    1269   NaN                   NaN             NaN            NaN   \n",
      "2297    1275   NaN                   NaN             NaN            NaN   \n",
      "2298    1307   NaN                   NaN             NaN            NaN   \n",
      "2299    1319   NaN                   NaN             NaN            NaN   \n",
      "2300    1378   NaN                   NaN             NaN            NaN   \n",
      "2301    1463   NaN                   NaN             NaN            NaN   \n",
      "2302    1473   NaN                   NaN             NaN            NaN   \n",
      "\n",
      "      total_gb_used  total_round_mb_used      plan  \n",
      "2293            NaN                  NaN  ultimate  \n",
      "2294            NaN                  NaN      surf  \n",
      "2295            NaN                  NaN      surf  \n",
      "2296            NaN                  NaN  ultimate  \n",
      "2297            NaN                  NaN  ultimate  \n",
      "2298            NaN                  NaN      surf  \n",
      "2299            NaN                  NaN      surf  \n",
      "2300            NaN                  NaN      surf  \n",
      "2301            NaN                  NaN  ultimate  \n",
      "2302            NaN                  NaN      surf  \n",
      "(10, 8)\n"
     ]
    }
   ],
   "source": [
    "filtered_df = data_final[data_final.isna().any(axis=1)]\n",
    "\n",
    "print(filtered_df)\n",
    "print(filtered_df.shape)"
   ]
  },
  {
   "cell_type": "code",
   "execution_count": 95,
   "metadata": {},
   "outputs": [
    {
     "data": {
      "text/plain": [
       "(2293, 8)"
      ]
     },
     "execution_count": 95,
     "metadata": {},
     "output_type": "execute_result"
    }
   ],
   "source": [
    "# unión plan por usuario\n",
    "data_final = data_final.merge(plan_per_user, on=\"user_id\", how=\"left\")\n",
    "data_final.shape"
   ]
  },
  {
   "cell_type": "code",
   "execution_count": 96,
   "metadata": {},
   "outputs": [
    {
     "data": {
      "text/html": [
       "<div>\n",
       "<style scoped>\n",
       "    .dataframe tbody tr th:only-of-type {\n",
       "        vertical-align: middle;\n",
       "    }\n",
       "\n",
       "    .dataframe tbody tr th {\n",
       "        vertical-align: top;\n",
       "    }\n",
       "\n",
       "    .dataframe thead th {\n",
       "        text-align: right;\n",
       "    }\n",
       "</style>\n",
       "<table border=\"1\" class=\"dataframe\">\n",
       "  <thead>\n",
       "    <tr style=\"text-align: right;\">\n",
       "      <th></th>\n",
       "      <th>user_id</th>\n",
       "      <th>month</th>\n",
       "      <th>total_calls_duration</th>\n",
       "      <th>total_messages</th>\n",
       "      <th>total_mb_used</th>\n",
       "      <th>total_gb_used</th>\n",
       "      <th>total_round_mb_used</th>\n",
       "      <th>plan</th>\n",
       "    </tr>\n",
       "  </thead>\n",
       "  <tbody>\n",
       "    <tr>\n",
       "      <th>0</th>\n",
       "      <td>1000</td>\n",
       "      <td>12</td>\n",
       "      <td>124.0</td>\n",
       "      <td>11.0</td>\n",
       "      <td>1901.47</td>\n",
       "      <td>2.0</td>\n",
       "      <td>2048.0</td>\n",
       "      <td>ultimate</td>\n",
       "    </tr>\n",
       "    <tr>\n",
       "      <th>1</th>\n",
       "      <td>1001</td>\n",
       "      <td>8</td>\n",
       "      <td>182.0</td>\n",
       "      <td>30.0</td>\n",
       "      <td>6919.15</td>\n",
       "      <td>7.0</td>\n",
       "      <td>7168.0</td>\n",
       "      <td>surf</td>\n",
       "    </tr>\n",
       "    <tr>\n",
       "      <th>2</th>\n",
       "      <td>1001</td>\n",
       "      <td>9</td>\n",
       "      <td>315.0</td>\n",
       "      <td>44.0</td>\n",
       "      <td>13314.82</td>\n",
       "      <td>14.0</td>\n",
       "      <td>14336.0</td>\n",
       "      <td>surf</td>\n",
       "    </tr>\n",
       "    <tr>\n",
       "      <th>3</th>\n",
       "      <td>1001</td>\n",
       "      <td>10</td>\n",
       "      <td>393.0</td>\n",
       "      <td>53.0</td>\n",
       "      <td>22330.49</td>\n",
       "      <td>22.0</td>\n",
       "      <td>22528.0</td>\n",
       "      <td>surf</td>\n",
       "    </tr>\n",
       "    <tr>\n",
       "      <th>4</th>\n",
       "      <td>1001</td>\n",
       "      <td>11</td>\n",
       "      <td>426.0</td>\n",
       "      <td>36.0</td>\n",
       "      <td>18504.30</td>\n",
       "      <td>19.0</td>\n",
       "      <td>19456.0</td>\n",
       "      <td>surf</td>\n",
       "    </tr>\n",
       "    <tr>\n",
       "      <th>5</th>\n",
       "      <td>1001</td>\n",
       "      <td>12</td>\n",
       "      <td>412.0</td>\n",
       "      <td>44.0</td>\n",
       "      <td>19369.18</td>\n",
       "      <td>19.0</td>\n",
       "      <td>19456.0</td>\n",
       "      <td>surf</td>\n",
       "    </tr>\n",
       "    <tr>\n",
       "      <th>6</th>\n",
       "      <td>1002</td>\n",
       "      <td>10</td>\n",
       "      <td>59.0</td>\n",
       "      <td>15.0</td>\n",
       "      <td>6552.01</td>\n",
       "      <td>7.0</td>\n",
       "      <td>7168.0</td>\n",
       "      <td>surf</td>\n",
       "    </tr>\n",
       "    <tr>\n",
       "      <th>7</th>\n",
       "      <td>1002</td>\n",
       "      <td>11</td>\n",
       "      <td>386.0</td>\n",
       "      <td>32.0</td>\n",
       "      <td>19345.08</td>\n",
       "      <td>19.0</td>\n",
       "      <td>19456.0</td>\n",
       "      <td>surf</td>\n",
       "    </tr>\n",
       "    <tr>\n",
       "      <th>8</th>\n",
       "      <td>1002</td>\n",
       "      <td>12</td>\n",
       "      <td>384.0</td>\n",
       "      <td>41.0</td>\n",
       "      <td>14396.24</td>\n",
       "      <td>15.0</td>\n",
       "      <td>15360.0</td>\n",
       "      <td>surf</td>\n",
       "    </tr>\n",
       "    <tr>\n",
       "      <th>9</th>\n",
       "      <td>1003</td>\n",
       "      <td>12</td>\n",
       "      <td>1104.0</td>\n",
       "      <td>50.0</td>\n",
       "      <td>27044.14</td>\n",
       "      <td>27.0</td>\n",
       "      <td>27648.0</td>\n",
       "      <td>surf</td>\n",
       "    </tr>\n",
       "  </tbody>\n",
       "</table>\n",
       "</div>"
      ],
      "text/plain": [
       "  user_id month  total_calls_duration  total_messages  total_mb_used  \\\n",
       "0    1000    12                 124.0            11.0        1901.47   \n",
       "1    1001     8                 182.0            30.0        6919.15   \n",
       "2    1001     9                 315.0            44.0       13314.82   \n",
       "3    1001    10                 393.0            53.0       22330.49   \n",
       "4    1001    11                 426.0            36.0       18504.30   \n",
       "5    1001    12                 412.0            44.0       19369.18   \n",
       "6    1002    10                  59.0            15.0        6552.01   \n",
       "7    1002    11                 386.0            32.0       19345.08   \n",
       "8    1002    12                 384.0            41.0       14396.24   \n",
       "9    1003    12                1104.0            50.0       27044.14   \n",
       "\n",
       "   total_gb_used  total_round_mb_used      plan  \n",
       "0            2.0               2048.0  ultimate  \n",
       "1            7.0               7168.0      surf  \n",
       "2           14.0              14336.0      surf  \n",
       "3           22.0              22528.0      surf  \n",
       "4           19.0              19456.0      surf  \n",
       "5           19.0              19456.0      surf  \n",
       "6            7.0               7168.0      surf  \n",
       "7           19.0              19456.0      surf  \n",
       "8           15.0              15360.0      surf  \n",
       "9           27.0              27648.0      surf  "
      ]
     },
     "execution_count": 96,
     "metadata": {},
     "output_type": "execute_result"
    }
   ],
   "source": [
    "# visualización datos\n",
    "data_final.head(10)"
   ]
  },
  {
   "cell_type": "markdown",
   "metadata": {},
   "source": [
    "Finalmente, aumentamos la información del archivo `plans` para tener todo en una sola tabla"
   ]
  },
  {
   "cell_type": "code",
   "execution_count": 97,
   "metadata": {},
   "outputs": [],
   "source": [
    "# final merge\n",
    "data_final = pd.merge(data_final, plans, how=\"left\", left_on=\"plan\", right_on=\"plan_name\")"
   ]
  },
  {
   "cell_type": "code",
   "execution_count": 98,
   "metadata": {},
   "outputs": [
    {
     "data": {
      "text/html": [
       "<div>\n",
       "<style scoped>\n",
       "    .dataframe tbody tr th:only-of-type {\n",
       "        vertical-align: middle;\n",
       "    }\n",
       "\n",
       "    .dataframe tbody tr th {\n",
       "        vertical-align: top;\n",
       "    }\n",
       "\n",
       "    .dataframe thead th {\n",
       "        text-align: right;\n",
       "    }\n",
       "</style>\n",
       "<table border=\"1\" class=\"dataframe\">\n",
       "  <thead>\n",
       "    <tr style=\"text-align: right;\">\n",
       "      <th></th>\n",
       "      <th>user_id</th>\n",
       "      <th>month</th>\n",
       "      <th>total_calls_duration</th>\n",
       "      <th>total_messages</th>\n",
       "      <th>total_mb_used</th>\n",
       "      <th>total_gb_used</th>\n",
       "      <th>total_round_mb_used</th>\n",
       "      <th>plan</th>\n",
       "      <th>messages_included</th>\n",
       "      <th>mb_per_month_included</th>\n",
       "      <th>minutes_included</th>\n",
       "      <th>usd_monthly_pay</th>\n",
       "      <th>usd_per_gb</th>\n",
       "      <th>usd_per_message</th>\n",
       "      <th>usd_per_minute</th>\n",
       "      <th>plan_name</th>\n",
       "    </tr>\n",
       "  </thead>\n",
       "  <tbody>\n",
       "    <tr>\n",
       "      <th>0</th>\n",
       "      <td>1000</td>\n",
       "      <td>12</td>\n",
       "      <td>124.0</td>\n",
       "      <td>11.0</td>\n",
       "      <td>1901.47</td>\n",
       "      <td>2.0</td>\n",
       "      <td>2048.0</td>\n",
       "      <td>ultimate</td>\n",
       "      <td>1000</td>\n",
       "      <td>30720</td>\n",
       "      <td>3000</td>\n",
       "      <td>70</td>\n",
       "      <td>7</td>\n",
       "      <td>0.01</td>\n",
       "      <td>0.01</td>\n",
       "      <td>ultimate</td>\n",
       "    </tr>\n",
       "    <tr>\n",
       "      <th>1</th>\n",
       "      <td>1001</td>\n",
       "      <td>8</td>\n",
       "      <td>182.0</td>\n",
       "      <td>30.0</td>\n",
       "      <td>6919.15</td>\n",
       "      <td>7.0</td>\n",
       "      <td>7168.0</td>\n",
       "      <td>surf</td>\n",
       "      <td>50</td>\n",
       "      <td>15360</td>\n",
       "      <td>500</td>\n",
       "      <td>20</td>\n",
       "      <td>10</td>\n",
       "      <td>0.03</td>\n",
       "      <td>0.03</td>\n",
       "      <td>surf</td>\n",
       "    </tr>\n",
       "    <tr>\n",
       "      <th>2</th>\n",
       "      <td>1001</td>\n",
       "      <td>9</td>\n",
       "      <td>315.0</td>\n",
       "      <td>44.0</td>\n",
       "      <td>13314.82</td>\n",
       "      <td>14.0</td>\n",
       "      <td>14336.0</td>\n",
       "      <td>surf</td>\n",
       "      <td>50</td>\n",
       "      <td>15360</td>\n",
       "      <td>500</td>\n",
       "      <td>20</td>\n",
       "      <td>10</td>\n",
       "      <td>0.03</td>\n",
       "      <td>0.03</td>\n",
       "      <td>surf</td>\n",
       "    </tr>\n",
       "    <tr>\n",
       "      <th>3</th>\n",
       "      <td>1001</td>\n",
       "      <td>10</td>\n",
       "      <td>393.0</td>\n",
       "      <td>53.0</td>\n",
       "      <td>22330.49</td>\n",
       "      <td>22.0</td>\n",
       "      <td>22528.0</td>\n",
       "      <td>surf</td>\n",
       "      <td>50</td>\n",
       "      <td>15360</td>\n",
       "      <td>500</td>\n",
       "      <td>20</td>\n",
       "      <td>10</td>\n",
       "      <td>0.03</td>\n",
       "      <td>0.03</td>\n",
       "      <td>surf</td>\n",
       "    </tr>\n",
       "    <tr>\n",
       "      <th>4</th>\n",
       "      <td>1001</td>\n",
       "      <td>11</td>\n",
       "      <td>426.0</td>\n",
       "      <td>36.0</td>\n",
       "      <td>18504.30</td>\n",
       "      <td>19.0</td>\n",
       "      <td>19456.0</td>\n",
       "      <td>surf</td>\n",
       "      <td>50</td>\n",
       "      <td>15360</td>\n",
       "      <td>500</td>\n",
       "      <td>20</td>\n",
       "      <td>10</td>\n",
       "      <td>0.03</td>\n",
       "      <td>0.03</td>\n",
       "      <td>surf</td>\n",
       "    </tr>\n",
       "  </tbody>\n",
       "</table>\n",
       "</div>"
      ],
      "text/plain": [
       "  user_id month  total_calls_duration  total_messages  total_mb_used  \\\n",
       "0    1000    12                 124.0            11.0        1901.47   \n",
       "1    1001     8                 182.0            30.0        6919.15   \n",
       "2    1001     9                 315.0            44.0       13314.82   \n",
       "3    1001    10                 393.0            53.0       22330.49   \n",
       "4    1001    11                 426.0            36.0       18504.30   \n",
       "\n",
       "   total_gb_used  total_round_mb_used      plan  messages_included  \\\n",
       "0            2.0               2048.0  ultimate               1000   \n",
       "1            7.0               7168.0      surf                 50   \n",
       "2           14.0              14336.0      surf                 50   \n",
       "3           22.0              22528.0      surf                 50   \n",
       "4           19.0              19456.0      surf                 50   \n",
       "\n",
       "   mb_per_month_included  minutes_included  usd_monthly_pay  usd_per_gb  \\\n",
       "0                  30720              3000               70           7   \n",
       "1                  15360               500               20          10   \n",
       "2                  15360               500               20          10   \n",
       "3                  15360               500               20          10   \n",
       "4                  15360               500               20          10   \n",
       "\n",
       "   usd_per_message  usd_per_minute plan_name  \n",
       "0             0.01            0.01  ultimate  \n",
       "1             0.03            0.03      surf  \n",
       "2             0.03            0.03      surf  \n",
       "3             0.03            0.03      surf  \n",
       "4             0.03            0.03      surf  "
      ]
     },
     "execution_count": 98,
     "metadata": {},
     "output_type": "execute_result"
    }
   ],
   "source": [
    "# visualización general\n",
    "data_final.head()"
   ]
  },
  {
   "cell_type": "markdown",
   "metadata": {},
   "source": [
    "Se procede a eliminar columnas que no son necesarias o se repiten información:"
   ]
  },
  {
   "cell_type": "code",
   "execution_count": 99,
   "metadata": {},
   "outputs": [],
   "source": [
    "# eliminar columnas\n",
    "data_final = data_final.drop([\"total_mb_used\", \"plan_name\"], axis=1)"
   ]
  },
  {
   "cell_type": "markdown",
   "metadata": {},
   "source": [
    "Procedemos a restar los límites del paquete gratuito del número total de llamadas, SMS y datos."
   ]
  },
  {
   "cell_type": "code",
   "execution_count": 100,
   "metadata": {},
   "outputs": [],
   "source": [
    "# final columns for calls, messsages and mb\n",
    "data_final[\"final_calls_duration\"] = data_final[\"minutes_included\"] - data_final[\"total_calls_duration\"]\n",
    "data_final[\"final_messages\"] = data_final[\"messages_included\"] - data_final[\"total_messages\"]\n",
    "data_final[\"final_mb\"] = data_final[\"mb_per_month_included\"] - data_final[\"total_round_mb_used\"]"
   ]
  },
  {
   "cell_type": "code",
   "execution_count": 101,
   "metadata": {},
   "outputs": [
    {
     "data": {
      "text/html": [
       "<div>\n",
       "<style scoped>\n",
       "    .dataframe tbody tr th:only-of-type {\n",
       "        vertical-align: middle;\n",
       "    }\n",
       "\n",
       "    .dataframe tbody tr th {\n",
       "        vertical-align: top;\n",
       "    }\n",
       "\n",
       "    .dataframe thead th {\n",
       "        text-align: right;\n",
       "    }\n",
       "</style>\n",
       "<table border=\"1\" class=\"dataframe\">\n",
       "  <thead>\n",
       "    <tr style=\"text-align: right;\">\n",
       "      <th></th>\n",
       "      <th>user_id</th>\n",
       "      <th>month</th>\n",
       "      <th>total_calls_duration</th>\n",
       "      <th>total_messages</th>\n",
       "      <th>total_gb_used</th>\n",
       "      <th>total_round_mb_used</th>\n",
       "      <th>plan</th>\n",
       "      <th>messages_included</th>\n",
       "      <th>mb_per_month_included</th>\n",
       "      <th>minutes_included</th>\n",
       "      <th>usd_monthly_pay</th>\n",
       "      <th>usd_per_gb</th>\n",
       "      <th>usd_per_message</th>\n",
       "      <th>usd_per_minute</th>\n",
       "      <th>final_calls_duration</th>\n",
       "      <th>final_messages</th>\n",
       "      <th>final_mb</th>\n",
       "    </tr>\n",
       "  </thead>\n",
       "  <tbody>\n",
       "    <tr>\n",
       "      <th>0</th>\n",
       "      <td>1000</td>\n",
       "      <td>12</td>\n",
       "      <td>124.0</td>\n",
       "      <td>11.0</td>\n",
       "      <td>2.0</td>\n",
       "      <td>2048.0</td>\n",
       "      <td>ultimate</td>\n",
       "      <td>1000</td>\n",
       "      <td>30720</td>\n",
       "      <td>3000</td>\n",
       "      <td>70</td>\n",
       "      <td>7</td>\n",
       "      <td>0.01</td>\n",
       "      <td>0.01</td>\n",
       "      <td>2876.0</td>\n",
       "      <td>989.0</td>\n",
       "      <td>28672.0</td>\n",
       "    </tr>\n",
       "    <tr>\n",
       "      <th>1</th>\n",
       "      <td>1001</td>\n",
       "      <td>8</td>\n",
       "      <td>182.0</td>\n",
       "      <td>30.0</td>\n",
       "      <td>7.0</td>\n",
       "      <td>7168.0</td>\n",
       "      <td>surf</td>\n",
       "      <td>50</td>\n",
       "      <td>15360</td>\n",
       "      <td>500</td>\n",
       "      <td>20</td>\n",
       "      <td>10</td>\n",
       "      <td>0.03</td>\n",
       "      <td>0.03</td>\n",
       "      <td>318.0</td>\n",
       "      <td>20.0</td>\n",
       "      <td>8192.0</td>\n",
       "    </tr>\n",
       "    <tr>\n",
       "      <th>2</th>\n",
       "      <td>1001</td>\n",
       "      <td>9</td>\n",
       "      <td>315.0</td>\n",
       "      <td>44.0</td>\n",
       "      <td>14.0</td>\n",
       "      <td>14336.0</td>\n",
       "      <td>surf</td>\n",
       "      <td>50</td>\n",
       "      <td>15360</td>\n",
       "      <td>500</td>\n",
       "      <td>20</td>\n",
       "      <td>10</td>\n",
       "      <td>0.03</td>\n",
       "      <td>0.03</td>\n",
       "      <td>185.0</td>\n",
       "      <td>6.0</td>\n",
       "      <td>1024.0</td>\n",
       "    </tr>\n",
       "    <tr>\n",
       "      <th>3</th>\n",
       "      <td>1001</td>\n",
       "      <td>10</td>\n",
       "      <td>393.0</td>\n",
       "      <td>53.0</td>\n",
       "      <td>22.0</td>\n",
       "      <td>22528.0</td>\n",
       "      <td>surf</td>\n",
       "      <td>50</td>\n",
       "      <td>15360</td>\n",
       "      <td>500</td>\n",
       "      <td>20</td>\n",
       "      <td>10</td>\n",
       "      <td>0.03</td>\n",
       "      <td>0.03</td>\n",
       "      <td>107.0</td>\n",
       "      <td>-3.0</td>\n",
       "      <td>-7168.0</td>\n",
       "    </tr>\n",
       "    <tr>\n",
       "      <th>4</th>\n",
       "      <td>1001</td>\n",
       "      <td>11</td>\n",
       "      <td>426.0</td>\n",
       "      <td>36.0</td>\n",
       "      <td>19.0</td>\n",
       "      <td>19456.0</td>\n",
       "      <td>surf</td>\n",
       "      <td>50</td>\n",
       "      <td>15360</td>\n",
       "      <td>500</td>\n",
       "      <td>20</td>\n",
       "      <td>10</td>\n",
       "      <td>0.03</td>\n",
       "      <td>0.03</td>\n",
       "      <td>74.0</td>\n",
       "      <td>14.0</td>\n",
       "      <td>-4096.0</td>\n",
       "    </tr>\n",
       "  </tbody>\n",
       "</table>\n",
       "</div>"
      ],
      "text/plain": [
       "  user_id month  total_calls_duration  total_messages  total_gb_used  \\\n",
       "0    1000    12                 124.0            11.0            2.0   \n",
       "1    1001     8                 182.0            30.0            7.0   \n",
       "2    1001     9                 315.0            44.0           14.0   \n",
       "3    1001    10                 393.0            53.0           22.0   \n",
       "4    1001    11                 426.0            36.0           19.0   \n",
       "\n",
       "   total_round_mb_used      plan  messages_included  mb_per_month_included  \\\n",
       "0               2048.0  ultimate               1000                  30720   \n",
       "1               7168.0      surf                 50                  15360   \n",
       "2              14336.0      surf                 50                  15360   \n",
       "3              22528.0      surf                 50                  15360   \n",
       "4              19456.0      surf                 50                  15360   \n",
       "\n",
       "   minutes_included  usd_monthly_pay  usd_per_gb  usd_per_message  \\\n",
       "0              3000               70           7             0.01   \n",
       "1               500               20          10             0.03   \n",
       "2               500               20          10             0.03   \n",
       "3               500               20          10             0.03   \n",
       "4               500               20          10             0.03   \n",
       "\n",
       "   usd_per_minute  final_calls_duration  final_messages  final_mb  \n",
       "0            0.01                2876.0           989.0   28672.0  \n",
       "1            0.03                 318.0            20.0    8192.0  \n",
       "2            0.03                 185.0             6.0    1024.0  \n",
       "3            0.03                 107.0            -3.0   -7168.0  \n",
       "4            0.03                  74.0            14.0   -4096.0  "
      ]
     },
     "execution_count": 101,
     "metadata": {},
     "output_type": "execute_result"
    }
   ],
   "source": [
    "# visualización general\n",
    "data_final.head()"
   ]
  },
  {
   "cell_type": "markdown",
   "metadata": {},
   "source": [
    "Creamos una función, el cual si la duración de la llamada es menor a 0, es decir negativo, realiza el cálculo (`usd_per_minute * calls_duration`), en caso de que no, devuelve un cero. "
   ]
  },
  {
   "cell_type": "code",
   "execution_count": 102,
   "metadata": {},
   "outputs": [],
   "source": [
    "# función para sacar el adicional de calls\n",
    "def extra_calls(row):\n",
    "    calls_duration = row[\"final_calls_duration\"]\n",
    "    usd_per_minute = row[\"usd_per_minute\"]\n",
    "    \n",
    "    if calls_duration < 0: \n",
    "        final_result = usd_per_minute * calls_duration\n",
    "        return final_result\n",
    "    else: \n",
    "        return 0"
   ]
  },
  {
   "cell_type": "code",
   "execution_count": 103,
   "metadata": {},
   "outputs": [],
   "source": [
    "# aplicación a la función\n",
    "data_final[\"extra_usd_calls\"] = data_final.apply(extra_calls, axis=1)\n",
    "data_final[\"extra_usd_calls\"] = data_final[\"extra_usd_calls\"].abs()"
   ]
  },
  {
   "cell_type": "code",
   "execution_count": 104,
   "metadata": {},
   "outputs": [
    {
     "data": {
      "text/html": [
       "<div>\n",
       "<style scoped>\n",
       "    .dataframe tbody tr th:only-of-type {\n",
       "        vertical-align: middle;\n",
       "    }\n",
       "\n",
       "    .dataframe tbody tr th {\n",
       "        vertical-align: top;\n",
       "    }\n",
       "\n",
       "    .dataframe thead th {\n",
       "        text-align: right;\n",
       "    }\n",
       "</style>\n",
       "<table border=\"1\" class=\"dataframe\">\n",
       "  <thead>\n",
       "    <tr style=\"text-align: right;\">\n",
       "      <th></th>\n",
       "      <th>user_id</th>\n",
       "      <th>month</th>\n",
       "      <th>total_calls_duration</th>\n",
       "      <th>total_messages</th>\n",
       "      <th>total_gb_used</th>\n",
       "      <th>total_round_mb_used</th>\n",
       "      <th>plan</th>\n",
       "      <th>messages_included</th>\n",
       "      <th>mb_per_month_included</th>\n",
       "      <th>minutes_included</th>\n",
       "      <th>usd_monthly_pay</th>\n",
       "      <th>usd_per_gb</th>\n",
       "      <th>usd_per_message</th>\n",
       "      <th>usd_per_minute</th>\n",
       "      <th>final_calls_duration</th>\n",
       "      <th>final_messages</th>\n",
       "      <th>final_mb</th>\n",
       "      <th>extra_usd_calls</th>\n",
       "    </tr>\n",
       "  </thead>\n",
       "  <tbody>\n",
       "    <tr>\n",
       "      <th>0</th>\n",
       "      <td>1000</td>\n",
       "      <td>12</td>\n",
       "      <td>124.0</td>\n",
       "      <td>11.0</td>\n",
       "      <td>2.0</td>\n",
       "      <td>2048.0</td>\n",
       "      <td>ultimate</td>\n",
       "      <td>1000</td>\n",
       "      <td>30720</td>\n",
       "      <td>3000</td>\n",
       "      <td>70</td>\n",
       "      <td>7</td>\n",
       "      <td>0.01</td>\n",
       "      <td>0.01</td>\n",
       "      <td>2876.0</td>\n",
       "      <td>989.0</td>\n",
       "      <td>28672.0</td>\n",
       "      <td>0.00</td>\n",
       "    </tr>\n",
       "    <tr>\n",
       "      <th>1</th>\n",
       "      <td>1001</td>\n",
       "      <td>8</td>\n",
       "      <td>182.0</td>\n",
       "      <td>30.0</td>\n",
       "      <td>7.0</td>\n",
       "      <td>7168.0</td>\n",
       "      <td>surf</td>\n",
       "      <td>50</td>\n",
       "      <td>15360</td>\n",
       "      <td>500</td>\n",
       "      <td>20</td>\n",
       "      <td>10</td>\n",
       "      <td>0.03</td>\n",
       "      <td>0.03</td>\n",
       "      <td>318.0</td>\n",
       "      <td>20.0</td>\n",
       "      <td>8192.0</td>\n",
       "      <td>0.00</td>\n",
       "    </tr>\n",
       "    <tr>\n",
       "      <th>2</th>\n",
       "      <td>1001</td>\n",
       "      <td>9</td>\n",
       "      <td>315.0</td>\n",
       "      <td>44.0</td>\n",
       "      <td>14.0</td>\n",
       "      <td>14336.0</td>\n",
       "      <td>surf</td>\n",
       "      <td>50</td>\n",
       "      <td>15360</td>\n",
       "      <td>500</td>\n",
       "      <td>20</td>\n",
       "      <td>10</td>\n",
       "      <td>0.03</td>\n",
       "      <td>0.03</td>\n",
       "      <td>185.0</td>\n",
       "      <td>6.0</td>\n",
       "      <td>1024.0</td>\n",
       "      <td>0.00</td>\n",
       "    </tr>\n",
       "    <tr>\n",
       "      <th>3</th>\n",
       "      <td>1001</td>\n",
       "      <td>10</td>\n",
       "      <td>393.0</td>\n",
       "      <td>53.0</td>\n",
       "      <td>22.0</td>\n",
       "      <td>22528.0</td>\n",
       "      <td>surf</td>\n",
       "      <td>50</td>\n",
       "      <td>15360</td>\n",
       "      <td>500</td>\n",
       "      <td>20</td>\n",
       "      <td>10</td>\n",
       "      <td>0.03</td>\n",
       "      <td>0.03</td>\n",
       "      <td>107.0</td>\n",
       "      <td>-3.0</td>\n",
       "      <td>-7168.0</td>\n",
       "      <td>0.00</td>\n",
       "    </tr>\n",
       "    <tr>\n",
       "      <th>4</th>\n",
       "      <td>1001</td>\n",
       "      <td>11</td>\n",
       "      <td>426.0</td>\n",
       "      <td>36.0</td>\n",
       "      <td>19.0</td>\n",
       "      <td>19456.0</td>\n",
       "      <td>surf</td>\n",
       "      <td>50</td>\n",
       "      <td>15360</td>\n",
       "      <td>500</td>\n",
       "      <td>20</td>\n",
       "      <td>10</td>\n",
       "      <td>0.03</td>\n",
       "      <td>0.03</td>\n",
       "      <td>74.0</td>\n",
       "      <td>14.0</td>\n",
       "      <td>-4096.0</td>\n",
       "      <td>0.00</td>\n",
       "    </tr>\n",
       "    <tr>\n",
       "      <th>5</th>\n",
       "      <td>1001</td>\n",
       "      <td>12</td>\n",
       "      <td>412.0</td>\n",
       "      <td>44.0</td>\n",
       "      <td>19.0</td>\n",
       "      <td>19456.0</td>\n",
       "      <td>surf</td>\n",
       "      <td>50</td>\n",
       "      <td>15360</td>\n",
       "      <td>500</td>\n",
       "      <td>20</td>\n",
       "      <td>10</td>\n",
       "      <td>0.03</td>\n",
       "      <td>0.03</td>\n",
       "      <td>88.0</td>\n",
       "      <td>6.0</td>\n",
       "      <td>-4096.0</td>\n",
       "      <td>0.00</td>\n",
       "    </tr>\n",
       "    <tr>\n",
       "      <th>6</th>\n",
       "      <td>1002</td>\n",
       "      <td>10</td>\n",
       "      <td>59.0</td>\n",
       "      <td>15.0</td>\n",
       "      <td>7.0</td>\n",
       "      <td>7168.0</td>\n",
       "      <td>surf</td>\n",
       "      <td>50</td>\n",
       "      <td>15360</td>\n",
       "      <td>500</td>\n",
       "      <td>20</td>\n",
       "      <td>10</td>\n",
       "      <td>0.03</td>\n",
       "      <td>0.03</td>\n",
       "      <td>441.0</td>\n",
       "      <td>35.0</td>\n",
       "      <td>8192.0</td>\n",
       "      <td>0.00</td>\n",
       "    </tr>\n",
       "    <tr>\n",
       "      <th>7</th>\n",
       "      <td>1002</td>\n",
       "      <td>11</td>\n",
       "      <td>386.0</td>\n",
       "      <td>32.0</td>\n",
       "      <td>19.0</td>\n",
       "      <td>19456.0</td>\n",
       "      <td>surf</td>\n",
       "      <td>50</td>\n",
       "      <td>15360</td>\n",
       "      <td>500</td>\n",
       "      <td>20</td>\n",
       "      <td>10</td>\n",
       "      <td>0.03</td>\n",
       "      <td>0.03</td>\n",
       "      <td>114.0</td>\n",
       "      <td>18.0</td>\n",
       "      <td>-4096.0</td>\n",
       "      <td>0.00</td>\n",
       "    </tr>\n",
       "    <tr>\n",
       "      <th>8</th>\n",
       "      <td>1002</td>\n",
       "      <td>12</td>\n",
       "      <td>384.0</td>\n",
       "      <td>41.0</td>\n",
       "      <td>15.0</td>\n",
       "      <td>15360.0</td>\n",
       "      <td>surf</td>\n",
       "      <td>50</td>\n",
       "      <td>15360</td>\n",
       "      <td>500</td>\n",
       "      <td>20</td>\n",
       "      <td>10</td>\n",
       "      <td>0.03</td>\n",
       "      <td>0.03</td>\n",
       "      <td>116.0</td>\n",
       "      <td>9.0</td>\n",
       "      <td>0.0</td>\n",
       "      <td>0.00</td>\n",
       "    </tr>\n",
       "    <tr>\n",
       "      <th>9</th>\n",
       "      <td>1003</td>\n",
       "      <td>12</td>\n",
       "      <td>1104.0</td>\n",
       "      <td>50.0</td>\n",
       "      <td>27.0</td>\n",
       "      <td>27648.0</td>\n",
       "      <td>surf</td>\n",
       "      <td>50</td>\n",
       "      <td>15360</td>\n",
       "      <td>500</td>\n",
       "      <td>20</td>\n",
       "      <td>10</td>\n",
       "      <td>0.03</td>\n",
       "      <td>0.03</td>\n",
       "      <td>-604.0</td>\n",
       "      <td>0.0</td>\n",
       "      <td>-12288.0</td>\n",
       "      <td>18.12</td>\n",
       "    </tr>\n",
       "  </tbody>\n",
       "</table>\n",
       "</div>"
      ],
      "text/plain": [
       "  user_id month  total_calls_duration  total_messages  total_gb_used  \\\n",
       "0    1000    12                 124.0            11.0            2.0   \n",
       "1    1001     8                 182.0            30.0            7.0   \n",
       "2    1001     9                 315.0            44.0           14.0   \n",
       "3    1001    10                 393.0            53.0           22.0   \n",
       "4    1001    11                 426.0            36.0           19.0   \n",
       "5    1001    12                 412.0            44.0           19.0   \n",
       "6    1002    10                  59.0            15.0            7.0   \n",
       "7    1002    11                 386.0            32.0           19.0   \n",
       "8    1002    12                 384.0            41.0           15.0   \n",
       "9    1003    12                1104.0            50.0           27.0   \n",
       "\n",
       "   total_round_mb_used      plan  messages_included  mb_per_month_included  \\\n",
       "0               2048.0  ultimate               1000                  30720   \n",
       "1               7168.0      surf                 50                  15360   \n",
       "2              14336.0      surf                 50                  15360   \n",
       "3              22528.0      surf                 50                  15360   \n",
       "4              19456.0      surf                 50                  15360   \n",
       "5              19456.0      surf                 50                  15360   \n",
       "6               7168.0      surf                 50                  15360   \n",
       "7              19456.0      surf                 50                  15360   \n",
       "8              15360.0      surf                 50                  15360   \n",
       "9              27648.0      surf                 50                  15360   \n",
       "\n",
       "   minutes_included  usd_monthly_pay  usd_per_gb  usd_per_message  \\\n",
       "0              3000               70           7             0.01   \n",
       "1               500               20          10             0.03   \n",
       "2               500               20          10             0.03   \n",
       "3               500               20          10             0.03   \n",
       "4               500               20          10             0.03   \n",
       "5               500               20          10             0.03   \n",
       "6               500               20          10             0.03   \n",
       "7               500               20          10             0.03   \n",
       "8               500               20          10             0.03   \n",
       "9               500               20          10             0.03   \n",
       "\n",
       "   usd_per_minute  final_calls_duration  final_messages  final_mb  \\\n",
       "0            0.01                2876.0           989.0   28672.0   \n",
       "1            0.03                 318.0            20.0    8192.0   \n",
       "2            0.03                 185.0             6.0    1024.0   \n",
       "3            0.03                 107.0            -3.0   -7168.0   \n",
       "4            0.03                  74.0            14.0   -4096.0   \n",
       "5            0.03                  88.0             6.0   -4096.0   \n",
       "6            0.03                 441.0            35.0    8192.0   \n",
       "7            0.03                 114.0            18.0   -4096.0   \n",
       "8            0.03                 116.0             9.0       0.0   \n",
       "9            0.03                -604.0             0.0  -12288.0   \n",
       "\n",
       "   extra_usd_calls  \n",
       "0             0.00  \n",
       "1             0.00  \n",
       "2             0.00  \n",
       "3             0.00  \n",
       "4             0.00  \n",
       "5             0.00  \n",
       "6             0.00  \n",
       "7             0.00  \n",
       "8             0.00  \n",
       "9            18.12  "
      ]
     },
     "execution_count": 104,
     "metadata": {},
     "output_type": "execute_result"
    }
   ],
   "source": [
    "# revisión datos\n",
    "data_final.head(10)"
   ]
  },
  {
   "cell_type": "markdown",
   "metadata": {},
   "source": [
    "Como se puede observar, en la última fila, en la columna `final_calls_duration` que tiene -604.0 tiene ya el valor en `usd` calculado en la columna `extra_usd_calls`, que en este caso es 18.12"
   ]
  },
  {
   "cell_type": "markdown",
   "metadata": {},
   "source": [
    "Procedemos a realizar lo mismo para `final_messajes` y `final_mb` creando funciones para cada uno: "
   ]
  },
  {
   "cell_type": "code",
   "execution_count": 105,
   "metadata": {},
   "outputs": [],
   "source": [
    "# función para sacar el adicional de messages\n",
    "def extra_messages(row):\n",
    "    total_messages = row[\"final_messages\"]\n",
    "    usd_per_message = row[\"usd_per_message\"]\n",
    "    \n",
    "    if total_messages < 0: \n",
    "        final_result = usd_per_message * total_messages\n",
    "        return final_result\n",
    "    else: \n",
    "        return 0"
   ]
  },
  {
   "cell_type": "code",
   "execution_count": 106,
   "metadata": {},
   "outputs": [],
   "source": [
    "# función para sacar el adicional de mb\n",
    "def extra_mb(row):\n",
    "    total_mb = row[\"final_mb\"]\n",
    "    usd_per_gb = row[\"usd_per_gb\"]\n",
    "    \n",
    "    if total_mb < 0:\n",
    "        total_gb = np.ceil(total_mb/1024)\n",
    "        final_result = usd_per_gb * total_gb\n",
    "        return final_result\n",
    "    else: \n",
    "        return 0"
   ]
  },
  {
   "cell_type": "markdown",
   "metadata": {},
   "source": [
    "Aplicamos las funciones: "
   ]
  },
  {
   "cell_type": "code",
   "execution_count": 107,
   "metadata": {},
   "outputs": [],
   "source": [
    "# aplicación a las funciones\n",
    "data_final[\"extra_usd_messages\"] = data_final.apply(extra_messages, axis=1)\n",
    "data_final[\"extra_usd_messages\"] = data_final[\"extra_usd_messages\"].abs()\n",
    "data_final[\"extra_usd_gb\"] = data_final.apply(extra_mb, axis=1)\n",
    "data_final[\"extra_usd_gb\"] = data_final[\"extra_usd_gb\"].abs()"
   ]
  },
  {
   "cell_type": "code",
   "execution_count": 108,
   "metadata": {},
   "outputs": [
    {
     "data": {
      "text/html": [
       "<div>\n",
       "<style scoped>\n",
       "    .dataframe tbody tr th:only-of-type {\n",
       "        vertical-align: middle;\n",
       "    }\n",
       "\n",
       "    .dataframe tbody tr th {\n",
       "        vertical-align: top;\n",
       "    }\n",
       "\n",
       "    .dataframe thead th {\n",
       "        text-align: right;\n",
       "    }\n",
       "</style>\n",
       "<table border=\"1\" class=\"dataframe\">\n",
       "  <thead>\n",
       "    <tr style=\"text-align: right;\">\n",
       "      <th></th>\n",
       "      <th>user_id</th>\n",
       "      <th>month</th>\n",
       "      <th>total_calls_duration</th>\n",
       "      <th>total_messages</th>\n",
       "      <th>total_gb_used</th>\n",
       "      <th>total_round_mb_used</th>\n",
       "      <th>plan</th>\n",
       "      <th>messages_included</th>\n",
       "      <th>mb_per_month_included</th>\n",
       "      <th>minutes_included</th>\n",
       "      <th>usd_monthly_pay</th>\n",
       "      <th>usd_per_gb</th>\n",
       "      <th>usd_per_message</th>\n",
       "      <th>usd_per_minute</th>\n",
       "      <th>final_calls_duration</th>\n",
       "      <th>final_messages</th>\n",
       "      <th>final_mb</th>\n",
       "      <th>extra_usd_calls</th>\n",
       "      <th>extra_usd_messages</th>\n",
       "      <th>extra_usd_gb</th>\n",
       "    </tr>\n",
       "  </thead>\n",
       "  <tbody>\n",
       "    <tr>\n",
       "      <th>0</th>\n",
       "      <td>1000</td>\n",
       "      <td>12</td>\n",
       "      <td>124.0</td>\n",
       "      <td>11.0</td>\n",
       "      <td>2.0</td>\n",
       "      <td>2048.0</td>\n",
       "      <td>ultimate</td>\n",
       "      <td>1000</td>\n",
       "      <td>30720</td>\n",
       "      <td>3000</td>\n",
       "      <td>70</td>\n",
       "      <td>7</td>\n",
       "      <td>0.01</td>\n",
       "      <td>0.01</td>\n",
       "      <td>2876.0</td>\n",
       "      <td>989.0</td>\n",
       "      <td>28672.0</td>\n",
       "      <td>0.00</td>\n",
       "      <td>0.00</td>\n",
       "      <td>0.0</td>\n",
       "    </tr>\n",
       "    <tr>\n",
       "      <th>1</th>\n",
       "      <td>1001</td>\n",
       "      <td>8</td>\n",
       "      <td>182.0</td>\n",
       "      <td>30.0</td>\n",
       "      <td>7.0</td>\n",
       "      <td>7168.0</td>\n",
       "      <td>surf</td>\n",
       "      <td>50</td>\n",
       "      <td>15360</td>\n",
       "      <td>500</td>\n",
       "      <td>20</td>\n",
       "      <td>10</td>\n",
       "      <td>0.03</td>\n",
       "      <td>0.03</td>\n",
       "      <td>318.0</td>\n",
       "      <td>20.0</td>\n",
       "      <td>8192.0</td>\n",
       "      <td>0.00</td>\n",
       "      <td>0.00</td>\n",
       "      <td>0.0</td>\n",
       "    </tr>\n",
       "    <tr>\n",
       "      <th>2</th>\n",
       "      <td>1001</td>\n",
       "      <td>9</td>\n",
       "      <td>315.0</td>\n",
       "      <td>44.0</td>\n",
       "      <td>14.0</td>\n",
       "      <td>14336.0</td>\n",
       "      <td>surf</td>\n",
       "      <td>50</td>\n",
       "      <td>15360</td>\n",
       "      <td>500</td>\n",
       "      <td>20</td>\n",
       "      <td>10</td>\n",
       "      <td>0.03</td>\n",
       "      <td>0.03</td>\n",
       "      <td>185.0</td>\n",
       "      <td>6.0</td>\n",
       "      <td>1024.0</td>\n",
       "      <td>0.00</td>\n",
       "      <td>0.00</td>\n",
       "      <td>0.0</td>\n",
       "    </tr>\n",
       "    <tr>\n",
       "      <th>3</th>\n",
       "      <td>1001</td>\n",
       "      <td>10</td>\n",
       "      <td>393.0</td>\n",
       "      <td>53.0</td>\n",
       "      <td>22.0</td>\n",
       "      <td>22528.0</td>\n",
       "      <td>surf</td>\n",
       "      <td>50</td>\n",
       "      <td>15360</td>\n",
       "      <td>500</td>\n",
       "      <td>20</td>\n",
       "      <td>10</td>\n",
       "      <td>0.03</td>\n",
       "      <td>0.03</td>\n",
       "      <td>107.0</td>\n",
       "      <td>-3.0</td>\n",
       "      <td>-7168.0</td>\n",
       "      <td>0.00</td>\n",
       "      <td>0.09</td>\n",
       "      <td>70.0</td>\n",
       "    </tr>\n",
       "    <tr>\n",
       "      <th>4</th>\n",
       "      <td>1001</td>\n",
       "      <td>11</td>\n",
       "      <td>426.0</td>\n",
       "      <td>36.0</td>\n",
       "      <td>19.0</td>\n",
       "      <td>19456.0</td>\n",
       "      <td>surf</td>\n",
       "      <td>50</td>\n",
       "      <td>15360</td>\n",
       "      <td>500</td>\n",
       "      <td>20</td>\n",
       "      <td>10</td>\n",
       "      <td>0.03</td>\n",
       "      <td>0.03</td>\n",
       "      <td>74.0</td>\n",
       "      <td>14.0</td>\n",
       "      <td>-4096.0</td>\n",
       "      <td>0.00</td>\n",
       "      <td>0.00</td>\n",
       "      <td>40.0</td>\n",
       "    </tr>\n",
       "    <tr>\n",
       "      <th>5</th>\n",
       "      <td>1001</td>\n",
       "      <td>12</td>\n",
       "      <td>412.0</td>\n",
       "      <td>44.0</td>\n",
       "      <td>19.0</td>\n",
       "      <td>19456.0</td>\n",
       "      <td>surf</td>\n",
       "      <td>50</td>\n",
       "      <td>15360</td>\n",
       "      <td>500</td>\n",
       "      <td>20</td>\n",
       "      <td>10</td>\n",
       "      <td>0.03</td>\n",
       "      <td>0.03</td>\n",
       "      <td>88.0</td>\n",
       "      <td>6.0</td>\n",
       "      <td>-4096.0</td>\n",
       "      <td>0.00</td>\n",
       "      <td>0.00</td>\n",
       "      <td>40.0</td>\n",
       "    </tr>\n",
       "    <tr>\n",
       "      <th>6</th>\n",
       "      <td>1002</td>\n",
       "      <td>10</td>\n",
       "      <td>59.0</td>\n",
       "      <td>15.0</td>\n",
       "      <td>7.0</td>\n",
       "      <td>7168.0</td>\n",
       "      <td>surf</td>\n",
       "      <td>50</td>\n",
       "      <td>15360</td>\n",
       "      <td>500</td>\n",
       "      <td>20</td>\n",
       "      <td>10</td>\n",
       "      <td>0.03</td>\n",
       "      <td>0.03</td>\n",
       "      <td>441.0</td>\n",
       "      <td>35.0</td>\n",
       "      <td>8192.0</td>\n",
       "      <td>0.00</td>\n",
       "      <td>0.00</td>\n",
       "      <td>0.0</td>\n",
       "    </tr>\n",
       "    <tr>\n",
       "      <th>7</th>\n",
       "      <td>1002</td>\n",
       "      <td>11</td>\n",
       "      <td>386.0</td>\n",
       "      <td>32.0</td>\n",
       "      <td>19.0</td>\n",
       "      <td>19456.0</td>\n",
       "      <td>surf</td>\n",
       "      <td>50</td>\n",
       "      <td>15360</td>\n",
       "      <td>500</td>\n",
       "      <td>20</td>\n",
       "      <td>10</td>\n",
       "      <td>0.03</td>\n",
       "      <td>0.03</td>\n",
       "      <td>114.0</td>\n",
       "      <td>18.0</td>\n",
       "      <td>-4096.0</td>\n",
       "      <td>0.00</td>\n",
       "      <td>0.00</td>\n",
       "      <td>40.0</td>\n",
       "    </tr>\n",
       "    <tr>\n",
       "      <th>8</th>\n",
       "      <td>1002</td>\n",
       "      <td>12</td>\n",
       "      <td>384.0</td>\n",
       "      <td>41.0</td>\n",
       "      <td>15.0</td>\n",
       "      <td>15360.0</td>\n",
       "      <td>surf</td>\n",
       "      <td>50</td>\n",
       "      <td>15360</td>\n",
       "      <td>500</td>\n",
       "      <td>20</td>\n",
       "      <td>10</td>\n",
       "      <td>0.03</td>\n",
       "      <td>0.03</td>\n",
       "      <td>116.0</td>\n",
       "      <td>9.0</td>\n",
       "      <td>0.0</td>\n",
       "      <td>0.00</td>\n",
       "      <td>0.00</td>\n",
       "      <td>0.0</td>\n",
       "    </tr>\n",
       "    <tr>\n",
       "      <th>9</th>\n",
       "      <td>1003</td>\n",
       "      <td>12</td>\n",
       "      <td>1104.0</td>\n",
       "      <td>50.0</td>\n",
       "      <td>27.0</td>\n",
       "      <td>27648.0</td>\n",
       "      <td>surf</td>\n",
       "      <td>50</td>\n",
       "      <td>15360</td>\n",
       "      <td>500</td>\n",
       "      <td>20</td>\n",
       "      <td>10</td>\n",
       "      <td>0.03</td>\n",
       "      <td>0.03</td>\n",
       "      <td>-604.0</td>\n",
       "      <td>0.0</td>\n",
       "      <td>-12288.0</td>\n",
       "      <td>18.12</td>\n",
       "      <td>0.00</td>\n",
       "      <td>120.0</td>\n",
       "    </tr>\n",
       "  </tbody>\n",
       "</table>\n",
       "</div>"
      ],
      "text/plain": [
       "  user_id month  total_calls_duration  total_messages  total_gb_used  \\\n",
       "0    1000    12                 124.0            11.0            2.0   \n",
       "1    1001     8                 182.0            30.0            7.0   \n",
       "2    1001     9                 315.0            44.0           14.0   \n",
       "3    1001    10                 393.0            53.0           22.0   \n",
       "4    1001    11                 426.0            36.0           19.0   \n",
       "5    1001    12                 412.0            44.0           19.0   \n",
       "6    1002    10                  59.0            15.0            7.0   \n",
       "7    1002    11                 386.0            32.0           19.0   \n",
       "8    1002    12                 384.0            41.0           15.0   \n",
       "9    1003    12                1104.0            50.0           27.0   \n",
       "\n",
       "   total_round_mb_used      plan  messages_included  mb_per_month_included  \\\n",
       "0               2048.0  ultimate               1000                  30720   \n",
       "1               7168.0      surf                 50                  15360   \n",
       "2              14336.0      surf                 50                  15360   \n",
       "3              22528.0      surf                 50                  15360   \n",
       "4              19456.0      surf                 50                  15360   \n",
       "5              19456.0      surf                 50                  15360   \n",
       "6               7168.0      surf                 50                  15360   \n",
       "7              19456.0      surf                 50                  15360   \n",
       "8              15360.0      surf                 50                  15360   \n",
       "9              27648.0      surf                 50                  15360   \n",
       "\n",
       "   minutes_included  usd_monthly_pay  usd_per_gb  usd_per_message  \\\n",
       "0              3000               70           7             0.01   \n",
       "1               500               20          10             0.03   \n",
       "2               500               20          10             0.03   \n",
       "3               500               20          10             0.03   \n",
       "4               500               20          10             0.03   \n",
       "5               500               20          10             0.03   \n",
       "6               500               20          10             0.03   \n",
       "7               500               20          10             0.03   \n",
       "8               500               20          10             0.03   \n",
       "9               500               20          10             0.03   \n",
       "\n",
       "   usd_per_minute  final_calls_duration  final_messages  final_mb  \\\n",
       "0            0.01                2876.0           989.0   28672.0   \n",
       "1            0.03                 318.0            20.0    8192.0   \n",
       "2            0.03                 185.0             6.0    1024.0   \n",
       "3            0.03                 107.0            -3.0   -7168.0   \n",
       "4            0.03                  74.0            14.0   -4096.0   \n",
       "5            0.03                  88.0             6.0   -4096.0   \n",
       "6            0.03                 441.0            35.0    8192.0   \n",
       "7            0.03                 114.0            18.0   -4096.0   \n",
       "8            0.03                 116.0             9.0       0.0   \n",
       "9            0.03                -604.0             0.0  -12288.0   \n",
       "\n",
       "   extra_usd_calls  extra_usd_messages  extra_usd_gb  \n",
       "0             0.00                0.00           0.0  \n",
       "1             0.00                0.00           0.0  \n",
       "2             0.00                0.00           0.0  \n",
       "3             0.00                0.09          70.0  \n",
       "4             0.00                0.00          40.0  \n",
       "5             0.00                0.00          40.0  \n",
       "6             0.00                0.00           0.0  \n",
       "7             0.00                0.00          40.0  \n",
       "8             0.00                0.00           0.0  \n",
       "9            18.12                0.00         120.0  "
      ]
     },
     "execution_count": 108,
     "metadata": {},
     "output_type": "execute_result"
    }
   ],
   "source": [
    "# revisión datos\n",
    "data_final.head(10)"
   ]
  },
  {
   "cell_type": "markdown",
   "metadata": {},
   "source": [
    "Ahora que tenemos ya el cobro extra por usuario en cada mes, se sumará el total de estas tres nuevas columnas, más el cargo mensual según el plan, para esto aplicamos la siguiente función según el plan: "
   ]
  },
  {
   "cell_type": "code",
   "execution_count": 109,
   "metadata": {},
   "outputs": [],
   "source": [
    "# función cobro mensual según plan y cobro extra\n",
    "def monthly_income(row):\n",
    "    plan = row[\"plan\"]\n",
    "    usd_monthly_pay = row[\"usd_monthly_pay\"]\n",
    "    extra_usd_calls = row[\"extra_usd_calls\"]\n",
    "    extra_usd_messages = row[\"extra_usd_messages\"]\n",
    "    extra_usd_gb = row[\"extra_usd_gb\"]\n",
    "    \n",
    "    total_plan = usd_monthly_pay + extra_usd_calls + extra_usd_messages + extra_usd_gb\n",
    "    return total_plan"
   ]
  },
  {
   "cell_type": "code",
   "execution_count": 110,
   "metadata": {},
   "outputs": [],
   "source": [
    "# aplicación de función\n",
    "data_final[\"monthly_income\"] = data_final.apply(monthly_income, axis=1)"
   ]
  },
  {
   "cell_type": "code",
   "execution_count": 111,
   "metadata": {},
   "outputs": [
    {
     "data": {
      "text/html": [
       "<div>\n",
       "<style scoped>\n",
       "    .dataframe tbody tr th:only-of-type {\n",
       "        vertical-align: middle;\n",
       "    }\n",
       "\n",
       "    .dataframe tbody tr th {\n",
       "        vertical-align: top;\n",
       "    }\n",
       "\n",
       "    .dataframe thead th {\n",
       "        text-align: right;\n",
       "    }\n",
       "</style>\n",
       "<table border=\"1\" class=\"dataframe\">\n",
       "  <thead>\n",
       "    <tr style=\"text-align: right;\">\n",
       "      <th></th>\n",
       "      <th>user_id</th>\n",
       "      <th>month</th>\n",
       "      <th>total_calls_duration</th>\n",
       "      <th>total_messages</th>\n",
       "      <th>total_gb_used</th>\n",
       "      <th>total_round_mb_used</th>\n",
       "      <th>plan</th>\n",
       "      <th>messages_included</th>\n",
       "      <th>mb_per_month_included</th>\n",
       "      <th>minutes_included</th>\n",
       "      <th>...</th>\n",
       "      <th>usd_per_gb</th>\n",
       "      <th>usd_per_message</th>\n",
       "      <th>usd_per_minute</th>\n",
       "      <th>final_calls_duration</th>\n",
       "      <th>final_messages</th>\n",
       "      <th>final_mb</th>\n",
       "      <th>extra_usd_calls</th>\n",
       "      <th>extra_usd_messages</th>\n",
       "      <th>extra_usd_gb</th>\n",
       "      <th>monthly_income</th>\n",
       "    </tr>\n",
       "  </thead>\n",
       "  <tbody>\n",
       "    <tr>\n",
       "      <th>0</th>\n",
       "      <td>1000</td>\n",
       "      <td>12</td>\n",
       "      <td>124.0</td>\n",
       "      <td>11.0</td>\n",
       "      <td>2.0</td>\n",
       "      <td>2048.0</td>\n",
       "      <td>ultimate</td>\n",
       "      <td>1000</td>\n",
       "      <td>30720</td>\n",
       "      <td>3000</td>\n",
       "      <td>...</td>\n",
       "      <td>7</td>\n",
       "      <td>0.01</td>\n",
       "      <td>0.01</td>\n",
       "      <td>2876.0</td>\n",
       "      <td>989.0</td>\n",
       "      <td>28672.0</td>\n",
       "      <td>0.00</td>\n",
       "      <td>0.00</td>\n",
       "      <td>0.0</td>\n",
       "      <td>70.00</td>\n",
       "    </tr>\n",
       "    <tr>\n",
       "      <th>1</th>\n",
       "      <td>1001</td>\n",
       "      <td>8</td>\n",
       "      <td>182.0</td>\n",
       "      <td>30.0</td>\n",
       "      <td>7.0</td>\n",
       "      <td>7168.0</td>\n",
       "      <td>surf</td>\n",
       "      <td>50</td>\n",
       "      <td>15360</td>\n",
       "      <td>500</td>\n",
       "      <td>...</td>\n",
       "      <td>10</td>\n",
       "      <td>0.03</td>\n",
       "      <td>0.03</td>\n",
       "      <td>318.0</td>\n",
       "      <td>20.0</td>\n",
       "      <td>8192.0</td>\n",
       "      <td>0.00</td>\n",
       "      <td>0.00</td>\n",
       "      <td>0.0</td>\n",
       "      <td>20.00</td>\n",
       "    </tr>\n",
       "    <tr>\n",
       "      <th>2</th>\n",
       "      <td>1001</td>\n",
       "      <td>9</td>\n",
       "      <td>315.0</td>\n",
       "      <td>44.0</td>\n",
       "      <td>14.0</td>\n",
       "      <td>14336.0</td>\n",
       "      <td>surf</td>\n",
       "      <td>50</td>\n",
       "      <td>15360</td>\n",
       "      <td>500</td>\n",
       "      <td>...</td>\n",
       "      <td>10</td>\n",
       "      <td>0.03</td>\n",
       "      <td>0.03</td>\n",
       "      <td>185.0</td>\n",
       "      <td>6.0</td>\n",
       "      <td>1024.0</td>\n",
       "      <td>0.00</td>\n",
       "      <td>0.00</td>\n",
       "      <td>0.0</td>\n",
       "      <td>20.00</td>\n",
       "    </tr>\n",
       "    <tr>\n",
       "      <th>3</th>\n",
       "      <td>1001</td>\n",
       "      <td>10</td>\n",
       "      <td>393.0</td>\n",
       "      <td>53.0</td>\n",
       "      <td>22.0</td>\n",
       "      <td>22528.0</td>\n",
       "      <td>surf</td>\n",
       "      <td>50</td>\n",
       "      <td>15360</td>\n",
       "      <td>500</td>\n",
       "      <td>...</td>\n",
       "      <td>10</td>\n",
       "      <td>0.03</td>\n",
       "      <td>0.03</td>\n",
       "      <td>107.0</td>\n",
       "      <td>-3.0</td>\n",
       "      <td>-7168.0</td>\n",
       "      <td>0.00</td>\n",
       "      <td>0.09</td>\n",
       "      <td>70.0</td>\n",
       "      <td>90.09</td>\n",
       "    </tr>\n",
       "    <tr>\n",
       "      <th>4</th>\n",
       "      <td>1001</td>\n",
       "      <td>11</td>\n",
       "      <td>426.0</td>\n",
       "      <td>36.0</td>\n",
       "      <td>19.0</td>\n",
       "      <td>19456.0</td>\n",
       "      <td>surf</td>\n",
       "      <td>50</td>\n",
       "      <td>15360</td>\n",
       "      <td>500</td>\n",
       "      <td>...</td>\n",
       "      <td>10</td>\n",
       "      <td>0.03</td>\n",
       "      <td>0.03</td>\n",
       "      <td>74.0</td>\n",
       "      <td>14.0</td>\n",
       "      <td>-4096.0</td>\n",
       "      <td>0.00</td>\n",
       "      <td>0.00</td>\n",
       "      <td>40.0</td>\n",
       "      <td>60.00</td>\n",
       "    </tr>\n",
       "    <tr>\n",
       "      <th>5</th>\n",
       "      <td>1001</td>\n",
       "      <td>12</td>\n",
       "      <td>412.0</td>\n",
       "      <td>44.0</td>\n",
       "      <td>19.0</td>\n",
       "      <td>19456.0</td>\n",
       "      <td>surf</td>\n",
       "      <td>50</td>\n",
       "      <td>15360</td>\n",
       "      <td>500</td>\n",
       "      <td>...</td>\n",
       "      <td>10</td>\n",
       "      <td>0.03</td>\n",
       "      <td>0.03</td>\n",
       "      <td>88.0</td>\n",
       "      <td>6.0</td>\n",
       "      <td>-4096.0</td>\n",
       "      <td>0.00</td>\n",
       "      <td>0.00</td>\n",
       "      <td>40.0</td>\n",
       "      <td>60.00</td>\n",
       "    </tr>\n",
       "    <tr>\n",
       "      <th>6</th>\n",
       "      <td>1002</td>\n",
       "      <td>10</td>\n",
       "      <td>59.0</td>\n",
       "      <td>15.0</td>\n",
       "      <td>7.0</td>\n",
       "      <td>7168.0</td>\n",
       "      <td>surf</td>\n",
       "      <td>50</td>\n",
       "      <td>15360</td>\n",
       "      <td>500</td>\n",
       "      <td>...</td>\n",
       "      <td>10</td>\n",
       "      <td>0.03</td>\n",
       "      <td>0.03</td>\n",
       "      <td>441.0</td>\n",
       "      <td>35.0</td>\n",
       "      <td>8192.0</td>\n",
       "      <td>0.00</td>\n",
       "      <td>0.00</td>\n",
       "      <td>0.0</td>\n",
       "      <td>20.00</td>\n",
       "    </tr>\n",
       "    <tr>\n",
       "      <th>7</th>\n",
       "      <td>1002</td>\n",
       "      <td>11</td>\n",
       "      <td>386.0</td>\n",
       "      <td>32.0</td>\n",
       "      <td>19.0</td>\n",
       "      <td>19456.0</td>\n",
       "      <td>surf</td>\n",
       "      <td>50</td>\n",
       "      <td>15360</td>\n",
       "      <td>500</td>\n",
       "      <td>...</td>\n",
       "      <td>10</td>\n",
       "      <td>0.03</td>\n",
       "      <td>0.03</td>\n",
       "      <td>114.0</td>\n",
       "      <td>18.0</td>\n",
       "      <td>-4096.0</td>\n",
       "      <td>0.00</td>\n",
       "      <td>0.00</td>\n",
       "      <td>40.0</td>\n",
       "      <td>60.00</td>\n",
       "    </tr>\n",
       "    <tr>\n",
       "      <th>8</th>\n",
       "      <td>1002</td>\n",
       "      <td>12</td>\n",
       "      <td>384.0</td>\n",
       "      <td>41.0</td>\n",
       "      <td>15.0</td>\n",
       "      <td>15360.0</td>\n",
       "      <td>surf</td>\n",
       "      <td>50</td>\n",
       "      <td>15360</td>\n",
       "      <td>500</td>\n",
       "      <td>...</td>\n",
       "      <td>10</td>\n",
       "      <td>0.03</td>\n",
       "      <td>0.03</td>\n",
       "      <td>116.0</td>\n",
       "      <td>9.0</td>\n",
       "      <td>0.0</td>\n",
       "      <td>0.00</td>\n",
       "      <td>0.00</td>\n",
       "      <td>0.0</td>\n",
       "      <td>20.00</td>\n",
       "    </tr>\n",
       "    <tr>\n",
       "      <th>9</th>\n",
       "      <td>1003</td>\n",
       "      <td>12</td>\n",
       "      <td>1104.0</td>\n",
       "      <td>50.0</td>\n",
       "      <td>27.0</td>\n",
       "      <td>27648.0</td>\n",
       "      <td>surf</td>\n",
       "      <td>50</td>\n",
       "      <td>15360</td>\n",
       "      <td>500</td>\n",
       "      <td>...</td>\n",
       "      <td>10</td>\n",
       "      <td>0.03</td>\n",
       "      <td>0.03</td>\n",
       "      <td>-604.0</td>\n",
       "      <td>0.0</td>\n",
       "      <td>-12288.0</td>\n",
       "      <td>18.12</td>\n",
       "      <td>0.00</td>\n",
       "      <td>120.0</td>\n",
       "      <td>158.12</td>\n",
       "    </tr>\n",
       "  </tbody>\n",
       "</table>\n",
       "<p>10 rows × 21 columns</p>\n",
       "</div>"
      ],
      "text/plain": [
       "  user_id month  total_calls_duration  total_messages  total_gb_used  \\\n",
       "0    1000    12                 124.0            11.0            2.0   \n",
       "1    1001     8                 182.0            30.0            7.0   \n",
       "2    1001     9                 315.0            44.0           14.0   \n",
       "3    1001    10                 393.0            53.0           22.0   \n",
       "4    1001    11                 426.0            36.0           19.0   \n",
       "5    1001    12                 412.0            44.0           19.0   \n",
       "6    1002    10                  59.0            15.0            7.0   \n",
       "7    1002    11                 386.0            32.0           19.0   \n",
       "8    1002    12                 384.0            41.0           15.0   \n",
       "9    1003    12                1104.0            50.0           27.0   \n",
       "\n",
       "   total_round_mb_used      plan  messages_included  mb_per_month_included  \\\n",
       "0               2048.0  ultimate               1000                  30720   \n",
       "1               7168.0      surf                 50                  15360   \n",
       "2              14336.0      surf                 50                  15360   \n",
       "3              22528.0      surf                 50                  15360   \n",
       "4              19456.0      surf                 50                  15360   \n",
       "5              19456.0      surf                 50                  15360   \n",
       "6               7168.0      surf                 50                  15360   \n",
       "7              19456.0      surf                 50                  15360   \n",
       "8              15360.0      surf                 50                  15360   \n",
       "9              27648.0      surf                 50                  15360   \n",
       "\n",
       "   minutes_included  ...  usd_per_gb  usd_per_message  usd_per_minute  \\\n",
       "0              3000  ...           7             0.01            0.01   \n",
       "1               500  ...          10             0.03            0.03   \n",
       "2               500  ...          10             0.03            0.03   \n",
       "3               500  ...          10             0.03            0.03   \n",
       "4               500  ...          10             0.03            0.03   \n",
       "5               500  ...          10             0.03            0.03   \n",
       "6               500  ...          10             0.03            0.03   \n",
       "7               500  ...          10             0.03            0.03   \n",
       "8               500  ...          10             0.03            0.03   \n",
       "9               500  ...          10             0.03            0.03   \n",
       "\n",
       "   final_calls_duration  final_messages  final_mb  extra_usd_calls  \\\n",
       "0                2876.0           989.0   28672.0             0.00   \n",
       "1                 318.0            20.0    8192.0             0.00   \n",
       "2                 185.0             6.0    1024.0             0.00   \n",
       "3                 107.0            -3.0   -7168.0             0.00   \n",
       "4                  74.0            14.0   -4096.0             0.00   \n",
       "5                  88.0             6.0   -4096.0             0.00   \n",
       "6                 441.0            35.0    8192.0             0.00   \n",
       "7                 114.0            18.0   -4096.0             0.00   \n",
       "8                 116.0             9.0       0.0             0.00   \n",
       "9                -604.0             0.0  -12288.0            18.12   \n",
       "\n",
       "   extra_usd_messages  extra_usd_gb  monthly_income  \n",
       "0                0.00           0.0           70.00  \n",
       "1                0.00           0.0           20.00  \n",
       "2                0.00           0.0           20.00  \n",
       "3                0.09          70.0           90.09  \n",
       "4                0.00          40.0           60.00  \n",
       "5                0.00          40.0           60.00  \n",
       "6                0.00           0.0           20.00  \n",
       "7                0.00          40.0           60.00  \n",
       "8                0.00           0.0           20.00  \n",
       "9                0.00         120.0          158.12  \n",
       "\n",
       "[10 rows x 21 columns]"
      ]
     },
     "execution_count": 111,
     "metadata": {},
     "output_type": "execute_result"
    }
   ],
   "source": [
    "# revisión datos\n",
    "data_final.head(10)"
   ]
  },
  {
   "cell_type": "markdown",
   "metadata": {},
   "source": [
    "Vemos que está todo correcto, por lo que aquí podemos ver un resumen de la información de arriba:"
   ]
  },
  {
   "cell_type": "code",
   "execution_count": 112,
   "metadata": {},
   "outputs": [
    {
     "data": {
      "text/html": [
       "<div>\n",
       "<style scoped>\n",
       "    .dataframe tbody tr th:only-of-type {\n",
       "        vertical-align: middle;\n",
       "    }\n",
       "\n",
       "    .dataframe tbody tr th {\n",
       "        vertical-align: top;\n",
       "    }\n",
       "\n",
       "    .dataframe thead th {\n",
       "        text-align: right;\n",
       "    }\n",
       "</style>\n",
       "<table border=\"1\" class=\"dataframe\">\n",
       "  <thead>\n",
       "    <tr style=\"text-align: right;\">\n",
       "      <th></th>\n",
       "      <th>user_id</th>\n",
       "      <th>month</th>\n",
       "      <th>plan</th>\n",
       "      <th>monthly_income</th>\n",
       "    </tr>\n",
       "  </thead>\n",
       "  <tbody>\n",
       "    <tr>\n",
       "      <th>0</th>\n",
       "      <td>1000</td>\n",
       "      <td>12</td>\n",
       "      <td>ultimate</td>\n",
       "      <td>70.00</td>\n",
       "    </tr>\n",
       "    <tr>\n",
       "      <th>1</th>\n",
       "      <td>1001</td>\n",
       "      <td>8</td>\n",
       "      <td>surf</td>\n",
       "      <td>20.00</td>\n",
       "    </tr>\n",
       "    <tr>\n",
       "      <th>2</th>\n",
       "      <td>1001</td>\n",
       "      <td>9</td>\n",
       "      <td>surf</td>\n",
       "      <td>20.00</td>\n",
       "    </tr>\n",
       "    <tr>\n",
       "      <th>3</th>\n",
       "      <td>1001</td>\n",
       "      <td>10</td>\n",
       "      <td>surf</td>\n",
       "      <td>90.09</td>\n",
       "    </tr>\n",
       "    <tr>\n",
       "      <th>4</th>\n",
       "      <td>1001</td>\n",
       "      <td>11</td>\n",
       "      <td>surf</td>\n",
       "      <td>60.00</td>\n",
       "    </tr>\n",
       "    <tr>\n",
       "      <th>5</th>\n",
       "      <td>1001</td>\n",
       "      <td>12</td>\n",
       "      <td>surf</td>\n",
       "      <td>60.00</td>\n",
       "    </tr>\n",
       "    <tr>\n",
       "      <th>6</th>\n",
       "      <td>1002</td>\n",
       "      <td>10</td>\n",
       "      <td>surf</td>\n",
       "      <td>20.00</td>\n",
       "    </tr>\n",
       "    <tr>\n",
       "      <th>7</th>\n",
       "      <td>1002</td>\n",
       "      <td>11</td>\n",
       "      <td>surf</td>\n",
       "      <td>60.00</td>\n",
       "    </tr>\n",
       "    <tr>\n",
       "      <th>8</th>\n",
       "      <td>1002</td>\n",
       "      <td>12</td>\n",
       "      <td>surf</td>\n",
       "      <td>20.00</td>\n",
       "    </tr>\n",
       "    <tr>\n",
       "      <th>9</th>\n",
       "      <td>1003</td>\n",
       "      <td>12</td>\n",
       "      <td>surf</td>\n",
       "      <td>158.12</td>\n",
       "    </tr>\n",
       "  </tbody>\n",
       "</table>\n",
       "</div>"
      ],
      "text/plain": [
       "  user_id month      plan  monthly_income\n",
       "0    1000    12  ultimate           70.00\n",
       "1    1001     8      surf           20.00\n",
       "2    1001     9      surf           20.00\n",
       "3    1001    10      surf           90.09\n",
       "4    1001    11      surf           60.00\n",
       "5    1001    12      surf           60.00\n",
       "6    1002    10      surf           20.00\n",
       "7    1002    11      surf           60.00\n",
       "8    1002    12      surf           20.00\n",
       "9    1003    12      surf          158.12"
      ]
     },
     "execution_count": 112,
     "metadata": {},
     "output_type": "execute_result"
    }
   ],
   "source": [
    "# cuadro resumido\n",
    "monthly_income_per_user = data_final[[\"user_id\", \"month\", \"plan\", \"monthly_income\"]]\n",
    "monthly_income_per_user.head(10)"
   ]
  },
  {
   "cell_type": "markdown",
   "metadata": {},
   "source": [
    "Ahora verifiquemos cuánto es el ingreso mensual por plan para Megaline en el año 2018:"
   ]
  },
  {
   "cell_type": "code",
   "execution_count": 113,
   "metadata": {},
   "outputs": [],
   "source": [
    "# copia\n",
    "monthly_income_per_user = monthly_income_per_user.copy()\n",
    "# cambio a int\n",
    "monthly_income_per_user[\"month\"] = monthly_income_per_user[\"month\"].astype(\"int\")"
   ]
  },
  {
   "cell_type": "code",
   "execution_count": 114,
   "metadata": {},
   "outputs": [
    {
     "data": {
      "text/html": [
       "<div>\n",
       "<style scoped>\n",
       "    .dataframe tbody tr th:only-of-type {\n",
       "        vertical-align: middle;\n",
       "    }\n",
       "\n",
       "    .dataframe tbody tr th {\n",
       "        vertical-align: top;\n",
       "    }\n",
       "\n",
       "    .dataframe thead th {\n",
       "        text-align: right;\n",
       "    }\n",
       "</style>\n",
       "<table border=\"1\" class=\"dataframe\">\n",
       "  <thead>\n",
       "    <tr style=\"text-align: right;\">\n",
       "      <th>plan</th>\n",
       "      <th>surf</th>\n",
       "      <th>ultimate</th>\n",
       "    </tr>\n",
       "    <tr>\n",
       "      <th>month</th>\n",
       "      <th></th>\n",
       "      <th></th>\n",
       "    </tr>\n",
       "  </thead>\n",
       "  <tbody>\n",
       "    <tr>\n",
       "      <th>1</th>\n",
       "      <td>40.00</td>\n",
       "      <td>280.0</td>\n",
       "    </tr>\n",
       "    <tr>\n",
       "      <th>2</th>\n",
       "      <td>309.57</td>\n",
       "      <td>490.0</td>\n",
       "    </tr>\n",
       "    <tr>\n",
       "      <th>3</th>\n",
       "      <td>1056.65</td>\n",
       "      <td>896.0</td>\n",
       "    </tr>\n",
       "    <tr>\n",
       "      <th>4</th>\n",
       "      <td>2035.53</td>\n",
       "      <td>1533.0</td>\n",
       "    </tr>\n",
       "    <tr>\n",
       "      <th>5</th>\n",
       "      <td>3667.37</td>\n",
       "      <td>2051.0</td>\n",
       "    </tr>\n",
       "    <tr>\n",
       "      <th>6</th>\n",
       "      <td>4779.80</td>\n",
       "      <td>3367.0</td>\n",
       "    </tr>\n",
       "    <tr>\n",
       "      <th>7</th>\n",
       "      <td>7583.56</td>\n",
       "      <td>4242.0</td>\n",
       "    </tr>\n",
       "    <tr>\n",
       "      <th>8</th>\n",
       "      <td>10356.85</td>\n",
       "      <td>5173.0</td>\n",
       "    </tr>\n",
       "    <tr>\n",
       "      <th>9</th>\n",
       "      <td>11304.67</td>\n",
       "      <td>6195.0</td>\n",
       "    </tr>\n",
       "    <tr>\n",
       "      <th>10</th>\n",
       "      <td>15504.83</td>\n",
       "      <td>7665.0</td>\n",
       "    </tr>\n",
       "    <tr>\n",
       "      <th>11</th>\n",
       "      <td>16415.21</td>\n",
       "      <td>9107.0</td>\n",
       "    </tr>\n",
       "    <tr>\n",
       "      <th>12</th>\n",
       "      <td>22437.14</td>\n",
       "      <td>11067.0</td>\n",
       "    </tr>\n",
       "  </tbody>\n",
       "</table>\n",
       "</div>"
      ],
      "text/plain": [
       "plan       surf  ultimate\n",
       "month                    \n",
       "1         40.00     280.0\n",
       "2        309.57     490.0\n",
       "3       1056.65     896.0\n",
       "4       2035.53    1533.0\n",
       "5       3667.37    2051.0\n",
       "6       4779.80    3367.0\n",
       "7       7583.56    4242.0\n",
       "8      10356.85    5173.0\n",
       "9      11304.67    6195.0\n",
       "10     15504.83    7665.0\n",
       "11     16415.21    9107.0\n",
       "12     22437.14   11067.0"
      ]
     },
     "execution_count": 114,
     "metadata": {},
     "output_type": "execute_result"
    }
   ],
   "source": [
    "# pivot_table del income total por mes según plan \n",
    "table_income = pd.pivot_table(monthly_income_per_user, \n",
    "                              values = \"monthly_income\", \n",
    "                              index = \"month\", \n",
    "                              columns = \"plan\", \n",
    "                              aggfunc = \"sum\")\n",
    "table_income"
   ]
  },
  {
   "cell_type": "code",
   "execution_count": 115,
   "metadata": {},
   "outputs": [],
   "source": [
    "# resetear índice\n",
    "table_income = table_income.reset_index()"
   ]
  },
  {
   "cell_type": "code",
   "execution_count": 116,
   "metadata": {},
   "outputs": [
    {
     "data": {
      "text/plain": [
       "<matplotlib.legend.Legend at 0x7fd8fcdf74f0>"
      ]
     },
     "execution_count": 116,
     "metadata": {},
     "output_type": "execute_result"
    },
    {
     "data": {
      "image/png": "[encoded data removed]",
      "text/plain": [
       "<Figure size 1080x576 with 1 Axes>"
      ]
     },
     "metadata": {},
     "output_type": "display_data"
    }
   ],
   "source": [
    "# scatter plot de total_calls_duration\n",
    "first_plot_income = table_income.plot(x = \"month\", \n",
    "                                      y = \"surf\", \n",
    "                                      kind = \"scatter\", \n",
    "                                      title=\"Total income plan per month\", \n",
    "                                      color=\"red\")\n",
    "\n",
    "table_income.plot(x = \"month\", \n",
    "                  y = \"ultimate\", \n",
    "                  kind = \"scatter\",\n",
    "                  color = \"green\", \n",
    "                  ax=first_plot_income)\n",
    "\n",
    "plt.legend([\"surf\", \"ultimate\"])"
   ]
  },
  {
   "cell_type": "markdown",
   "metadata": {},
   "source": [
    "Con este gráfico observamos claramente que surf es el plan que más ingresos genera a Megaline de forma mensual. Hay que tomar en cuenta que en los primeros meses, por la poca cantidad de clientes, los ingresos no varían mucho entre planes, pero a partir del mes 5, ya Surf crece más gradualmente, en comparación con ultimate. \n",
    "\n",
    "Sobretodo en el último mes del 2018 (diciembre), surf generó más de `$`11.000 que ultimate. \n",
    "\n",
    "De un inicio, se podría concluir que Surf genera más ingreso que Ultimate, y esto tiene sentido, ya que la cantidad de minutos de llamadas, mensajes y datos que ofrecen en su plan es la base general que al parecer consumen como mínimo los clientes que menos utilizan los servicios. "
   ]
  },
  {
   "cell_type": "markdown",
   "metadata": {},
   "source": [
    "## Analizar los datos"
   ]
  },
  {
   "cell_type": "markdown",
   "metadata": {},
   "source": [
    "### Comportamiento de los clientes (gráfico de dispersión)"
   ]
  },
  {
   "cell_type": "markdown",
   "metadata": {},
   "source": [
    "Primero vamos a analizar la cantidad de minutos, SMS y volumen de datos que requieren los usuarios de cada tarifa por mes. Para esto, se obtendrá la media mensual según la tarifa, por minutos de llamadas, SMS y volumen de datos."
   ]
  },
  {
   "cell_type": "markdown",
   "metadata": {},
   "source": [
    "Se inicia filtrando los datos que nos interesan de la variable `data_final` y la separación de los planes:"
   ]
  },
  {
   "cell_type": "code",
   "execution_count": 117,
   "metadata": {},
   "outputs": [],
   "source": [
    "# filtrar columnas\n",
    "minutes_sms_mb_month = data_final[[\"user_id\", \"month\", \"total_calls_duration\", \"total_messages\", \"total_gb_used\", \"plan\"]]\n",
    "# copia\n",
    "minutes_sms_mb_month = minutes_sms_mb_month.copy()\n",
    "# cambio a int\n",
    "minutes_sms_mb_month[\"month\"] = minutes_sms_mb_month[\"month\"].astype(\"int\")\n",
    "# separación por plan (surf y ultimate)\n",
    "minutes_sms_mb_month_surf = minutes_sms_mb_month.query(\"plan == 'surf'\")\n",
    "minutes_sms_mb_month_ultimate = minutes_sms_mb_month.query(\"plan == 'ultimate'\")"
   ]
  },
  {
   "cell_type": "markdown",
   "metadata": {},
   "source": [
    "Primero verificamos cuántos usuarios hay por plan en cada mes realizando un pivot_table:"
   ]
  },
  {
   "cell_type": "code",
   "execution_count": 118,
   "metadata": {},
   "outputs": [
    {
     "data": {
      "text/html": [
       "<div>\n",
       "<style scoped>\n",
       "    .dataframe tbody tr th:only-of-type {\n",
       "        vertical-align: middle;\n",
       "    }\n",
       "\n",
       "    .dataframe tbody tr th {\n",
       "        vertical-align: top;\n",
       "    }\n",
       "\n",
       "    .dataframe thead th {\n",
       "        text-align: right;\n",
       "    }\n",
       "</style>\n",
       "<table border=\"1\" class=\"dataframe\">\n",
       "  <thead>\n",
       "    <tr style=\"text-align: right;\">\n",
       "      <th>plan</th>\n",
       "      <th>surf</th>\n",
       "      <th>ultimate</th>\n",
       "    </tr>\n",
       "    <tr>\n",
       "      <th>month</th>\n",
       "      <th></th>\n",
       "      <th></th>\n",
       "    </tr>\n",
       "  </thead>\n",
       "  <tbody>\n",
       "    <tr>\n",
       "      <th>1</th>\n",
       "      <td>2</td>\n",
       "      <td>4</td>\n",
       "    </tr>\n",
       "    <tr>\n",
       "      <th>2</th>\n",
       "      <td>9</td>\n",
       "      <td>7</td>\n",
       "    </tr>\n",
       "    <tr>\n",
       "      <th>3</th>\n",
       "      <td>23</td>\n",
       "      <td>12</td>\n",
       "    </tr>\n",
       "    <tr>\n",
       "      <th>4</th>\n",
       "      <td>50</td>\n",
       "      <td>21</td>\n",
       "    </tr>\n",
       "    <tr>\n",
       "      <th>5</th>\n",
       "      <td>77</td>\n",
       "      <td>29</td>\n",
       "    </tr>\n",
       "    <tr>\n",
       "      <th>6</th>\n",
       "      <td>97</td>\n",
       "      <td>47</td>\n",
       "    </tr>\n",
       "    <tr>\n",
       "      <th>7</th>\n",
       "      <td>121</td>\n",
       "      <td>59</td>\n",
       "    </tr>\n",
       "    <tr>\n",
       "      <th>8</th>\n",
       "      <td>162</td>\n",
       "      <td>71</td>\n",
       "    </tr>\n",
       "    <tr>\n",
       "      <th>9</th>\n",
       "      <td>194</td>\n",
       "      <td>86</td>\n",
       "    </tr>\n",
       "    <tr>\n",
       "      <th>10</th>\n",
       "      <td>237</td>\n",
       "      <td>106</td>\n",
       "    </tr>\n",
       "    <tr>\n",
       "      <th>11</th>\n",
       "      <td>283</td>\n",
       "      <td>127</td>\n",
       "    </tr>\n",
       "    <tr>\n",
       "      <th>12</th>\n",
       "      <td>318</td>\n",
       "      <td>151</td>\n",
       "    </tr>\n",
       "  </tbody>\n",
       "</table>\n",
       "</div>"
      ],
      "text/plain": [
       "plan   surf  ultimate\n",
       "month                \n",
       "1         2         4\n",
       "2         9         7\n",
       "3        23        12\n",
       "4        50        21\n",
       "5        77        29\n",
       "6        97        47\n",
       "7       121        59\n",
       "8       162        71\n",
       "9       194        86\n",
       "10      237       106\n",
       "11      283       127\n",
       "12      318       151"
      ]
     },
     "execution_count": 118,
     "metadata": {},
     "output_type": "execute_result"
    }
   ],
   "source": [
    "# pivot_table según usuario por plan\n",
    "users_month_per_plan = pd.pivot_table(minutes_sms_mb_month, \n",
    "                                      values = \"user_id\", \n",
    "                                      columns = \"plan\",\n",
    "                                      index = \"month\", \n",
    "                                      aggfunc = \"count\"\n",
    ")\n",
    "users_month_per_plan"
   ]
  },
  {
   "cell_type": "markdown",
   "metadata": {},
   "source": [
    "Se ha comprobado lo que se mencionó anteriormente, al inicio del año 2018, en los primeros meses hay pocos usuarios activos en cada plan. Conforme pasan los meses los usuarios crecen. Es por eso que hay más cantidad de llamadas, mensajes y datos usados al final en los últimos meses (octubre, noviembre y diciembre), siendo diciembre en todas las ocaciones como el mes que más llamadas, mensajes o datos usados se ha registrado.\n",
    "\n",
    "Hay que tomar en cuenta que hay más usuarios registrados en el plan surf, por lo que es probable que sea el plan que más ingresos genere en comparación al ultimate."
   ]
  },
  {
   "cell_type": "markdown",
   "metadata": {},
   "source": [
    "Ahora realizamos un pivot_table según el mes, obteniendo el promedio y mediana de los minutos de las llamadas realizadas, los mensajes consumidos y el volumen de datos en gb usados de todos los usuarios por plan."
   ]
  },
  {
   "cell_type": "code",
   "execution_count": 119,
   "metadata": {},
   "outputs": [
    {
     "data": {
      "text/html": [
       "<div>\n",
       "<style scoped>\n",
       "    .dataframe tbody tr th:only-of-type {\n",
       "        vertical-align: middle;\n",
       "    }\n",
       "\n",
       "    .dataframe tbody tr th {\n",
       "        vertical-align: top;\n",
       "    }\n",
       "\n",
       "    .dataframe thead th {\n",
       "        text-align: right;\n",
       "    }\n",
       "</style>\n",
       "<table border=\"1\" class=\"dataframe\">\n",
       "  <thead>\n",
       "    <tr style=\"text-align: right;\">\n",
       "      <th></th>\n",
       "      <th>total_calls_duration</th>\n",
       "      <th>total_gb_used</th>\n",
       "      <th>total_messages</th>\n",
       "    </tr>\n",
       "    <tr>\n",
       "      <th>month</th>\n",
       "      <th></th>\n",
       "      <th></th>\n",
       "      <th></th>\n",
       "    </tr>\n",
       "  </thead>\n",
       "  <tbody>\n",
       "    <tr>\n",
       "      <th>1</th>\n",
       "      <td>203.000000</td>\n",
       "      <td>5.000000</td>\n",
       "      <td>10.500000</td>\n",
       "    </tr>\n",
       "    <tr>\n",
       "      <th>2</th>\n",
       "      <td>297.000000</td>\n",
       "      <td>12.222222</td>\n",
       "      <td>12.000000</td>\n",
       "    </tr>\n",
       "    <tr>\n",
       "      <th>3</th>\n",
       "      <td>330.000000</td>\n",
       "      <td>13.565217</td>\n",
       "      <td>15.260870</td>\n",
       "    </tr>\n",
       "    <tr>\n",
       "      <th>4</th>\n",
       "      <td>351.540000</td>\n",
       "      <td>12.220000</td>\n",
       "      <td>17.400000</td>\n",
       "    </tr>\n",
       "    <tr>\n",
       "      <th>5</th>\n",
       "      <td>399.584416</td>\n",
       "      <td>14.116883</td>\n",
       "      <td>24.012987</td>\n",
       "    </tr>\n",
       "    <tr>\n",
       "      <th>6</th>\n",
       "      <td>431.298969</td>\n",
       "      <td>15.484536</td>\n",
       "      <td>25.298969</td>\n",
       "    </tr>\n",
       "    <tr>\n",
       "      <th>7</th>\n",
       "      <td>449.983471</td>\n",
       "      <td>16.876033</td>\n",
       "      <td>27.033058</td>\n",
       "    </tr>\n",
       "    <tr>\n",
       "      <th>8</th>\n",
       "      <td>410.111111</td>\n",
       "      <td>16.882716</td>\n",
       "      <td>28.777778</td>\n",
       "    </tr>\n",
       "    <tr>\n",
       "      <th>9</th>\n",
       "      <td>414.226804</td>\n",
       "      <td>16.690722</td>\n",
       "      <td>30.762887</td>\n",
       "    </tr>\n",
       "    <tr>\n",
       "      <th>10</th>\n",
       "      <td>429.729958</td>\n",
       "      <td>17.409283</td>\n",
       "      <td>33.839662</td>\n",
       "    </tr>\n",
       "    <tr>\n",
       "      <th>11</th>\n",
       "      <td>423.325088</td>\n",
       "      <td>16.431095</td>\n",
       "      <td>32.385159</td>\n",
       "    </tr>\n",
       "    <tr>\n",
       "      <th>12</th>\n",
       "      <td>473.836478</td>\n",
       "      <td>18.238994</td>\n",
       "      <td>38.600629</td>\n",
       "    </tr>\n",
       "  </tbody>\n",
       "</table>\n",
       "</div>"
      ],
      "text/plain": [
       "       total_calls_duration  total_gb_used  total_messages\n",
       "month                                                     \n",
       "1                203.000000       5.000000       10.500000\n",
       "2                297.000000      12.222222       12.000000\n",
       "3                330.000000      13.565217       15.260870\n",
       "4                351.540000      12.220000       17.400000\n",
       "5                399.584416      14.116883       24.012987\n",
       "6                431.298969      15.484536       25.298969\n",
       "7                449.983471      16.876033       27.033058\n",
       "8                410.111111      16.882716       28.777778\n",
       "9                414.226804      16.690722       30.762887\n",
       "10               429.729958      17.409283       33.839662\n",
       "11               423.325088      16.431095       32.385159\n",
       "12               473.836478      18.238994       38.600629"
      ]
     },
     "execution_count": 119,
     "metadata": {},
     "output_type": "execute_result"
    }
   ],
   "source": [
    "# pivot_table de surf\n",
    "month_surf = pd.pivot_table(minutes_sms_mb_month_surf, \n",
    "                            values=[\"total_calls_duration\", \"total_messages\", \"total_gb_used\"], \n",
    "                            index=\"month\", \n",
    "                            aggfunc=\"mean\"\n",
    "                            )\n",
    "month_surf"
   ]
  },
  {
   "cell_type": "code",
   "execution_count": 120,
   "metadata": {},
   "outputs": [],
   "source": [
    "# reseteamos el índice\n",
    "month_surf.reset_index(inplace=True)"
   ]
  },
  {
   "cell_type": "code",
   "execution_count": 121,
   "metadata": {
    "scrolled": false
   },
   "outputs": [
    {
     "data": {
      "text/html": [
       "<div>\n",
       "<style scoped>\n",
       "    .dataframe tbody tr th:only-of-type {\n",
       "        vertical-align: middle;\n",
       "    }\n",
       "\n",
       "    .dataframe tbody tr th {\n",
       "        vertical-align: top;\n",
       "    }\n",
       "\n",
       "    .dataframe thead th {\n",
       "        text-align: right;\n",
       "    }\n",
       "</style>\n",
       "<table border=\"1\" class=\"dataframe\">\n",
       "  <thead>\n",
       "    <tr style=\"text-align: right;\">\n",
       "      <th></th>\n",
       "      <th>total_calls_duration</th>\n",
       "      <th>total_gb_used</th>\n",
       "      <th>total_messages</th>\n",
       "    </tr>\n",
       "    <tr>\n",
       "      <th>month</th>\n",
       "      <th></th>\n",
       "      <th></th>\n",
       "      <th></th>\n",
       "    </tr>\n",
       "  </thead>\n",
       "  <tbody>\n",
       "    <tr>\n",
       "      <th>1</th>\n",
       "      <td>193.500000</td>\n",
       "      <td>7.250000</td>\n",
       "      <td>15.500000</td>\n",
       "    </tr>\n",
       "    <tr>\n",
       "      <th>2</th>\n",
       "      <td>403.142857</td>\n",
       "      <td>17.285714</td>\n",
       "      <td>21.571429</td>\n",
       "    </tr>\n",
       "    <tr>\n",
       "      <th>3</th>\n",
       "      <td>304.250000</td>\n",
       "      <td>18.416667</td>\n",
       "      <td>20.250000</td>\n",
       "    </tr>\n",
       "    <tr>\n",
       "      <th>4</th>\n",
       "      <td>336.857143</td>\n",
       "      <td>16.333333</td>\n",
       "      <td>22.047619</td>\n",
       "    </tr>\n",
       "    <tr>\n",
       "      <th>5</th>\n",
       "      <td>406.241379</td>\n",
       "      <td>16.862069</td>\n",
       "      <td>32.103448</td>\n",
       "    </tr>\n",
       "    <tr>\n",
       "      <th>6</th>\n",
       "      <td>370.957447</td>\n",
       "      <td>15.425532</td>\n",
       "      <td>29.340426</td>\n",
       "    </tr>\n",
       "    <tr>\n",
       "      <th>7</th>\n",
       "      <td>427.067797</td>\n",
       "      <td>16.491525</td>\n",
       "      <td>32.830508</td>\n",
       "    </tr>\n",
       "    <tr>\n",
       "      <th>8</th>\n",
       "      <td>421.436620</td>\n",
       "      <td>17.845070</td>\n",
       "      <td>38.478873</td>\n",
       "    </tr>\n",
       "    <tr>\n",
       "      <th>9</th>\n",
       "      <td>437.511628</td>\n",
       "      <td>17.011628</td>\n",
       "      <td>37.895349</td>\n",
       "    </tr>\n",
       "    <tr>\n",
       "      <th>10</th>\n",
       "      <td>450.735849</td>\n",
       "      <td>17.716981</td>\n",
       "      <td>39.443396</td>\n",
       "    </tr>\n",
       "    <tr>\n",
       "      <th>11</th>\n",
       "      <td>445.196850</td>\n",
       "      <td>17.118110</td>\n",
       "      <td>38.606299</td>\n",
       "    </tr>\n",
       "    <tr>\n",
       "      <th>12</th>\n",
       "      <td>459.099338</td>\n",
       "      <td>18.397351</td>\n",
       "      <td>45.006623</td>\n",
       "    </tr>\n",
       "  </tbody>\n",
       "</table>\n",
       "</div>"
      ],
      "text/plain": [
       "       total_calls_duration  total_gb_used  total_messages\n",
       "month                                                     \n",
       "1                193.500000       7.250000       15.500000\n",
       "2                403.142857      17.285714       21.571429\n",
       "3                304.250000      18.416667       20.250000\n",
       "4                336.857143      16.333333       22.047619\n",
       "5                406.241379      16.862069       32.103448\n",
       "6                370.957447      15.425532       29.340426\n",
       "7                427.067797      16.491525       32.830508\n",
       "8                421.436620      17.845070       38.478873\n",
       "9                437.511628      17.011628       37.895349\n",
       "10               450.735849      17.716981       39.443396\n",
       "11               445.196850      17.118110       38.606299\n",
       "12               459.099338      18.397351       45.006623"
      ]
     },
     "execution_count": 121,
     "metadata": {},
     "output_type": "execute_result"
    }
   ],
   "source": [
    "# pivot_table de ultimate\n",
    "month_ultimate = pd.pivot_table(minutes_sms_mb_month_ultimate, \n",
    "                                values=[\"total_calls_duration\", \"total_messages\", \"total_gb_used\"], \n",
    "                                index=\"month\", \n",
    "                                aggfunc=\"mean\"\n",
    "                               )\n",
    "month_ultimate"
   ]
  },
  {
   "cell_type": "code",
   "execution_count": 122,
   "metadata": {},
   "outputs": [],
   "source": [
    "# reseteamos el índice\n",
    "month_ultimate.reset_index(inplace=True)"
   ]
  },
  {
   "cell_type": "markdown",
   "metadata": {},
   "source": [
    "Claramente, como al inicio del año hay pocos clientes en cada plan, el consumo promedio de los minutos del total de llamadas llamadas, mensajes y gb por mes es menor al inicio. Por lo tanto, no se puede analizar los datos como estacionales, ya que a nivel de cada mes no se tiene un rango fijo de clientes. \n",
    "\n",
    "En comparación entre surf y ultimate, la diferencia entre consumo promedio mensual de llamadas, sms y datos es bastante similar a simple vista, por lo que se podría decir que no hay mucha diferencia entre lo que necesitan los clientes consumir entre plan. \n",
    "\n",
    "Sin embargo, para estar más seguros, siempre es mejor visualizarlo en gráficos. Se realizará scatter plots en cada uno para poder ver cuál es la diferencia entre cada plan."
   ]
  },
  {
   "cell_type": "code",
   "execution_count": 123,
   "metadata": {},
   "outputs": [
    {
     "data": {
      "text/plain": [
       "<matplotlib.legend.Legend at 0x7fd954348a30>"
      ]
     },
     "execution_count": 123,
     "metadata": {},
     "output_type": "execute_result"
    },
    {
     "data": {
      "image/png": "[encoded data removed]",
      "text/plain": [
       "<Figure size 1080x576 with 1 Axes>"
      ]
     },
     "metadata": {},
     "output_type": "display_data"
    }
   ],
   "source": [
    "# scatter plot de total_calls_duration\n",
    "first_plot_calls = month_surf.plot(x = \"month\", \n",
    "                                   y = \"total_calls_duration\", \n",
    "                                   kind = \"scatter\", \n",
    "                                   title=\"Mean duration calls per month\", \n",
    "                                   color=\"red\")\n",
    "\n",
    "month_ultimate.plot(x = \"month\", \n",
    "                    y = \"total_calls_duration\", \n",
    "                    kind = \"scatter\",\n",
    "                    color = \"green\", \n",
    "                    ax=first_plot_calls)\n",
    "\n",
    "plt.legend([\"surf\", \"ultimate\"])"
   ]
  },
  {
   "cell_type": "markdown",
   "metadata": {},
   "source": [
    "En el gráfico `Mean duration calls per month` entre surf y ultimate se observa que en cada mes no hay mucha diferencia entre los planes. El plan ultimate es el plan más caro, que solo en los últimos meses del año se ve un consumo mayor en relación a surf, sin embargo la diferencia es mínima en cada mes. El único mes considerable que ultimate consumió más llamadas que surf fue en febrero. \n",
    "\n",
    "En cuanto al consumo, ninguno de los dos sobrepasa la cantidad de minutos del plan mínimo (surf) que ofrece Megaline, que son 500 minutos. "
   ]
  },
  {
   "cell_type": "markdown",
   "metadata": {},
   "source": [
    "Continuamos con los mensajes: "
   ]
  },
  {
   "cell_type": "code",
   "execution_count": 124,
   "metadata": {},
   "outputs": [
    {
     "data": {
      "text/plain": [
       "<matplotlib.legend.Legend at 0x7fd8fcdcb280>"
      ]
     },
     "execution_count": 124,
     "metadata": {},
     "output_type": "execute_result"
    },
    {
     "data": {
      "image/png": "[encoded data removed]",
      "text/plain": [
       "<Figure size 1080x576 with 1 Axes>"
      ]
     },
     "metadata": {},
     "output_type": "display_data"
    }
   ],
   "source": [
    "# scatter plot de total_calls_duration\n",
    "first_plot_messages = month_surf.plot(x = \"month\", \n",
    "                                      y = \"total_messages\", \n",
    "                                      kind = \"scatter\", \n",
    "                                      title=\"Mean messages per month\", \n",
    "                                      color=\"red\")\n",
    "\n",
    "month_ultimate.plot(x = \"month\", \n",
    "                    y = \"total_messages\", \n",
    "                    kind = \"scatter\",\n",
    "                    color = \"green\", \n",
    "                    ax=first_plot_messages)\n",
    "\n",
    "plt.legend([\"surf\", \"ultimate\"])"
   ]
  },
  {
   "cell_type": "markdown",
   "metadata": {},
   "source": [
    "El consumo promedio de mensajes mensual del plan ultimate si es mayor en relación con surf en todos los meses. Aunque hay que tomar en cuenta que en ninguno de los dos planes sobrepasa los 50 mensajes que ofrece el plan surf que es el inferior. Esto se da porque los SMS ya se usan tanto a nivel general, en cambio los datos es lo que más se consume, y es donde debería ir la venta de los planes de telefonía celular.\n",
    "\n",
    "Obviamente hay que tomar en cuenta que se está analizando el promedio usado de todos los usuarios por mes, por lo que hay algunos clientes que consumen menos y otros que consumen más y si sobrepasan lo que ofrece el plan."
   ]
  },
  {
   "cell_type": "markdown",
   "metadata": {},
   "source": [
    "Dicho esto, verificamos el consumo promedio del volumen de datos por mes:"
   ]
  },
  {
   "cell_type": "code",
   "execution_count": 125,
   "metadata": {},
   "outputs": [
    {
     "data": {
      "text/plain": [
       "<matplotlib.legend.Legend at 0x7fd8fb8b4820>"
      ]
     },
     "execution_count": 125,
     "metadata": {},
     "output_type": "execute_result"
    },
    {
     "data": {
      "image/png": "[encoded data removed]",
      "text/plain": [
       "<Figure size 1080x576 with 1 Axes>"
      ]
     },
     "metadata": {},
     "output_type": "display_data"
    }
   ],
   "source": [
    "# scatter plot de total_calls_duration\n",
    "first_plot_gb = month_surf.plot(x = \"month\", \n",
    "                                y = \"total_gb_used\", \n",
    "                                kind = \"scatter\", \n",
    "                                title=\"Mean gb per month\", \n",
    "                                color=\"red\")\n",
    "\n",
    "month_ultimate.plot(x = \"month\", \n",
    "                    y = \"total_gb_used\", \n",
    "                    kind = \"scatter\",\n",
    "                    color = \"green\", \n",
    "                    ax=first_plot_gb)\n",
    "\n",
    "plt.legend([\"surf\", \"ultimate\"])"
   ]
  },
  {
   "cell_type": "markdown",
   "metadata": {},
   "source": [
    "En este caso el consumo de datos promedio del plan ultimate si se ve un aumento significativo en los primeros meses, sin embargo, en los próximos meses hay ya la diferencia entre consumo mensual por plan es igual. \n",
    "\n",
    "En este caso, se nota claramente que desde el mes 6 (junio) por lo menos la mitad de clientes han consumido más datos de lo que ofrece el plan (15 GB). En este caso a nivel general, se podría decir que `surf` genera más ingresos que ultimate, ya que más clientes que tienen este plan gastan más datos, pagando así más. El presupuesto se podría utilizar más en el consumo de los datos con un internet más rápido, haciendo que los clientes estén más interesados en consumir más datos. \n",
    "\n",
    "Sin embargo, esto aún no es 100% seguro, y se comprobará más adelante con las siguientes hipótesis: \n",
    "- El ingreso promedio de los usuarios de las tarifas Ultimate y Surf difiere.\n",
    "- El ingreso promedio de los usuarios en el área de estados Nueva York-Nueva Jersey es diferente al de los usuarios de otras regiones."
   ]
  },
  {
   "cell_type": "markdown",
   "metadata": {},
   "source": [
    "### Comportamiento de los clientes (histogramas)"
   ]
  },
  {
   "cell_type": "markdown",
   "metadata": {},
   "source": [
    "Para entender aún más el comportamiento de los clientes para cada plan de telefonía de Megaline del año 2018, se traza histogramas y así ver cómo varía el uso de las llamadas, mensajes y datos. \n",
    "\n",
    "Analicemos primero las llamadas de Surf y Ultimate separando cada dato y graficando los dos planes en una sola gráfica. "
   ]
  },
  {
   "cell_type": "code",
   "execution_count": 126,
   "metadata": {},
   "outputs": [],
   "source": [
    "# se filtra los datos para cada plan\n",
    "surf_minutes = minutes_sms_mb_month.query('plan == \"surf\"')['total_calls_duration']\n",
    "ultimate_minutes = minutes_sms_mb_month.query('plan == \"ultimate\"')['total_calls_duration']"
   ]
  },
  {
   "cell_type": "code",
   "execution_count": 127,
   "metadata": {},
   "outputs": [
    {
     "data": {
      "image/png": "[encoded data removed]",
      "text/plain": [
       "<Figure size 1080x576 with 1 Axes>"
      ]
     },
     "metadata": {},
     "output_type": "display_data"
    }
   ],
   "source": [
    "# histograma de minutos por plan\n",
    "plt.hist([surf_minutes, ultimate_minutes], bins=50, label=[\"Surf\", \"Ultimate\"])\n",
    "plt.title('Histograma de minutos del plan Surf y Ultimate')\n",
    "plt.legend(loc=\"upper right\")\n",
    "plt.xlabel('Minutos mensuales')\n",
    "plt.ylabel('No. de clientes')\n",
    "plt.show()"
   ]
  },
  {
   "cell_type": "markdown",
   "metadata": {},
   "source": [
    "Se puede observar en los histogramas que tanto Surf y Ultimate, la mayoría de clientes o un pico de ellos gastan en promedio unos 500 min mensuales, por lo tanto podríamos decir que Surf y Ultimate tienen el mismo comportamiento de uso de llamadas, la única diferencia notable es que en Surf hay más clientes, por lo que más clientes están acumulados entre 300 a 500 min. Hay que tomar en cuenta que algunos clientes de Surf (por lo menos unos 60) gastan entre 0 a 30 min mensuales, que es relativamente poco.\n",
    "\n",
    "Entendamos un poco mejor la relación del histograma con la media, la varianza y la desviación estándar de los minutos mensuales de cada plan:"
   ]
  },
  {
   "cell_type": "code",
   "execution_count": 128,
   "metadata": {},
   "outputs": [
    {
     "name": "stdout",
     "output_type": "stream",
     "text": [
      "El consumo promedio de minutos mensuales en el plan Surf es: 428.75\n",
      "El consumo promedio de minutos mensuales en el plan Ultimate es: 430.45\n",
      "\n",
      "La varianza del consumo de minutos mensuales en el plan Surf es: 54933.33\n",
      "La varianza del consumo de minutos mensuales en el plan Ultimate es: 57764.13\n",
      "\n",
      "La desviación estándar del consumo de minutos mensuales en el plan Surf es: 234.38\n",
      "La desviación estándar del consumo de minutos mensuales en el plan Ultimate es: 240.34\n"
     ]
    }
   ],
   "source": [
    "# media, varianza, desviación estándar\n",
    "print(\"El consumo promedio de minutos mensuales en el plan Surf es:\", round(surf_minutes.mean(), 2))\n",
    "print(\"El consumo promedio de minutos mensuales en el plan Ultimate es:\", round(ultimate_minutes.mean(), 2))\n",
    "print(\"\")\n",
    "print(\"La varianza del consumo de minutos mensuales en el plan Surf es:\", round(np.var(surf_minutes), 2))\n",
    "print(\"La varianza del consumo de minutos mensuales en el plan Ultimate es:\", round(np.var(ultimate_minutes), 2))\n",
    "print(\"\")\n",
    "print(\"La desviación estándar del consumo de minutos mensuales en el plan Surf es:\", round(np.std(surf_minutes), 2))\n",
    "print(\"La desviación estándar del consumo de minutos mensuales en el plan Ultimate es:\", round(np.std(ultimate_minutes), 2))"
   ]
  },
  {
   "cell_type": "markdown",
   "metadata": {},
   "source": [
    "Tal como se dijo anteriormente, la mayoría de datos entre el plan Surf y Ultimate tienen el mismo comportamiento, y esto lo podemos ver en los resultados de los estadísticos: media, varianza y desviación estándar.\n",
    "\n",
    "El promedio del consumo de minutos mensuales entre los clientes del plan Surf y Ultimate son prácticamente los mismos, si redondeamos, el promedio de Surf es 429 min y de Ultimate es 430 min.\n",
    "\n",
    "En cuanto a la varianza, podemos decir que tenemos una alta varianza en comparación a la media, tomando en cuenta que es una medida de dispersión. Claramente esto se da por los datos atípicos donde varios clientes consumen más de lo usual entre 900 a 1500 min.\n",
    "\n",
    "Por último, la desviación estándar que es la raíz cuadrada de la varianza, nos indica de igual forma la dispersión de los datos alrededor de la media pero ya en unidades originales. En este caso se puede decir que el plan Surf está un poco más centrados los datos a diferencia de los clientes del plan Ultimate, y aun así la diferencia es relativamente pequeña."
   ]
  },
  {
   "cell_type": "markdown",
   "metadata": {},
   "source": [
    "Continuemos el análisis con el uso mensual de los mensajes por plan. Realizamos el mismo procedimiento: "
   ]
  },
  {
   "cell_type": "code",
   "execution_count": 129,
   "metadata": {},
   "outputs": [],
   "source": [
    "# se filtra los datos para cada plan\n",
    "surf_sms = minutes_sms_mb_month.query('plan == \"surf\"')['total_messages']\n",
    "ultimate_sms = minutes_sms_mb_month.query('plan == \"ultimate\"')['total_messages']"
   ]
  },
  {
   "cell_type": "code",
   "execution_count": 130,
   "metadata": {},
   "outputs": [
    {
     "data": {
      "image/png": "[encoded data removed]",
      "text/plain": [
       "<Figure size 1080x576 with 1 Axes>"
      ]
     },
     "metadata": {},
     "output_type": "display_data"
    }
   ],
   "source": [
    "# histograma de minutos por plan\n",
    "plt.hist([surf_sms, ultimate_sms], bins=50, label=[\"Surf\", \"Ultimate\"])\n",
    "plt.title('Histograma de sms del plan Surf y Ultimate')\n",
    "plt.legend(loc=\"upper right\")\n",
    "plt.xlabel('Mensajes mensuales')\n",
    "plt.ylabel('No. de clientes')\n",
    "plt.show()"
   ]
  },
  {
   "cell_type": "markdown",
   "metadata": {},
   "source": [
    "A simple vista se puede decir que el uso de mensajes (SMS) cada vez ha sido menos en cualquier plan de telefonía, y esta no es la excepción con los clientes de Megaline. Tanto Surf como Ultimate su uso mensual de SMS se concentra en el mínimo (entre 0 a 10). Aún así, el comportamiento entre Surf y Ultimate sigue siendo similar.\n",
    "\n",
    "Entendamos un poco mejor la relación del histograma con la media, la varianza y la desviación estándar de los minutos mensuales de cada plan:"
   ]
  },
  {
   "cell_type": "code",
   "execution_count": 131,
   "metadata": {},
   "outputs": [
    {
     "name": "stdout",
     "output_type": "stream",
     "text": [
      "El consumo promedio de mensajes mensuales en el plan Surf es: 31.16\n",
      "El consumo promedio de mensajes mensuales en el plan Ultimate es: 37.55\n",
      "\n",
      "La varianza del consumo de mensajes mensuales en el plan Surf es: 1126.01\n",
      "La varianza del consumo de mensajes mensuales en el plan Ultimate es: 1207.08\n",
      "\n",
      "La desviación estándar del consumo de mensajes mensuales en el plan Surf es: 33.56\n",
      "La desviación estándar del consumo de mensajes mensuales en el plan Ultimate es: 34.74\n"
     ]
    }
   ],
   "source": [
    "# media, varianza, desviación estándar\n",
    "print(\"El consumo promedio de mensajes mensuales en el plan Surf es:\", round(surf_sms .mean(), 2))\n",
    "print(\"El consumo promedio de mensajes mensuales en el plan Ultimate es:\", round(ultimate_sms.mean(), 2))\n",
    "print(\"\")\n",
    "print(\"La varianza del consumo de mensajes mensuales en el plan Surf es:\", round(np.var(surf_sms), 2))\n",
    "print(\"La varianza del consumo de mensajes mensuales en el plan Ultimate es:\", round(np.var(ultimate_sms), 2))\n",
    "print(\"\")\n",
    "print(\"La desviación estándar del consumo de mensajes mensuales en el plan Surf es:\", round(np.std(surf_sms), 2))\n",
    "print(\"La desviación estándar del consumo de mensajes mensuales en el plan Ultimate es:\", round(np.std(ultimate_sms), 2))"
   ]
  },
  {
   "cell_type": "markdown",
   "metadata": {},
   "source": [
    "De igual forma, el consumo de mensual de SMS es similar entre los dos planes, aunque ya con una diferencia un poco más grande aunque no tan representativa. El promedio en el plan Surf es de 31 mensajes y para los clientes del plan Ultimate es de 38 mensajes, apenas una diferencia de 7 mensajes.\n",
    "\n",
    "Por otro lado según la desviación estándar la dispersión entre los datos según su media es corta, y esto más se debe a que gran parte de los clientes no consumen sus mensajes de texto."
   ]
  },
  {
   "cell_type": "markdown",
   "metadata": {},
   "source": [
    "Procedamos con el último análisis, uso de datos:"
   ]
  },
  {
   "cell_type": "code",
   "execution_count": 132,
   "metadata": {},
   "outputs": [],
   "source": [
    "# se filtra los datos para cada plan\n",
    "surf_gb = minutes_sms_mb_month.query('plan == \"surf\"')['total_gb_used']\n",
    "ultimate_gb = minutes_sms_mb_month.query('plan == \"ultimate\"')['total_gb_used']"
   ]
  },
  {
   "cell_type": "code",
   "execution_count": 133,
   "metadata": {},
   "outputs": [
    {
     "data": {
      "image/png": "[encoded data removed]",
      "text/plain": [
       "<Figure size 1080x576 with 1 Axes>"
      ]
     },
     "metadata": {},
     "output_type": "display_data"
    }
   ],
   "source": [
    "# histograma de minutos por plan\n",
    "plt.hist([surf_gb, ultimate_gb], bins=50, label=[\"Surf\", \"Ultimate\"])\n",
    "plt.title('Histograma de GB del plan Surf y Ultimate')\n",
    "plt.legend(loc=\"upper right\")\n",
    "plt.xlabel('Uso de GB mensuales')\n",
    "plt.ylabel('No. de clientes')\n",
    "plt.show()"
   ]
  },
  {
   "cell_type": "markdown",
   "metadata": {},
   "source": [
    "Al igual que los minutos y mensajes usados mensualmente, el uso de GB mensuales por clientes en cada plan, el comportamiento es igual, la única diferencia es que Surf tiene más cliente que Ultimate. En el uso de datos los clientes de los dos planes se concentran tanto en 17 GB mensuales, lo cual para gran parte de los clientes de Surf sería mejor que se cambien a Ultimate, y así dejan de pagar datos extras.\n",
    "\n",
    "Entendamos un poco mejor la relación del histograma con la media, la varianza y la desviación estándar de los minutos mensuales de cada plan:"
   ]
  },
  {
   "cell_type": "code",
   "execution_count": 134,
   "metadata": {},
   "outputs": [
    {
     "name": "stdout",
     "output_type": "stream",
     "text": [
      "El consumo promedio de GB mensuales en el plan Surf es: 16.67\n",
      "El consumo promedio de GB mensuales en el plan Ultimate es: 17.31\n",
      "\n",
      "La varianza del consumo de GB mensuales en el plan Surf es: 61.54\n",
      "La varianza del consumo de GB mensuales en el plan Ultimate es: 58.75\n",
      "\n",
      "La desviación estándar del consumo de GB mensuales en el plan Surf es: 7.85\n",
      "La desviación estándar del consumo de GB mensuales en el plan Ultimate es: 7.66\n"
     ]
    }
   ],
   "source": [
    "# media, varianza, desviación estándar\n",
    "print(\"El consumo promedio de GB mensuales en el plan Surf es:\", round(surf_gb .mean(), 2))\n",
    "print(\"El consumo promedio de GB mensuales en el plan Ultimate es:\", round(ultimate_gb.mean(), 2))\n",
    "print(\"\")\n",
    "print(\"La varianza del consumo de GB mensuales en el plan Surf es:\", round(np.var(surf_gb), 2))\n",
    "print(\"La varianza del consumo de GB mensuales en el plan Ultimate es:\", round(np.var(ultimate_gb), 2))\n",
    "print(\"\")\n",
    "print(\"La desviación estándar del consumo de GB mensuales en el plan Surf es:\", round(np.std(surf_gb), 2))\n",
    "print(\"La desviación estándar del consumo de GB mensuales en el plan Ultimate es:\", round(np.std(ultimate_gb), 2))"
   ]
  },
  {
   "cell_type": "markdown",
   "metadata": {},
   "source": [
    "Nuevamente se observa que el consumo mensual promedio de GB entre los dos planes es similar. Para los clientes de Ultimate este consumo promedio no hay problema ya que no sobrepasa el límite del plan, pero para los clientes de Surf el consumo mensual promedio en 2018 sobrepasó el límite de 15 GB.\n",
    "\n",
    "Como se comentó arriba, el comportamiento del uso de GB entre los dos planes es similar, tanto así que la desviación estándar es la más cercana entre los dos planes.\n",
    "\n",
    "Lo interesante de todo esto es que prácticamente el comportamiento de clientes es similar, por lo que la mejor opción para los clientes sería cambiarse a Ultimate pero para Megaline la mejor opción es que la gran mayoría de clientes se queden en Surf, para poder generar más dinero. Por lo tanto, Megaline debería enfocarse en aumentar la publicidad del plan Surf en caso de que quieran mantener a sus clientes en ese plan y obtener nuevos clientes, y así generar más ganancias."
   ]
  },
  {
   "cell_type": "markdown",
   "metadata": {},
   "source": [
    "## Prueba de hipótesis"
   ]
  },
  {
   "cell_type": "markdown",
   "metadata": {},
   "source": [
    "### Ingreso promedio de los usuarios de las tarifas Ultimate y Surf difiere."
   ]
  },
  {
   "cell_type": "markdown",
   "metadata": {},
   "source": [
    "Para analizar si el ingreso promedio de los usuarios de las tarifas Ultimate y Surf difiere, se utilizará la verificación de hipótesis sobre la igualdad de las medias de dos poblaciones, la prueba T.\n",
    "\n",
    "Primero filtramos la información que necesitamos para poder comprobar las pruebas de hipótesis. En este caso necesitamos el ingreso mensual del plan surf y el ingreso mensual del plan ultimate, de esta forma lo podemos comparar."
   ]
  },
  {
   "cell_type": "code",
   "execution_count": 135,
   "metadata": {},
   "outputs": [],
   "source": [
    "# filtro de información\n",
    "income_surf = monthly_income_per_user.query('plan == \"surf\"')['monthly_income']\n",
    "income_ultimate = monthly_income_per_user.query('plan == \"ultimate\"')['monthly_income']"
   ]
  },
  {
   "cell_type": "markdown",
   "metadata": {},
   "source": [
    "Comparamos las dos poblaciones para poder identificar si el ingreso promedio de surf difiere al de ultimate. No esperamos que las variaciones entre las dos poblaciones sean las mismas. Se establece un nivel de significancia del 0.05 (95%) que generalmente es lo usual que se utiliza al comprobar hipótesis. \n",
    "\n",
    "Nuestra hipótesis nula sería la siguiente: \n",
    "- El ingreso promedio de los usuarios de las tarifas Ultimate y Surf es igual. \n",
    "\n",
    "La hipótesis alternativa sería la siguiente: \n",
    "- El ingreso promedio de los usuarios de las tarifas Ultimate y Surf difiere. \n",
    "\n",
    "Aplicamos y verificamos si se rechaza o no la hipótesis nula. "
   ]
  },
  {
   "cell_type": "code",
   "execution_count": 136,
   "metadata": {},
   "outputs": [
    {
     "name": "stdout",
     "output_type": "stream",
     "text": [
      "p-value: 2.862674510698644e-08\n",
      "Rechazamos la hipótesis nula\n"
     ]
    }
   ],
   "source": [
    "# comprobación de hipótesis\n",
    "alpha = 0.05 \n",
    "\n",
    "results = st.ttest_ind(income_surf, income_ultimate)\n",
    "\n",
    "print('p-value:', results.pvalue)\n",
    "\n",
    "if results.pvalue < alpha:\n",
    "    print(\"Rechazamos la hipótesis nula\")\n",
    "else:\n",
    "    print(\"No rechazamos la hipótesis nula\")"
   ]
  },
  {
   "cell_type": "markdown",
   "metadata": {},
   "source": [
    "El valor p es menor que 0.05 por lo que se rechaza la hipótesis nula. En este caso hay suficiente prueba estadística para decir que el ingreso promedio de los usuarios de Surf difiere con el de Ultimate, tal cual como se esperaba, considerando que Surf genera más ingresos a Megaline. "
   ]
  },
  {
   "cell_type": "markdown",
   "metadata": {},
   "source": [
    "### Ingreso promedio de los usuarios en el área de estados Nueva York-Nueva Jersey es diferente al de los usuarios de otras regiones."
   ]
  },
  {
   "cell_type": "markdown",
   "metadata": {},
   "source": [
    "Para analizar si el ingreso promedio de los usuarios en el área de Nueva York-Nueva Jersey es diferente al de los usuarios de otras regiones, de las tarifas Ultimate y Surf difiere, se utilizará la verificación de hipótesis sobre la igualdad de las medias de dos poblaciones. \n",
    "\n",
    "Filtramos la información que necesitamos. Empezamos por obtener la información solo de las ciudades, y para esto se debe unir las tablas `users` y `monthly_income_per_user`:"
   ]
  },
  {
   "cell_type": "code",
   "execution_count": 137,
   "metadata": {},
   "outputs": [
    {
     "data": {
      "text/html": [
       "<div>\n",
       "<style scoped>\n",
       "    .dataframe tbody tr th:only-of-type {\n",
       "        vertical-align: middle;\n",
       "    }\n",
       "\n",
       "    .dataframe tbody tr th {\n",
       "        vertical-align: top;\n",
       "    }\n",
       "\n",
       "    .dataframe thead th {\n",
       "        text-align: right;\n",
       "    }\n",
       "</style>\n",
       "<table border=\"1\" class=\"dataframe\">\n",
       "  <thead>\n",
       "    <tr style=\"text-align: right;\">\n",
       "      <th></th>\n",
       "      <th>user_id</th>\n",
       "      <th>first_name</th>\n",
       "      <th>last_name</th>\n",
       "      <th>age</th>\n",
       "      <th>city</th>\n",
       "      <th>reg_date</th>\n",
       "      <th>plan</th>\n",
       "      <th>churn_date</th>\n",
       "      <th>weekday_reg</th>\n",
       "      <th>month_reg</th>\n",
       "      <th>year_reg</th>\n",
       "      <th>weekday_churn</th>\n",
       "      <th>month_churn</th>\n",
       "      <th>year_churn</th>\n",
       "    </tr>\n",
       "  </thead>\n",
       "  <tbody>\n",
       "    <tr>\n",
       "      <th>0</th>\n",
       "      <td>1000</td>\n",
       "      <td>Anamaria</td>\n",
       "      <td>Bauer</td>\n",
       "      <td>45</td>\n",
       "      <td>Atlanta-Sandy Springs-Roswell, GA MSA</td>\n",
       "      <td>2018-12-24</td>\n",
       "      <td>ultimate</td>\n",
       "      <td>NaT</td>\n",
       "      <td>0</td>\n",
       "      <td>12</td>\n",
       "      <td>2018</td>\n",
       "      <td>NaN</td>\n",
       "      <td>NaN</td>\n",
       "      <td>NaN</td>\n",
       "    </tr>\n",
       "    <tr>\n",
       "      <th>1</th>\n",
       "      <td>1001</td>\n",
       "      <td>Mickey</td>\n",
       "      <td>Wilkerson</td>\n",
       "      <td>28</td>\n",
       "      <td>Seattle-Tacoma-Bellevue, WA MSA</td>\n",
       "      <td>2018-08-13</td>\n",
       "      <td>surf</td>\n",
       "      <td>NaT</td>\n",
       "      <td>0</td>\n",
       "      <td>8</td>\n",
       "      <td>2018</td>\n",
       "      <td>NaN</td>\n",
       "      <td>NaN</td>\n",
       "      <td>NaN</td>\n",
       "    </tr>\n",
       "    <tr>\n",
       "      <th>2</th>\n",
       "      <td>1002</td>\n",
       "      <td>Carlee</td>\n",
       "      <td>Hoffman</td>\n",
       "      <td>36</td>\n",
       "      <td>Las Vegas-Henderson-Paradise, NV MSA</td>\n",
       "      <td>2018-10-21</td>\n",
       "      <td>surf</td>\n",
       "      <td>NaT</td>\n",
       "      <td>6</td>\n",
       "      <td>10</td>\n",
       "      <td>2018</td>\n",
       "      <td>NaN</td>\n",
       "      <td>NaN</td>\n",
       "      <td>NaN</td>\n",
       "    </tr>\n",
       "    <tr>\n",
       "      <th>3</th>\n",
       "      <td>1003</td>\n",
       "      <td>Reynaldo</td>\n",
       "      <td>Jenkins</td>\n",
       "      <td>52</td>\n",
       "      <td>Tulsa, OK MSA</td>\n",
       "      <td>2018-01-28</td>\n",
       "      <td>surf</td>\n",
       "      <td>NaT</td>\n",
       "      <td>6</td>\n",
       "      <td>1</td>\n",
       "      <td>2018</td>\n",
       "      <td>NaN</td>\n",
       "      <td>NaN</td>\n",
       "      <td>NaN</td>\n",
       "    </tr>\n",
       "    <tr>\n",
       "      <th>4</th>\n",
       "      <td>1004</td>\n",
       "      <td>Leonila</td>\n",
       "      <td>Thompson</td>\n",
       "      <td>40</td>\n",
       "      <td>Seattle-Tacoma-Bellevue, WA MSA</td>\n",
       "      <td>2018-05-23</td>\n",
       "      <td>surf</td>\n",
       "      <td>NaT</td>\n",
       "      <td>2</td>\n",
       "      <td>5</td>\n",
       "      <td>2018</td>\n",
       "      <td>NaN</td>\n",
       "      <td>NaN</td>\n",
       "      <td>NaN</td>\n",
       "    </tr>\n",
       "  </tbody>\n",
       "</table>\n",
       "</div>"
      ],
      "text/plain": [
       "   user_id first_name  last_name  age                                   city  \\\n",
       "0     1000   Anamaria      Bauer   45  Atlanta-Sandy Springs-Roswell, GA MSA   \n",
       "1     1001     Mickey  Wilkerson   28        Seattle-Tacoma-Bellevue, WA MSA   \n",
       "2     1002     Carlee    Hoffman   36   Las Vegas-Henderson-Paradise, NV MSA   \n",
       "3     1003   Reynaldo    Jenkins   52                          Tulsa, OK MSA   \n",
       "4     1004    Leonila   Thompson   40        Seattle-Tacoma-Bellevue, WA MSA   \n",
       "\n",
       "    reg_date      plan churn_date  weekday_reg  month_reg  year_reg  \\\n",
       "0 2018-12-24  ultimate        NaT            0         12      2018   \n",
       "1 2018-08-13      surf        NaT            0          8      2018   \n",
       "2 2018-10-21      surf        NaT            6         10      2018   \n",
       "3 2018-01-28      surf        NaT            6          1      2018   \n",
       "4 2018-05-23      surf        NaT            2          5      2018   \n",
       "\n",
       "   weekday_churn  month_churn  year_churn  \n",
       "0            NaN          NaN         NaN  \n",
       "1            NaN          NaN         NaN  \n",
       "2            NaN          NaN         NaN  \n",
       "3            NaN          NaN         NaN  \n",
       "4            NaN          NaN         NaN  "
      ]
     },
     "execution_count": 137,
     "metadata": {},
     "output_type": "execute_result"
    }
   ],
   "source": [
    "# visualizar información\n",
    "users.head()"
   ]
  },
  {
   "cell_type": "code",
   "execution_count": 138,
   "metadata": {},
   "outputs": [],
   "source": [
    "# filtro de user_id y city\n",
    "users_per_city = users[[\"user_id\", \"city\"]]"
   ]
  },
  {
   "cell_type": "code",
   "execution_count": 139,
   "metadata": {},
   "outputs": [],
   "source": [
    "# copia y cambio de user_id a str\n",
    "users_per_city = users_per_city.copy()\n",
    "users_per_city[\"user_id\"] = users_per_city[\"user_id\"].astype(\"str\")"
   ]
  },
  {
   "cell_type": "code",
   "execution_count": 140,
   "metadata": {},
   "outputs": [
    {
     "name": "stdout",
     "output_type": "stream",
     "text": [
      "<class 'pandas.core.frame.DataFrame'>\n",
      "RangeIndex: 500 entries, 0 to 499\n",
      "Data columns (total 2 columns):\n",
      " #   Column   Non-Null Count  Dtype \n",
      "---  ------   --------------  ----- \n",
      " 0   user_id  500 non-null    object\n",
      " 1   city     500 non-null    object\n",
      "dtypes: object(2)\n",
      "memory usage: 7.9+ KB\n"
     ]
    }
   ],
   "source": [
    "# verificación\n",
    "users_per_city.info()"
   ]
  },
  {
   "cell_type": "code",
   "execution_count": 141,
   "metadata": {},
   "outputs": [],
   "source": [
    "# merge de las dos tablas en user_id\n",
    "monthly_income_city = monthly_income_per_user.merge(users_per_city, on = \"user_id\", how=\"left\")"
   ]
  },
  {
   "cell_type": "code",
   "execution_count": 142,
   "metadata": {},
   "outputs": [
    {
     "data": {
      "text/html": [
       "<div>\n",
       "<style scoped>\n",
       "    .dataframe tbody tr th:only-of-type {\n",
       "        vertical-align: middle;\n",
       "    }\n",
       "\n",
       "    .dataframe tbody tr th {\n",
       "        vertical-align: top;\n",
       "    }\n",
       "\n",
       "    .dataframe thead th {\n",
       "        text-align: right;\n",
       "    }\n",
       "</style>\n",
       "<table border=\"1\" class=\"dataframe\">\n",
       "  <thead>\n",
       "    <tr style=\"text-align: right;\">\n",
       "      <th></th>\n",
       "      <th>user_id</th>\n",
       "      <th>month</th>\n",
       "      <th>plan</th>\n",
       "      <th>monthly_income</th>\n",
       "      <th>city</th>\n",
       "    </tr>\n",
       "  </thead>\n",
       "  <tbody>\n",
       "    <tr>\n",
       "      <th>0</th>\n",
       "      <td>1000</td>\n",
       "      <td>12</td>\n",
       "      <td>ultimate</td>\n",
       "      <td>70.00</td>\n",
       "      <td>Atlanta-Sandy Springs-Roswell, GA MSA</td>\n",
       "    </tr>\n",
       "    <tr>\n",
       "      <th>1</th>\n",
       "      <td>1001</td>\n",
       "      <td>8</td>\n",
       "      <td>surf</td>\n",
       "      <td>20.00</td>\n",
       "      <td>Seattle-Tacoma-Bellevue, WA MSA</td>\n",
       "    </tr>\n",
       "    <tr>\n",
       "      <th>2</th>\n",
       "      <td>1001</td>\n",
       "      <td>9</td>\n",
       "      <td>surf</td>\n",
       "      <td>20.00</td>\n",
       "      <td>Seattle-Tacoma-Bellevue, WA MSA</td>\n",
       "    </tr>\n",
       "    <tr>\n",
       "      <th>3</th>\n",
       "      <td>1001</td>\n",
       "      <td>10</td>\n",
       "      <td>surf</td>\n",
       "      <td>90.09</td>\n",
       "      <td>Seattle-Tacoma-Bellevue, WA MSA</td>\n",
       "    </tr>\n",
       "    <tr>\n",
       "      <th>4</th>\n",
       "      <td>1001</td>\n",
       "      <td>11</td>\n",
       "      <td>surf</td>\n",
       "      <td>60.00</td>\n",
       "      <td>Seattle-Tacoma-Bellevue, WA MSA</td>\n",
       "    </tr>\n",
       "  </tbody>\n",
       "</table>\n",
       "</div>"
      ],
      "text/plain": [
       "  user_id  month      plan  monthly_income  \\\n",
       "0    1000     12  ultimate           70.00   \n",
       "1    1001      8      surf           20.00   \n",
       "2    1001      9      surf           20.00   \n",
       "3    1001     10      surf           90.09   \n",
       "4    1001     11      surf           60.00   \n",
       "\n",
       "                                    city  \n",
       "0  Atlanta-Sandy Springs-Roswell, GA MSA  \n",
       "1        Seattle-Tacoma-Bellevue, WA MSA  \n",
       "2        Seattle-Tacoma-Bellevue, WA MSA  \n",
       "3        Seattle-Tacoma-Bellevue, WA MSA  \n",
       "4        Seattle-Tacoma-Bellevue, WA MSA  "
      ]
     },
     "execution_count": 142,
     "metadata": {},
     "output_type": "execute_result"
    }
   ],
   "source": [
    "# visualización de datos\n",
    "monthly_income_city.head()"
   ]
  },
  {
   "cell_type": "markdown",
   "metadata": {},
   "source": [
    "Ya con la tabla que necesitamos, procedemos a realizar el filtro necesario:"
   ]
  },
  {
   "cell_type": "code",
   "execution_count": 143,
   "metadata": {},
   "outputs": [],
   "source": [
    "# filtro de ingresos de new york y no new york\n",
    "income_ny = monthly_income_city.query('city == \"New York-Newark-Jersey City, NY-NJ-PA MSA\"')['monthly_income']\n",
    "income_not_ny = monthly_income_city.query('city != \"New York-Newark-Jersey City, NY-NJ-PA MSA\"')['monthly_income']"
   ]
  },
  {
   "cell_type": "markdown",
   "metadata": {},
   "source": [
    "Planteamos las siguiente hipótesis: \n",
    "\n",
    "Hipótesis nula: \n",
    "- El ingreso promedio de los usuarios en el área de estados Nueva York-Nueva Jersey es igual al de los usuarios de otras regiones.\n",
    "\n",
    "Hipótesis alternativa: \n",
    "- El ingreso promedio de los usuarios en el área de estados Nueva York-Nueva Jersey difiere al de los usuarios de otras regiones."
   ]
  },
  {
   "cell_type": "code",
   "execution_count": 144,
   "metadata": {},
   "outputs": [
    {
     "name": "stdout",
     "output_type": "stream",
     "text": [
      "p-value:  0.0435574316213424\n",
      "Rechazamos la hipótesis nula\n"
     ]
    }
   ],
   "source": [
    "# comprobación hipótesis\n",
    "alpha = 0.05\n",
    "results = st.ttest_ind(income_ny, income_not_ny)\n",
    "\n",
    "print(\"p-value: \", results.pvalue)\n",
    "\n",
    "if results.pvalue < alpha:\n",
    "    print('Rechazamos la hipótesis nula')\n",
    "else:\n",
    "    print(\"No rechazamos la hipótesis nula\")"
   ]
  },
  {
   "cell_type": "markdown",
   "metadata": {},
   "source": [
    "El valor p es menor que 0.05, por lo que se rechaza la hipótesis nula. En este caso se comprueba estadísticamente que el ingreso promedio de new york - new jersey en relación con el ingreso promedio del resto de ciudades es diferente. Esto quiere decir que el ingreso de la población de new york es diferente al resto de las ciudades, lo que no sabes es si es mayor o menor."
   ]
  },
  {
   "cell_type": "markdown",
   "metadata": {},
   "source": [
    "## Conclusión general"
   ]
  },
  {
   "cell_type": "markdown",
   "metadata": {},
   "source": [
    "Se analizó todas las tablas que povienen de información de 500 clientes de Megaline, para identificar qué plan les genera un mayor ingreso. \n",
    "\n",
    "De forma general, las tablas estaban relativamente limpias, lo más importante que se realizó a nivel de cambios fue el tipo de dato en las fechas para poder identificar los meses, y así poder obtener información más detallada sobre el uso de minutos de las llamadas, cantidad de SMS enviados y volumen de datos usados. Adicional, se detectó que había registrado datos sobre llamadas perdidas que duraron 0 min o uso de datos con 0 mb consumidos. Todos estos datos no aportaban valor a nuestro análisis por lo que se eliminó. Hay que tomar en cuenta que al eliminar estos datos, hace que se aumente el promedio general por mes de los usuarios, pero la información es más real. \n",
    "\n",
    "Se detectó que en el 2018 tanto surf y ultimate comenzaron con pocos usuarios y fueron aumentando por mes, esto podría ser porque Megaline es una nueva línea telefónica que está ofreciendo 2 nuevas líneas, y justamente quieren analizar en que invertir más la publicidad para atraer más clientes.\n",
    "\n",
    "Surf es el plan básico, con menor valor pero con menor cantidad que ofrece, y ultimate es el tipo premium que por un gran valor, ofrece muchas llamadas, sms y datos. Surf es el plan que más clientes tiene, y se detectó que es el que más ingresos promedio generó en el 2018 para Megaline. En promedio, los usuarios de ultimate consumen casi la misma cantidad de minutos (llamadas), sms y volumen de datos que Surf, pero aquí el problema es que gran parte de los usuarios sobrepasan los datos del plan Surf, pagando adicional al final del mes. Esto es lo que genera un mayor ingreso a Megaline en relación a los clientes de Ultimate. \n",
    "\n",
    "Finalmente se realizó dos pruebas de hipótesis comprobando lo siguiente: \n",
    "- El ingreso promedio de los usuarios entre ultimate y surf si difiere. \n",
    "- El ingreso promedio de los usuarios en el área de estados Nueva York-Nueva Jersey difiere al de los usuarios de otras regiones.\n",
    "\n",
    "Para posterior análisis, se podría identificar si vale la pena que los usuarios paguen ultimate para no pagar tanto mensualmente, pero obviamente esto representaría una pérdida para Megaline. "
   ]
  }
 ],
 "metadata": {
  "ExecuteTimeLog": [
   {
    "duration": 828,
    "start_time": "2021-11-16T09:21:11.304Z"
   },
   {
    "duration": 893,
    "start_time": "2021-11-16T09:21:17.728Z"
   },
   {
    "duration": 1150,
    "start_time": "2021-11-16T09:21:29.568Z"
   },
   {
    "duration": 3,
    "start_time": "2021-11-16T09:24:14.495Z"
   },
   {
    "duration": 120,
    "start_time": "2021-11-16T09:24:46.630Z"
   },
   {
    "duration": 3,
    "start_time": "2021-11-16T09:28:27.882Z"
   },
   {
    "duration": 4,
    "start_time": "2021-11-16T09:29:54.281Z"
   },
   {
    "duration": 3,
    "start_time": "2021-11-16T09:30:45.936Z"
   },
   {
    "duration": 4,
    "start_time": "2021-11-16T09:31:06.300Z"
   },
   {
    "duration": 113,
    "start_time": "2021-11-16T09:31:37.208Z"
   },
   {
    "duration": 143,
    "start_time": "2021-11-16T09:31:48.656Z"
   },
   {
    "duration": 98,
    "start_time": "2021-11-16T09:31:55.678Z"
   },
   {
    "duration": 3,
    "start_time": "2021-11-16T09:32:08.535Z"
   },
   {
    "duration": 111,
    "start_time": "2021-11-16T09:32:10.120Z"
   },
   {
    "duration": 3,
    "start_time": "2021-11-16T09:32:15.732Z"
   },
   {
    "duration": 4,
    "start_time": "2021-11-16T09:32:29.423Z"
   },
   {
    "duration": 3,
    "start_time": "2021-11-16T10:03:03.074Z"
   },
   {
    "duration": 3,
    "start_time": "2021-11-16T10:10:01.288Z"
   },
   {
    "duration": 3,
    "start_time": "2021-11-16T10:10:46.923Z"
   },
   {
    "duration": 121,
    "start_time": "2021-11-16T10:37:46.494Z"
   },
   {
    "duration": 125,
    "start_time": "2021-11-16T10:38:20.632Z"
   },
   {
    "duration": 112,
    "start_time": "2021-11-16T10:46:53.001Z"
   },
   {
    "duration": 110,
    "start_time": "2021-11-16T10:48:25.775Z"
   },
   {
    "duration": 3,
    "start_time": "2021-11-16T10:50:18.720Z"
   },
   {
    "duration": 4,
    "start_time": "2021-11-16T10:50:37.649Z"
   },
   {
    "duration": 2,
    "start_time": "2021-11-16T10:50:51.884Z"
   },
   {
    "duration": 3,
    "start_time": "2021-11-16T10:51:56.237Z"
   },
   {
    "duration": 101,
    "start_time": "2021-11-16T10:53:13.791Z"
   },
   {
    "duration": 3,
    "start_time": "2021-11-16T10:55:59.186Z"
   },
   {
    "duration": 3,
    "start_time": "2021-11-16T10:56:10.751Z"
   },
   {
    "duration": 3,
    "start_time": "2021-11-16T10:56:49.038Z"
   },
   {
    "duration": 3,
    "start_time": "2021-11-16T10:56:49.174Z"
   },
   {
    "duration": 4,
    "start_time": "2021-11-16T10:56:49.414Z"
   },
   {
    "duration": 3,
    "start_time": "2021-11-16T10:56:49.680Z"
   },
   {
    "duration": 3,
    "start_time": "2021-11-16T10:56:50.370Z"
   },
   {
    "duration": 114,
    "start_time": "2021-11-16T10:59:34.518Z"
   },
   {
    "duration": 3,
    "start_time": "2021-11-16T11:01:41.201Z"
   },
   {
    "duration": 116,
    "start_time": "2021-11-16T11:01:48.754Z"
   },
   {
    "duration": 3,
    "start_time": "2021-11-16T11:02:16.685Z"
   },
   {
    "duration": 3,
    "start_time": "2021-11-16T11:02:19.479Z"
   },
   {
    "duration": 3,
    "start_time": "2021-11-16T11:02:47.067Z"
   },
   {
    "duration": 3,
    "start_time": "2021-11-16T11:02:49.353Z"
   },
   {
    "duration": 3,
    "start_time": "2021-11-16T11:03:07.835Z"
   },
   {
    "duration": 3,
    "start_time": "2021-11-16T11:03:07.953Z"
   },
   {
    "duration": 112,
    "start_time": "2021-11-16T11:07:52.072Z"
   },
   {
    "duration": 187,
    "start_time": "2021-11-16T11:09:23.468Z"
   },
   {
    "duration": 4,
    "start_time": "2021-11-16T11:10:01.455Z"
   },
   {
    "duration": 3,
    "start_time": "2021-11-16T11:10:05.069Z"
   },
   {
    "duration": 4,
    "start_time": "2021-11-16T11:10:13.376Z"
   },
   {
    "duration": 3,
    "start_time": "2021-11-16T11:10:14.434Z"
   },
   {
    "duration": 3,
    "start_time": "2021-11-16T11:10:22.853Z"
   },
   {
    "duration": 4,
    "start_time": "2021-11-16T11:27:29.279Z"
   },
   {
    "duration": 4,
    "start_time": "2021-11-16T11:29:08.919Z"
   },
   {
    "duration": 118,
    "start_time": "2021-11-16T11:29:46.703Z"
   },
   {
    "duration": 437,
    "start_time": "2021-11-16T11:36:02.181Z"
   },
   {
    "duration": 157,
    "start_time": "2021-11-16T11:36:14.388Z"
   },
   {
    "duration": 207,
    "start_time": "2021-11-16T11:47:15.898Z"
   },
   {
    "duration": 3,
    "start_time": "2021-11-16T11:53:52.092Z"
   },
   {
    "duration": 3,
    "start_time": "2021-11-16T11:53:52.236Z"
   },
   {
    "duration": 3,
    "start_time": "2021-11-16T11:59:12.005Z"
   },
   {
    "duration": 112,
    "start_time": "2021-11-16T12:00:33.446Z"
   },
   {
    "duration": 3,
    "start_time": "2021-11-16T12:02:14.453Z"
   },
   {
    "duration": 3,
    "start_time": "2021-11-16T12:02:39.512Z"
   },
   {
    "duration": 106,
    "start_time": "2021-11-16T12:03:03.460Z"
   },
   {
    "duration": 3,
    "start_time": "2021-11-17T20:37:21.139Z"
   },
   {
    "duration": 3,
    "start_time": "2021-11-17T20:37:22.229Z"
   },
   {
    "duration": 3,
    "start_time": "2021-11-17T20:38:38.806Z"
   },
   {
    "duration": 3,
    "start_time": "2021-11-17T20:38:41.958Z"
   },
   {
    "duration": 3,
    "start_time": "2021-11-17T20:43:46.551Z"
   },
   {
    "duration": 4,
    "start_time": "2021-11-17T20:58:21.835Z"
   },
   {
    "duration": 3,
    "start_time": "2021-11-17T20:59:21.872Z"
   },
   {
    "duration": 4,
    "start_time": "2021-11-17T20:59:45.352Z"
   },
   {
    "duration": 4,
    "start_time": "2021-11-17T20:59:49.646Z"
   },
   {
    "duration": 159,
    "start_time": "2021-11-17T21:02:26.949Z"
   },
   {
    "duration": 3,
    "start_time": "2021-11-17T21:03:53.461Z"
   },
   {
    "duration": 3,
    "start_time": "2021-11-17T21:03:53.694Z"
   },
   {
    "duration": 3,
    "start_time": "2021-11-17T21:05:28.145Z"
   },
   {
    "duration": 116,
    "start_time": "2021-11-17T21:05:57.787Z"
   },
   {
    "duration": 3,
    "start_time": "2021-11-17T21:06:37.993Z"
   },
   {
    "duration": 3,
    "start_time": "2021-11-17T21:06:38.261Z"
   },
   {
    "duration": 3,
    "start_time": "2021-11-17T21:11:54.358Z"
   },
   {
    "duration": 3,
    "start_time": "2021-11-17T21:12:43.846Z"
   },
   {
    "duration": 4,
    "start_time": "2021-11-17T21:13:08.773Z"
   },
   {
    "duration": 3,
    "start_time": "2021-11-17T21:14:44.441Z"
   },
   {
    "duration": 3,
    "start_time": "2021-11-17T21:15:42.059Z"
   },
   {
    "duration": 4,
    "start_time": "2021-11-17T21:15:51.995Z"
   },
   {
    "duration": 3,
    "start_time": "2021-11-17T21:15:53.923Z"
   },
   {
    "duration": 3,
    "start_time": "2021-11-17T21:15:55.282Z"
   },
   {
    "duration": 3,
    "start_time": "2021-11-17T21:16:28.492Z"
   },
   {
    "duration": 3,
    "start_time": "2021-11-17T21:16:32.603Z"
   },
   {
    "duration": 3,
    "start_time": "2021-11-17T21:17:06.941Z"
   },
   {
    "duration": 98,
    "start_time": "2021-11-17T21:18:05.733Z"
   },
   {
    "duration": 4,
    "start_time": "2021-11-17T21:21:35.255Z"
   },
   {
    "duration": 3,
    "start_time": "2021-11-17T21:21:37.804Z"
   },
   {
    "duration": 4,
    "start_time": "2021-11-17T21:23:06.071Z"
   },
   {
    "duration": 3,
    "start_time": "2021-11-17T21:23:24.799Z"
   },
   {
    "duration": 3,
    "start_time": "2021-11-17T21:23:32.591Z"
   },
   {
    "duration": 98,
    "start_time": "2021-11-17T21:28:31.559Z"
   },
   {
    "duration": 3,
    "start_time": "2021-11-17T21:28:45.448Z"
   },
   {
    "duration": 3,
    "start_time": "2021-11-17T21:29:17.303Z"
   },
   {
    "duration": 3,
    "start_time": "2021-11-17T21:29:29.617Z"
   },
   {
    "duration": 3,
    "start_time": "2021-11-17T21:29:32.681Z"
   },
   {
    "duration": 3,
    "start_time": "2021-11-17T21:36:11.474Z"
   },
   {
    "duration": 3,
    "start_time": "2021-11-17T21:36:14.791Z"
   },
   {
    "duration": 3,
    "start_time": "2021-11-17T21:36:53.943Z"
   },
   {
    "duration": 3,
    "start_time": "2021-11-17T21:36:56.165Z"
   },
   {
    "duration": 4,
    "start_time": "2021-11-17T21:37:16.590Z"
   },
   {
    "duration": 3,
    "start_time": "2021-11-17T21:37:22.702Z"
   },
   {
    "duration": 4,
    "start_time": "2021-11-17T21:38:03.479Z"
   },
   {
    "duration": 3,
    "start_time": "2021-11-17T21:38:08.601Z"
   },
   {
    "duration": 3,
    "start_time": "2021-11-17T21:38:12.928Z"
   },
   {
    "duration": 3,
    "start_time": "2021-11-17T21:38:48.896Z"
   },
   {
    "duration": 2,
    "start_time": "2021-11-17T21:38:49.171Z"
   },
   {
    "duration": 4,
    "start_time": "2021-11-17T21:39:57.889Z"
   },
   {
    "duration": 3,
    "start_time": "2021-11-17T21:39:58.057Z"
   },
   {
    "duration": 3,
    "start_time": "2021-11-17T21:41:20.108Z"
   },
   {
    "duration": 3,
    "start_time": "2021-11-17T21:41:20.629Z"
   },
   {
    "duration": 3,
    "start_time": "2021-11-17T21:42:49.136Z"
   },
   {
    "duration": 3,
    "start_time": "2021-11-17T21:43:15.137Z"
   },
   {
    "duration": 4,
    "start_time": "2021-11-17T21:43:16.766Z"
   },
   {
    "duration": 4,
    "start_time": "2021-11-17T21:43:31.711Z"
   },
   {
    "duration": 3,
    "start_time": "2021-11-17T21:43:36.312Z"
   },
   {
    "duration": 4,
    "start_time": "2021-11-17T21:45:08.825Z"
   },
   {
    "duration": 4,
    "start_time": "2021-11-17T21:45:10.119Z"
   },
   {
    "duration": 4,
    "start_time": "2021-11-17T21:45:13.748Z"
   },
   {
    "duration": 3,
    "start_time": "2021-11-17T21:45:22.219Z"
   },
   {
    "duration": 3,
    "start_time": "2021-11-17T21:45:33.412Z"
   },
   {
    "duration": 2,
    "start_time": "2021-11-17T21:46:01.885Z"
   },
   {
    "duration": 3,
    "start_time": "2021-11-17T21:46:03.628Z"
   },
   {
    "duration": 107,
    "start_time": "2021-11-17T21:47:32.512Z"
   },
   {
    "duration": 103,
    "start_time": "2021-11-17T21:50:36.243Z"
   },
   {
    "duration": 3,
    "start_time": "2021-11-18T06:28:31.440Z"
   },
   {
    "duration": 3,
    "start_time": "2021-11-18T06:29:00.168Z"
   },
   {
    "duration": 3,
    "start_time": "2021-11-18T06:31:27.008Z"
   },
   {
    "duration": 2,
    "start_time": "2021-11-18T06:35:34.288Z"
   },
   {
    "duration": 2,
    "start_time": "2021-11-18T06:38:04.527Z"
   }
  ],
  "kernelspec": {
   "display_name": "Python 3 (ipykernel)",
   "language": "python",
   "name": "python3"
  },
  "language_info": {
   "codemirror_mode": {
    "name": "ipython",
    "version": 3
   },
   "file_extension": ".py",
   "mimetype": "text/x-python",
   "name": "python",
   "nbconvert_exporter": "python",
   "pygments_lexer": "ipython3",
   "version": "3.11.3"
  },
  "toc": {
   "base_numbering": 1,
   "nav_menu": {},
   "number_sections": true,
   "sideBar": false,
   "skip_h1_title": true,
   "title_cell": "Tabla de Contenidos",
   "title_sidebar": "Contents",
   "toc_cell": true,
   "toc_position": {
    "height": "536.364px",
    "left": "21px",
    "top": "110.152px",
    "width": "307.794px"
   },
   "toc_section_display": true,
   "toc_window_display": false
  }
 },
 "nbformat": 4,
 "nbformat_minor": 2
}
